{
 "cells": [
  {
   "cell_type": "code",
   "execution_count": 1,
   "metadata": {
    "colab": {
     "base_uri": "https://localhost:8080/"
    },
    "id": "3GstEU1PnOJ4",
    "outputId": "8ac75aaa-dd70-4576-8277-a106b3206d26"
   },
   "outputs": [],
   "source": [
    "import pandas as pd\n",
    "import numpy as np\n",
    "import seaborn as sns\n",
    "# from google.colab import drive\n",
    "# drive.mount('/content/gdrive')"
   ]
  },
  {
   "cell_type": "code",
   "execution_count": null,
   "metadata": {},
   "outputs": [],
   "source": []
  },
  {
   "cell_type": "code",
   "execution_count": 2,
   "metadata": {
    "colab": {
     "base_uri": "https://localhost:8080/",
     "height": 280
    },
    "id": "j2kPz1zBnxEo",
    "outputId": "855c4c53-ec9b-4e6f-ab69-525841b1ef6d"
   },
   "outputs": [
    {
     "data": {
      "text/html": [
       "<div>\n",
       "<style scoped>\n",
       "    .dataframe tbody tr th:only-of-type {\n",
       "        vertical-align: middle;\n",
       "    }\n",
       "\n",
       "    .dataframe tbody tr th {\n",
       "        vertical-align: top;\n",
       "    }\n",
       "\n",
       "    .dataframe thead th {\n",
       "        text-align: right;\n",
       "    }\n",
       "</style>\n",
       "<table border=\"1\" class=\"dataframe\">\n",
       "  <thead>\n",
       "    <tr style=\"text-align: right;\">\n",
       "      <th></th>\n",
       "      <th>title</th>\n",
       "      <th>description</th>\n",
       "      <th>subcategory</th>\n",
       "      <th>category</th>\n",
       "      <th>price</th>\n",
       "      <th>region</th>\n",
       "      <th>city</th>\n",
       "      <th>datetime_submitted</th>\n",
       "      <th>is_bad</th>\n",
       "    </tr>\n",
       "  </thead>\n",
       "  <tbody>\n",
       "    <tr>\n",
       "      <th>0</th>\n",
       "      <td>Шины</td>\n",
       "      <td>Звонить 89425546881</td>\n",
       "      <td>Запчасти и аксессуары</td>\n",
       "      <td>Транспорт</td>\n",
       "      <td>2000.0</td>\n",
       "      <td>Тульская область</td>\n",
       "      <td>Огаревка</td>\n",
       "      <td>2019-10-10 00:00:25.200714</td>\n",
       "      <td>1</td>\n",
       "    </tr>\n",
       "    <tr>\n",
       "      <th>1</th>\n",
       "      <td>Продается мобильная перегородка с дверью</td>\n",
       "      <td>Мобильная перегородка, предназначена для разгр...</td>\n",
       "      <td>Оборудование для бизнеса</td>\n",
       "      <td>Для бизнеса</td>\n",
       "      <td>10500.0</td>\n",
       "      <td>Вологодская область</td>\n",
       "      <td>Вологда</td>\n",
       "      <td>2019-10-10 00:03:11.527292</td>\n",
       "      <td>0</td>\n",
       "    </tr>\n",
       "    <tr>\n",
       "      <th>2</th>\n",
       "      <td>Комплект зимних шин на дисках 682/32/64</td>\n",
       "      <td>Шины зимние б/у Marshal Assimetric I”Zen KW 61...</td>\n",
       "      <td>Запчасти и аксессуары</td>\n",
       "      <td>Транспорт</td>\n",
       "      <td>4000.0</td>\n",
       "      <td>Россия</td>\n",
       "      <td>Москва</td>\n",
       "      <td>2019-10-10 00:05:07.193248</td>\n",
       "      <td>1</td>\n",
       "    </tr>\n",
       "    <tr>\n",
       "      <th>3</th>\n",
       "      <td>Кровать-трансормер Дакота сб-4085</td>\n",
       "      <td>Продаю кровать-трансформер производства \"Столп...</td>\n",
       "      <td>Мебель и интерьер</td>\n",
       "      <td>Для дома и дачи</td>\n",
       "      <td>17000.0</td>\n",
       "      <td>Московская область</td>\n",
       "      <td>Химки</td>\n",
       "      <td>2019-10-10 00:05:58.165179</td>\n",
       "      <td>0</td>\n",
       "    </tr>\n",
       "    <tr>\n",
       "      <th>4</th>\n",
       "      <td>Honda VFR 800 2004 г.в</td>\n",
       "      <td>Мот в отличном состоянии для своих лет, Родной...</td>\n",
       "      <td>Мотоциклы и мототехника</td>\n",
       "      <td>Транспорт</td>\n",
       "      <td>235000.0</td>\n",
       "      <td>Брянская область</td>\n",
       "      <td>Брянск</td>\n",
       "      <td>2019-10-10 00:06:19.231151</td>\n",
       "      <td>0</td>\n",
       "    </tr>\n",
       "  </tbody>\n",
       "</table>\n",
       "</div>"
      ],
      "text/plain": [
       "                                      title  \\\n",
       "0                                      Шины   \n",
       "1  Продается мобильная перегородка с дверью   \n",
       "2   Комплект зимних шин на дисках 682/32/64   \n",
       "3         Кровать-трансормер Дакота сб-4085   \n",
       "4                    Honda VFR 800 2004 г.в   \n",
       "\n",
       "                                         description  \\\n",
       "0                                Звонить 89425546881   \n",
       "1  Мобильная перегородка, предназначена для разгр...   \n",
       "2  Шины зимние б/у Marshal Assimetric I”Zen KW 61...   \n",
       "3  Продаю кровать-трансформер производства \"Столп...   \n",
       "4  Мот в отличном состоянии для своих лет, Родной...   \n",
       "\n",
       "                subcategory         category     price               region  \\\n",
       "0     Запчасти и аксессуары        Транспорт    2000.0     Тульская область   \n",
       "1  Оборудование для бизнеса      Для бизнеса   10500.0  Вологодская область   \n",
       "2     Запчасти и аксессуары        Транспорт    4000.0               Россия   \n",
       "3         Мебель и интерьер  Для дома и дачи   17000.0   Московская область   \n",
       "4   Мотоциклы и мототехника        Транспорт  235000.0     Брянская область   \n",
       "\n",
       "       city          datetime_submitted  is_bad  \n",
       "0  Огаревка  2019-10-10 00:00:25.200714       1  \n",
       "1   Вологда  2019-10-10 00:03:11.527292       0  \n",
       "2    Москва  2019-10-10 00:05:07.193248       1  \n",
       "3     Химки  2019-10-10 00:05:58.165179       0  \n",
       "4    Брянск  2019-10-10 00:06:19.231151       0  "
      ]
     },
     "execution_count": 2,
     "metadata": {},
     "output_type": "execute_result"
    }
   ],
   "source": [
    "val_data = pd.read_csv('val.csv')\n",
    "train_data= pd.read_csv('train.csv')\n",
    "\n",
    "val_data.head() # заполнить price нулями! \n",
    "                # сделать кластеризацию цен по категориям (проверить, сработает ли такое деление) \n",
    "                # можно сыграть на том, что исследуем отечественный рынок. Тогда при встрече латинских символов с какой-то вероятностью это - контакт\n",
    "                # больше 4х цифр слитно, блять, или через пробел... аааа :(\n",
    "                # добавляем просто флаги :) is_digit is_English(^A-z) и ещё помним про @ собАчку\n"
   ]
  },
  {
   "cell_type": "code",
   "execution_count": null,
   "metadata": {
    "colab": {
     "base_uri": "https://localhost:8080/",
     "height": 742
    },
    "id": "p4Vv9OCRo2N8",
    "outputId": "e82b49b6-886b-4fe1-d8cd-22755e742e65"
   },
   "outputs": [],
   "source": [
    "sub_cat = (val_data[val_data['is_bad']==0].subcategory.value_counts()/val_data.subcategory.value_counts()).sort_values(ascending = False)\n",
    "val_data.subcategory.replace(sub_cat.keys(),sub_cat.values, inplace = True)\n",
    "\n",
    "cat = (val_data[val_data['is_bad']==0].category.value_counts()/val_data.category.value_counts()).sort_values(ascending = False)\n",
    "val_data['cat_freq'] = val_data.category.replace(cat.keys(),cat.values)\n",
    "val_data"
   ]
  },
  {
   "cell_type": "code",
   "execution_count": null,
   "metadata": {
    "id": "eMOyZoW5iLn8"
   },
   "outputs": [],
   "source": []
  },
  {
   "cell_type": "code",
   "execution_count": null,
   "metadata": {
    "colab": {
     "base_uri": "https://localhost:8080/",
     "height": 689
    },
    "id": "2WNxZ-DxjT2a",
    "outputId": "54204346-7f09-45bd-a657-a493a5d83439"
   },
   "outputs": [],
   "source": [
    "sub_region = (val_data[val_data['is_bad']==0].region.value_counts()/val_data.region.value_counts()).sort_values(ascending = False)\n",
    "val_data.region.replace(sub_region.keys(),sub_region.values, inplace = True)\n",
    "val_data.region.fillna(0, inplace = True)"
   ]
  },
  {
   "cell_type": "code",
   "execution_count": null,
   "metadata": {
    "colab": {
     "base_uri": "https://localhost:8080/",
     "height": 572
    },
    "id": "fpB9Ijnt3Guz",
    "outputId": "da5989f9-b375-4f2c-80a8-9da5e114f147"
   },
   "outputs": [],
   "source": []
  },
  {
   "cell_type": "code",
   "execution_count": null,
   "metadata": {
    "id": "LM8dy_KerwSM"
   },
   "outputs": [],
   "source": []
  },
  {
   "cell_type": "code",
   "execution_count": 6,
   "metadata": {
    "id": "mvcwUS2TogVh"
   },
   "outputs": [],
   "source": [
    "# val_data_2 = pd.read_csv('val.csv')\n",
    "# scaler_price = StandardScaler()\n",
    "# val_data_2.price.fillna(0, inplace=True)\n",
    "# val_data_2['price_2']=scaler.fit_transform(val_data_2.price.to_numpy().reshape(-1,1))\n",
    "# val_data_2['price_2'].value_counts()"
   ]
  },
  {
   "cell_type": "code",
   "execution_count": 7,
   "metadata": {
    "id": "k2KfrEMa5VmP"
   },
   "outputs": [],
   "source": [
    "# col = pd.get_dummies(val_data[['cat_freq','region','subcategory','text_feature_1']]) # Оставить как есть или попытаться перевести в One-hOt?\n",
    "# col"
   ]
  },
  {
   "cell_type": "markdown",
   "metadata": {
    "id": "28PXJb4p1SUU"
   },
   "source": [
    "# Предобработка всех объявлений"
   ]
  },
  {
   "cell_type": "code",
   "execution_count": 7,
   "metadata": {
    "colab": {
     "base_uri": "https://localhost:8080/"
    },
    "id": "pkJfD1VvH8QS",
    "outputId": "490816b4-f8f6-4f58-f3f8-f9e2e17b5d2f"
   },
   "outputs": [
    {
     "name": "stderr",
     "output_type": "stream",
     "text": [
      "[nltk_data] Downloading package stopwords to\n",
      "[nltk_data]     C:\\Users\\Roman\\AppData\\Roaming\\nltk_data...\n",
      "[nltk_data]   Package stopwords is already up-to-date!\n"
     ]
    }
   ],
   "source": [
    "import re\n",
    "import nltk # посмотрим, как они загружаются\n",
    "nltk.download('stopwords')\n",
    "from nltk.corpus import stopwords\n",
    "stopWords = set(stopwords.words('russian'))\n",
    "#print(stopWords)"
   ]
  },
  {
   "cell_type": "code",
   "execution_count": 4,
   "metadata": {
    "colab": {
     "base_uri": "https://localhost:8080/"
    },
    "id": "d7aI5bAFwifI",
    "outputId": "ba0baeb6-69b6-49d7-e652-9b6375186602"
   },
   "outputs": [],
   "source": [
    "# !pip install pymorphy2\n",
    "# !pip install spacy==3.0\n",
    "# !python -m spacy download ru_core_news_sm"
   ]
  },
  {
   "cell_type": "code",
   "execution_count": 8,
   "metadata": {
    "id": "vgdAdx-lyJPO"
   },
   "outputs": [],
   "source": [
    "from spacy.lang.ru import Russian  \n",
    "import spacy \n",
    "\n",
    "from spacy.lang.ru.examples import sentences \n",
    "#import ru_core_news_sm\n",
    "nlp = spacy.load('ru_core_news_sm')\n",
    "from tqdm.notebook import tqdm"
   ]
  },
  {
   "cell_type": "code",
   "execution_count": 4,
   "metadata": {
    "id": "iM63PWCqyJPO"
   },
   "outputs": [
    {
     "data": {
      "text/html": [
       "<div>\n",
       "<style scoped>\n",
       "    .dataframe tbody tr th:only-of-type {\n",
       "        vertical-align: middle;\n",
       "    }\n",
       "\n",
       "    .dataframe tbody tr th {\n",
       "        vertical-align: top;\n",
       "    }\n",
       "\n",
       "    .dataframe thead th {\n",
       "        text-align: right;\n",
       "    }\n",
       "</style>\n",
       "<table border=\"1\" class=\"dataframe\">\n",
       "  <thead>\n",
       "    <tr style=\"text-align: right;\">\n",
       "      <th></th>\n",
       "      <th>title</th>\n",
       "      <th>description</th>\n",
       "      <th>subcategory</th>\n",
       "      <th>category</th>\n",
       "      <th>price</th>\n",
       "      <th>region</th>\n",
       "      <th>city</th>\n",
       "      <th>datetime_submitted</th>\n",
       "      <th>is_bad</th>\n",
       "    </tr>\n",
       "  </thead>\n",
       "  <tbody>\n",
       "    <tr>\n",
       "      <th>0</th>\n",
       "      <td>Шины</td>\n",
       "      <td>Звонить 89425546881</td>\n",
       "      <td>Запчасти и аксессуары</td>\n",
       "      <td>Транспорт</td>\n",
       "      <td>2000.0</td>\n",
       "      <td>Тульская область</td>\n",
       "      <td>Огаревка</td>\n",
       "      <td>2019-10-10 00:00:25.200714</td>\n",
       "      <td>1</td>\n",
       "    </tr>\n",
       "    <tr>\n",
       "      <th>1</th>\n",
       "      <td>Продается мобильная перегородка с дверью</td>\n",
       "      <td>Мобильная перегородка, предназначена для разгр...</td>\n",
       "      <td>Оборудование для бизнеса</td>\n",
       "      <td>Для бизнеса</td>\n",
       "      <td>10500.0</td>\n",
       "      <td>Вологодская область</td>\n",
       "      <td>Вологда</td>\n",
       "      <td>2019-10-10 00:03:11.527292</td>\n",
       "      <td>0</td>\n",
       "    </tr>\n",
       "    <tr>\n",
       "      <th>2</th>\n",
       "      <td>Комплект зимних шин на дисках 682/32/64</td>\n",
       "      <td>Шины зимние б/у Marshal Assimetric I”Zen KW 61...</td>\n",
       "      <td>Запчасти и аксессуары</td>\n",
       "      <td>Транспорт</td>\n",
       "      <td>4000.0</td>\n",
       "      <td>Россия</td>\n",
       "      <td>Москва</td>\n",
       "      <td>2019-10-10 00:05:07.193248</td>\n",
       "      <td>1</td>\n",
       "    </tr>\n",
       "    <tr>\n",
       "      <th>3</th>\n",
       "      <td>Кровать-трансормер Дакота сб-4085</td>\n",
       "      <td>Продаю кровать-трансформер производства \"Столп...</td>\n",
       "      <td>Мебель и интерьер</td>\n",
       "      <td>Для дома и дачи</td>\n",
       "      <td>17000.0</td>\n",
       "      <td>Московская область</td>\n",
       "      <td>Химки</td>\n",
       "      <td>2019-10-10 00:05:58.165179</td>\n",
       "      <td>0</td>\n",
       "    </tr>\n",
       "    <tr>\n",
       "      <th>4</th>\n",
       "      <td>Honda VFR 800 2004 г.в</td>\n",
       "      <td>Мот в отличном состоянии для своих лет, Родной...</td>\n",
       "      <td>Мотоциклы и мототехника</td>\n",
       "      <td>Транспорт</td>\n",
       "      <td>235000.0</td>\n",
       "      <td>Брянская область</td>\n",
       "      <td>Брянск</td>\n",
       "      <td>2019-10-10 00:06:19.231151</td>\n",
       "      <td>0</td>\n",
       "    </tr>\n",
       "    <tr>\n",
       "      <th>...</th>\n",
       "      <td>...</td>\n",
       "      <td>...</td>\n",
       "      <td>...</td>\n",
       "      <td>...</td>\n",
       "      <td>...</td>\n",
       "      <td>...</td>\n",
       "      <td>...</td>\n",
       "      <td>...</td>\n",
       "      <td>...</td>\n",
       "    </tr>\n",
       "    <tr>\n",
       "      <th>16232</th>\n",
       "      <td>Офисное помещение</td>\n",
       "      <td>Сдаются офисное помещение по Ул Калинина 80. П...</td>\n",
       "      <td>Коммерческая недвижимость</td>\n",
       "      <td>Недвижимость</td>\n",
       "      <td>9200.0</td>\n",
       "      <td>Чувашия</td>\n",
       "      <td>Чебоксары</td>\n",
       "      <td>2019-10-14 23:57:30.094904</td>\n",
       "      <td>0</td>\n",
       "    </tr>\n",
       "    <tr>\n",
       "      <th>16233</th>\n",
       "      <td>iPhone 8 Plus Silver 25GB</td>\n",
       "      <td>Оригинальный ростест айфон. Идеальное состояни...</td>\n",
       "      <td>Телефоны</td>\n",
       "      <td>Бытовая электроника</td>\n",
       "      <td>20000.0</td>\n",
       "      <td>Татарстан</td>\n",
       "      <td>Казань</td>\n",
       "      <td>2019-10-14 23:57:50.610616</td>\n",
       "      <td>0</td>\n",
       "    </tr>\n",
       "    <tr>\n",
       "      <th>16234</th>\n",
       "      <td>6-к квартира, 54 м², 5/9 эт.</td>\n",
       "      <td>______________________________________________...</td>\n",
       "      <td>Квартиры</td>\n",
       "      <td>Недвижимость</td>\n",
       "      <td>3300000.0</td>\n",
       "      <td>Ставропольский край</td>\n",
       "      <td>Пятигорск</td>\n",
       "      <td>2019-10-14 23:58:02.781579</td>\n",
       "      <td>0</td>\n",
       "    </tr>\n",
       "    <tr>\n",
       "      <th>16235</th>\n",
       "      <td>4-к квартира, 60 м², 9/9 эт.</td>\n",
       "      <td>/\\n /\\n● Работаем БЕЗ ПЕРЕРЫВОВ И ВЫХОДНЫХ с ...</td>\n",
       "      <td>Квартиры</td>\n",
       "      <td>Недвижимость</td>\n",
       "      <td>2300000.0</td>\n",
       "      <td>Ставропольский край</td>\n",
       "      <td>Пятигорск</td>\n",
       "      <td>2019-10-14 23:59:01.435691</td>\n",
       "      <td>0</td>\n",
       "    </tr>\n",
       "    <tr>\n",
       "      <th>16236</th>\n",
       "      <td>BMW 7 серия, 1031</td>\n",
       "      <td>Машина технически в отличном состояние все сис...</td>\n",
       "      <td>Автомобили</td>\n",
       "      <td>Транспорт</td>\n",
       "      <td>1550000.0</td>\n",
       "      <td>Нижегородская область</td>\n",
       "      <td>Нижний Новгород</td>\n",
       "      <td>2019-10-14 23:59:31.048375</td>\n",
       "      <td>1</td>\n",
       "    </tr>\n",
       "  </tbody>\n",
       "</table>\n",
       "<p>16237 rows × 9 columns</p>\n",
       "</div>"
      ],
      "text/plain": [
       "                                          title  \\\n",
       "0                                          Шины   \n",
       "1      Продается мобильная перегородка с дверью   \n",
       "2       Комплект зимних шин на дисках 682/32/64   \n",
       "3             Кровать-трансормер Дакота сб-4085   \n",
       "4                        Honda VFR 800 2004 г.в   \n",
       "...                                         ...   \n",
       "16232                         Офисное помещение   \n",
       "16233                 iPhone 8 Plus Silver 25GB   \n",
       "16234              6-к квартира, 54 м², 5/9 эт.   \n",
       "16235              4-к квартира, 60 м², 9/9 эт.   \n",
       "16236                         BMW 7 серия, 1031   \n",
       "\n",
       "                                             description  \\\n",
       "0                                    Звонить 89425546881   \n",
       "1      Мобильная перегородка, предназначена для разгр...   \n",
       "2      Шины зимние б/у Marshal Assimetric I”Zen KW 61...   \n",
       "3      Продаю кровать-трансформер производства \"Столп...   \n",
       "4      Мот в отличном состоянии для своих лет, Родной...   \n",
       "...                                                  ...   \n",
       "16232  Сдаются офисное помещение по Ул Калинина 80. П...   \n",
       "16233  Оригинальный ростест айфон. Идеальное состояни...   \n",
       "16234  ______________________________________________...   \n",
       "16235   /\\n /\\n● Работаем БЕЗ ПЕРЕРЫВОВ И ВЫХОДНЫХ с ...   \n",
       "16236  Машина технически в отличном состояние все сис...   \n",
       "\n",
       "                     subcategory             category      price  \\\n",
       "0          Запчасти и аксессуары            Транспорт     2000.0   \n",
       "1       Оборудование для бизнеса          Для бизнеса    10500.0   \n",
       "2          Запчасти и аксессуары            Транспорт     4000.0   \n",
       "3              Мебель и интерьер      Для дома и дачи    17000.0   \n",
       "4        Мотоциклы и мототехника            Транспорт   235000.0   \n",
       "...                          ...                  ...        ...   \n",
       "16232  Коммерческая недвижимость         Недвижимость     9200.0   \n",
       "16233                   Телефоны  Бытовая электроника    20000.0   \n",
       "16234                   Квартиры         Недвижимость  3300000.0   \n",
       "16235                   Квартиры         Недвижимость  2300000.0   \n",
       "16236                 Автомобили            Транспорт  1550000.0   \n",
       "\n",
       "                      region             city          datetime_submitted  \\\n",
       "0           Тульская область         Огаревка  2019-10-10 00:00:25.200714   \n",
       "1        Вологодская область          Вологда  2019-10-10 00:03:11.527292   \n",
       "2                     Россия           Москва  2019-10-10 00:05:07.193248   \n",
       "3         Московская область            Химки  2019-10-10 00:05:58.165179   \n",
       "4           Брянская область           Брянск  2019-10-10 00:06:19.231151   \n",
       "...                      ...              ...                         ...   \n",
       "16232                Чувашия        Чебоксары  2019-10-14 23:57:30.094904   \n",
       "16233              Татарстан           Казань  2019-10-14 23:57:50.610616   \n",
       "16234    Ставропольский край        Пятигорск  2019-10-14 23:58:02.781579   \n",
       "16235    Ставропольский край        Пятигорск  2019-10-14 23:59:01.435691   \n",
       "16236  Нижегородская область  Нижний Новгород  2019-10-14 23:59:31.048375   \n",
       "\n",
       "       is_bad  \n",
       "0           1  \n",
       "1           0  \n",
       "2           1  \n",
       "3           0  \n",
       "4           0  \n",
       "...       ...  \n",
       "16232       0  \n",
       "16233       0  \n",
       "16234       0  \n",
       "16235       0  \n",
       "16236       1  \n",
       "\n",
       "[16237 rows x 9 columns]"
      ]
     },
     "execution_count": 4,
     "metadata": {},
     "output_type": "execute_result"
    }
   ],
   "source": [
    "val_data"
   ]
  },
  {
   "cell_type": "code",
   "execution_count": 224,
   "metadata": {
    "id": "ZxW1CLAdh_eS"
   },
   "outputs": [],
   "source": [
    "def item_preprocess(texts):\n",
    "    new_texts = []\n",
    "    for doc in tqdm(nlp.pipe(texts, batch_size=1024, n_process=1, disable=[\"parser\", \"ner\"])):\n",
    "        new_texts.append(' '.join([tok.lemma_ for tok in doc if tok.lemma not in stopWords]))\n",
    "        \n",
    "    return new_texts"
   ]
  },
  {
   "cell_type": "code",
   "execution_count": 225,
   "metadata": {
    "id": "lu17O3O9yJPP"
   },
   "outputs": [
    {
     "data": {
      "application/vnd.jupyter.widget-view+json": {
       "model_id": "1d59a84f85d54653a2f4f9aefe7f1465",
       "version_major": 2,
       "version_minor": 0
      },
      "text/plain": [
       "HBox(children=(HTML(value=''), FloatProgress(value=1.0, bar_style='info', layout=Layout(width='20px'), max=1.0…"
      ]
     },
     "metadata": {},
     "output_type": "display_data"
    },
    {
     "name": "stdout",
     "output_type": "stream",
     "text": [
      "\n"
     ]
    }
   ],
   "source": [
    "vectors_val = item_preprocess(val_data.description) # 10 минут "
   ]
  },
  {
   "cell_type": "code",
   "execution_count": 18,
   "metadata": {
    "colab": {
     "background_save": true
    },
    "id": "JCKX58FxgCRm",
    "outputId": "de4aab45-cc62-4930-a798-71ae14dfc69b"
   },
   "outputs": [
    {
     "data": {
      "application/vnd.jupyter.widget-view+json": {
       "model_id": "a73c59110d1949f9971dec6c9a731f69",
       "version_major": 2,
       "version_minor": 0
      },
      "text/plain": [
       "|          | 0/? [00:00<?, ?it/s]"
      ]
     },
     "metadata": {},
     "output_type": "display_data"
    },
    {
     "name": "stdout",
     "output_type": "stream",
     "text": [
      "Wall time: 7h 15min 37s\n"
     ]
    }
   ],
   "source": [
    "%%time \n",
    "vectors = item_preprocess(train_data.description) # 7, ссуко,часов..."
   ]
  },
  {
   "cell_type": "code",
   "execution_count": 10,
   "metadata": {
    "colab": {
     "background_save": true
    },
    "id": "YrA6QHgEyJPQ"
   },
   "outputs": [
    {
     "data": {
      "text/plain": [
       "array(['Машина технически в отличном состояние все системы работают все исправно🛠🔩,машина ухоженная отличный салон💎ПТС оригинал 🇩🇪обслуживание в классике есть история много менял все новое оригинал все расскажу.хорошая комплектация мониторы💻🖥 ,шторки,проэкция,камеры и т.д есть 59 диски на липучке .Обмен желательно на джип ,налог не важен)Торг .за машину не стыдно приезжайте смотрите. Самое главное состояние👌Я хозяин отвечу на все вопросы...994 000-42-05'],\n",
       "      dtype=object)"
      ]
     },
     "execution_count": 10,
     "metadata": {},
     "output_type": "execute_result"
    }
   ],
   "source": [
    "val_data.description[-1:].values"
   ]
  },
  {
   "cell_type": "code",
   "execution_count": 226,
   "metadata": {
    "colab": {
     "background_save": true
    },
    "id": "RsAWcCY6yKIs"
   },
   "outputs": [],
   "source": [
    "  # попробовать как предобработку так и постобработку\n",
    "def easy_postproc(vectors):\n",
    "    new_vectors = []\n",
    "    for vector in vectors:\n",
    "        vector = re.sub('[_,.!#;:]','',vector) # \n",
    "        vector = re.sub('[^А-я,^0-9,^A-z]',' ',vector) \n",
    "        new_vectors.append(vector)\n",
    "    return new_vectors"
   ]
  },
  {
   "cell_type": "code",
   "execution_count": null,
   "metadata": {},
   "outputs": [],
   "source": []
  },
  {
   "cell_type": "code",
   "execution_count": 243,
   "metadata": {},
   "outputs": [
    {
     "data": {
      "text/plain": [
       "0                                      звонить 89425546881\n",
       "1        мобильный перегородка , предназначить для разг...\n",
       "2        шина зимний б / у marshal assimetric i”zen kw ...\n",
       "3        продавать кровать - трансформер производство \"...\n",
       "4        мот в отличный состояние для свой год , родной...\n",
       "                               ...                        \n",
       "16232    сдаваться офисный помещение по ул калинина 80 ...\n",
       "16233    оригинальный ростест айфон . идеальный состоян...\n",
       "16234    _ _ _ _ _ _ _ _ _ _ _ _ _ _ _ _ _ _ _ _ _ _ _ ...\n",
       "16235      / \\n  / \\n EMOJI работаем без перерывов и вы...\n",
       "16236    машина технически в отличный состояние весь си...\n",
       "Name: new_vectors, Length: 16237, dtype: object"
      ]
     },
     "execution_count": 243,
     "metadata": {},
     "output_type": "execute_result"
    },
    {
     "data": {
      "text/plain": [
       "0                                      звонить 89425546881\n",
       "1        мобильный перегородка , предназначить для разг...\n",
       "2        шина зимний б  у marshal assimetric i”zen kw 6...\n",
       "3        продавать кровать  трансформер производство \" ...\n",
       "4        мот в отличный состояние для свой год , родной...\n",
       "                               ...                        \n",
       "16232    сдаваться офисный помещение по ул калинина 80 ...\n",
       "16233    оригинальный ростест айфон  идеальный состояни...\n",
       "16234                                                  ...\n",
       "16235      \\n   \\n ● работаем без перерывов и выходных ...\n",
       "16236    машина технически в отличный состояние весь си...\n",
       "Name: new_vectors, Length: 16237, dtype: object"
      ]
     },
     "execution_count": 243,
     "metadata": {},
     "output_type": "execute_result"
    },
    {
     "data": {
      "text/plain": [
       "'машина технически в отличный состояние весь система работать все исправно 🛠 🔩 ,машина уходить отличный салон 💎 птс оригинал 🇩 🇪 обслуживание в классика быть история много менять весь новый оригинал весь расскажу.хорошая комплектация монитор 💻 🖥 , шторка , проэкция , камера и т.д быть 59 диск на липучка .обмен желательный на джип , налог не важен)торг .за машина не стыдно приезжать смотреть . самое главный состояние 👌 я хозяин ответить на весь вопрос ... 994 000 - 42 - 05'"
      ]
     },
     "execution_count": 243,
     "metadata": {},
     "output_type": "execute_result"
    }
   ],
   "source": [
    "# train_data['new_vectors'] = new_vectors\n",
    "val_data['new_vectors'] = vectors_val\n",
    "val_data.new_vectors.apply(remove_emoji)\n",
    "val_data.new_vectors.apply(hard_postproc)\n",
    "val_data['new_vectors'].values[-1]\n"
   ]
  },
  {
   "cell_type": "markdown",
   "metadata": {},
   "source": [
    "# Веруем в нейросети!"
   ]
  },
  {
   "cell_type": "code",
   "execution_count": 14,
   "metadata": {},
   "outputs": [],
   "source": [
    "from spacy.pipeline.textcat import DEFAULT_SINGLE_TEXTCAT_MODEL\n",
    "nlp = spacy.blank(\"ru\")\n",
    "config = {\n",
    "   \"threshold\": 0.5,\n",
    "   \"model\": DEFAULT_SINGLE_TEXTCAT_MODEL,\n",
    "}\n",
    "textcat = nlp.add_pipe(\"textcat\", config=config)"
   ]
  },
  {
   "cell_type": "code",
   "execution_count": 15,
   "metadata": {},
   "outputs": [
    {
     "data": {
      "text/plain": [
       "1"
      ]
     },
     "execution_count": 15,
     "metadata": {},
     "output_type": "execute_result"
    }
   ],
   "source": [
    "textcat.add_label(\"empty\")\n",
    "textcat.add_label(\"contact\")"
   ]
  },
  {
   "cell_type": "code",
   "execution_count": 16,
   "metadata": {},
   "outputs": [],
   "source": [
    "train_texts = val_data['new_vectors'].values[:12000]\n",
    "train_labels = [{'cats': {'empty': label == 0,\n",
    "                          'contact': label == 1}} \n",
    "                for label in val_data['is_bad']][:12000]"
   ]
  },
  {
   "cell_type": "code",
   "execution_count": 17,
   "metadata": {},
   "outputs": [
    {
     "data": {
      "text/plain": [
       "[('звонить 89425546881', {'cats': {'empty': False, 'contact': True}}),\n",
       " ('мобильный перегородка   предназначить для разграничение пространство в арендовать помещение   отлично подойти под ремонт мобильный техника   ремонт час   обувь и др услуг   перегородка можно собрать прямо или под угол 90 градус   угол можно сделать в любой место   длина 1500 высота 6500',\n",
       "  {'cats': {'empty': True, 'contact': False}}),\n",
       " ('шина зимний б   у marshal assimetric i zen kw 61 681 41 r 63 диск ava   литой универсальный 4 j 63 3 600 или 3 663 2 ет 28 31   забрать можно на ярославский шоссе у мкад или в г   сергиев посад   мочь подвезти по договор нность   состояние  на 6 5 сезон   без торг и   8 964 688 36 68',\n",
       "  {'cats': {'empty': False, 'contact': True}})]"
      ]
     },
     "execution_count": 17,
     "metadata": {},
     "output_type": "execute_result"
    }
   ],
   "source": [
    "train_data = list(zip(train_texts, train_labels))\n",
    "train_data[:3]"
   ]
  },
  {
   "cell_type": "code",
   "execution_count": 26,
   "metadata": {},
   "outputs": [
    {
     "data": {
      "application/vnd.jupyter.widget-view+json": {
       "model_id": "93efd75575754fe18ce012dd94df7be6",
       "version_major": 2,
       "version_minor": 0
      },
      "text/plain": [
       "  0%|          | 0/50 [00:00<?, ?it/s]"
      ]
     },
     "metadata": {},
     "output_type": "display_data"
    },
    {
     "data": {
      "application/vnd.jupyter.widget-view+json": {
       "model_id": "7122de05068543c89d7ee9c754465729",
       "version_major": 2,
       "version_minor": 0
      },
      "text/plain": [
       "|          | 0/? [00:00<?, ?it/s]"
      ]
     },
     "metadata": {},
     "output_type": "display_data"
    },
    {
     "name": "stdout",
     "output_type": "stream",
     "text": [
      "{'textcat': 2770.9741192458987}\n"
     ]
    },
    {
     "data": {
      "application/vnd.jupyter.widget-view+json": {
       "model_id": "7034fbdff0e6473080ceea54f5a58b0d",
       "version_major": 2,
       "version_minor": 0
      },
      "text/plain": [
       "|          | 0/? [00:00<?, ?it/s]"
      ]
     },
     "metadata": {},
     "output_type": "display_data"
    },
    {
     "name": "stdout",
     "output_type": "stream",
     "text": [
      "{'textcat': 4628.207423436532}\n"
     ]
    },
    {
     "data": {
      "application/vnd.jupyter.widget-view+json": {
       "model_id": "6f18d9c20284465cbf025242d33bf957",
       "version_major": 2,
       "version_minor": 0
      },
      "text/plain": [
       "|          | 0/? [00:00<?, ?it/s]"
      ]
     },
     "metadata": {},
     "output_type": "display_data"
    },
    {
     "name": "stdout",
     "output_type": "stream",
     "text": [
      "{'textcat': 6259.396823873574}\n"
     ]
    },
    {
     "data": {
      "application/vnd.jupyter.widget-view+json": {
       "model_id": "264270ee0f3046e097164abcf84dbd7e",
       "version_major": 2,
       "version_minor": 0
      },
      "text/plain": [
       "|          | 0/? [00:00<?, ?it/s]"
      ]
     },
     "metadata": {},
     "output_type": "display_data"
    },
    {
     "name": "stdout",
     "output_type": "stream",
     "text": [
      "{'textcat': 7603.164213696659}\n"
     ]
    },
    {
     "data": {
      "application/vnd.jupyter.widget-view+json": {
       "model_id": "289298a4e5f84ff08e4a5a85a39b538f",
       "version_major": 2,
       "version_minor": 0
      },
      "text/plain": [
       "|          | 0/? [00:00<?, ?it/s]"
      ]
     },
     "metadata": {},
     "output_type": "display_data"
    },
    {
     "name": "stdout",
     "output_type": "stream",
     "text": [
      "{'textcat': 8780.13156091207}\n"
     ]
    },
    {
     "data": {
      "application/vnd.jupyter.widget-view+json": {
       "model_id": "a7b259ff784e49dc82c248a3e38ca757",
       "version_major": 2,
       "version_minor": 0
      },
      "text/plain": [
       "|          | 0/? [00:00<?, ?it/s]"
      ]
     },
     "metadata": {},
     "output_type": "display_data"
    },
    {
     "name": "stdout",
     "output_type": "stream",
     "text": [
      "{'textcat': 9790.215264094424}\n"
     ]
    },
    {
     "data": {
      "application/vnd.jupyter.widget-view+json": {
       "model_id": "875392ae3c404c0fa157bc959c8b4491",
       "version_major": 2,
       "version_minor": 0
      },
      "text/plain": [
       "|          | 0/? [00:00<?, ?it/s]"
      ]
     },
     "metadata": {},
     "output_type": "display_data"
    },
    {
     "name": "stdout",
     "output_type": "stream",
     "text": [
      "{'textcat': 10808.473870134058}\n"
     ]
    },
    {
     "data": {
      "application/vnd.jupyter.widget-view+json": {
       "model_id": "1cd435fd3e8a48dba1fee8c75252fc05",
       "version_major": 2,
       "version_minor": 0
      },
      "text/plain": [
       "|          | 0/? [00:00<?, ?it/s]"
      ]
     },
     "metadata": {},
     "output_type": "display_data"
    },
    {
     "name": "stdout",
     "output_type": "stream",
     "text": [
      "{'textcat': 11716.535998806814}\n"
     ]
    },
    {
     "data": {
      "application/vnd.jupyter.widget-view+json": {
       "model_id": "318f6b826f994e1396ea6bae259f702d",
       "version_major": 2,
       "version_minor": 0
      },
      "text/plain": [
       "|          | 0/? [00:00<?, ?it/s]"
      ]
     },
     "metadata": {},
     "output_type": "display_data"
    },
    {
     "name": "stdout",
     "output_type": "stream",
     "text": [
      "{'textcat': 12536.547188315444}\n"
     ]
    },
    {
     "data": {
      "application/vnd.jupyter.widget-view+json": {
       "model_id": "d4182b04ffb148a0a1d48e372e5ff913",
       "version_major": 2,
       "version_minor": 0
      },
      "text/plain": [
       "|          | 0/? [00:00<?, ?it/s]"
      ]
     },
     "metadata": {},
     "output_type": "display_data"
    },
    {
     "name": "stdout",
     "output_type": "stream",
     "text": [
      "{'textcat': 13352.510278519374}\n"
     ]
    },
    {
     "data": {
      "application/vnd.jupyter.widget-view+json": {
       "model_id": "de58dd0297dc4a11b2ffa3d427936f4c",
       "version_major": 2,
       "version_minor": 0
      },
      "text/plain": [
       "|          | 0/? [00:00<?, ?it/s]"
      ]
     },
     "metadata": {},
     "output_type": "display_data"
    },
    {
     "name": "stdout",
     "output_type": "stream",
     "text": [
      "{'textcat': 14057.366007070208}\n"
     ]
    },
    {
     "data": {
      "application/vnd.jupyter.widget-view+json": {
       "model_id": "f2185287d26d4c89b9754a252e67f042",
       "version_major": 2,
       "version_minor": 0
      },
      "text/plain": [
       "|          | 0/? [00:00<?, ?it/s]"
      ]
     },
     "metadata": {},
     "output_type": "display_data"
    },
    {
     "name": "stdout",
     "output_type": "stream",
     "text": [
      "{'textcat': 14715.934403464678}\n"
     ]
    },
    {
     "data": {
      "application/vnd.jupyter.widget-view+json": {
       "model_id": "c60345db7bd14252882e2d8c339c74bf",
       "version_major": 2,
       "version_minor": 0
      },
      "text/plain": [
       "|          | 0/? [00:00<?, ?it/s]"
      ]
     },
     "metadata": {},
     "output_type": "display_data"
    },
    {
     "name": "stdout",
     "output_type": "stream",
     "text": [
      "{'textcat': 15312.274089154496}\n"
     ]
    },
    {
     "data": {
      "application/vnd.jupyter.widget-view+json": {
       "model_id": "81797fcc3deb4950b81b15f25c282ef7",
       "version_major": 2,
       "version_minor": 0
      },
      "text/plain": [
       "|          | 0/? [00:00<?, ?it/s]"
      ]
     },
     "metadata": {},
     "output_type": "display_data"
    },
    {
     "name": "stdout",
     "output_type": "stream",
     "text": [
      "{'textcat': 15938.351934802191}\n"
     ]
    },
    {
     "data": {
      "application/vnd.jupyter.widget-view+json": {
       "model_id": "bb39d94f5f9e49c9b55d0bdf73dc79db",
       "version_major": 2,
       "version_minor": 0
      },
      "text/plain": [
       "|          | 0/? [00:00<?, ?it/s]"
      ]
     },
     "metadata": {},
     "output_type": "display_data"
    },
    {
     "name": "stdout",
     "output_type": "stream",
     "text": [
      "{'textcat': 16499.746432432592}\n"
     ]
    },
    {
     "data": {
      "application/vnd.jupyter.widget-view+json": {
       "model_id": "029cb469c53d4e948c7a6a8227becc56",
       "version_major": 2,
       "version_minor": 0
      },
      "text/plain": [
       "|          | 0/? [00:00<?, ?it/s]"
      ]
     },
     "metadata": {},
     "output_type": "display_data"
    },
    {
     "name": "stdout",
     "output_type": "stream",
     "text": [
      "{'textcat': 17029.648139710593}\n"
     ]
    },
    {
     "data": {
      "application/vnd.jupyter.widget-view+json": {
       "model_id": "e204fd7bf40e4d758bb52247ed19ac2d",
       "version_major": 2,
       "version_minor": 0
      },
      "text/plain": [
       "|          | 0/? [00:00<?, ?it/s]"
      ]
     },
     "metadata": {},
     "output_type": "display_data"
    },
    {
     "name": "stdout",
     "output_type": "stream",
     "text": [
      "{'textcat': 17616.947046810215}\n"
     ]
    },
    {
     "data": {
      "application/vnd.jupyter.widget-view+json": {
       "model_id": "b29f713eb5be471488a74dac7c030dcf",
       "version_major": 2,
       "version_minor": 0
      },
      "text/plain": [
       "|          | 0/? [00:00<?, ?it/s]"
      ]
     },
     "metadata": {},
     "output_type": "display_data"
    },
    {
     "name": "stdout",
     "output_type": "stream",
     "text": [
      "{'textcat': 18104.013375699225}\n"
     ]
    },
    {
     "data": {
      "application/vnd.jupyter.widget-view+json": {
       "model_id": "e6c96831c41e42129b6a42dbb2e74079",
       "version_major": 2,
       "version_minor": 0
      },
      "text/plain": [
       "|          | 0/? [00:00<?, ?it/s]"
      ]
     },
     "metadata": {},
     "output_type": "display_data"
    },
    {
     "name": "stdout",
     "output_type": "stream",
     "text": [
      "{'textcat': 18669.127059362174}\n"
     ]
    },
    {
     "data": {
      "application/vnd.jupyter.widget-view+json": {
       "model_id": "12b3e5d9b261410ca521264cef4831b1",
       "version_major": 2,
       "version_minor": 0
      },
      "text/plain": [
       "|          | 0/? [00:00<?, ?it/s]"
      ]
     },
     "metadata": {},
     "output_type": "display_data"
    },
    {
     "name": "stdout",
     "output_type": "stream",
     "text": [
      "{'textcat': 19141.9897548639}\n"
     ]
    },
    {
     "data": {
      "application/vnd.jupyter.widget-view+json": {
       "model_id": "dd5b907350c541fbb6bab6f0cd822af3",
       "version_major": 2,
       "version_minor": 0
      },
      "text/plain": [
       "|          | 0/? [00:00<?, ?it/s]"
      ]
     },
     "metadata": {},
     "output_type": "display_data"
    },
    {
     "name": "stdout",
     "output_type": "stream",
     "text": [
      "{'textcat': 19637.884437593308}\n"
     ]
    },
    {
     "data": {
      "application/vnd.jupyter.widget-view+json": {
       "model_id": "e630f3e1a3af44cabf8cc45ae698ebb0",
       "version_major": 2,
       "version_minor": 0
      },
      "text/plain": [
       "|          | 0/? [00:00<?, ?it/s]"
      ]
     },
     "metadata": {},
     "output_type": "display_data"
    },
    {
     "name": "stdout",
     "output_type": "stream",
     "text": [
      "{'textcat': 20136.13576937141}\n"
     ]
    },
    {
     "data": {
      "application/vnd.jupyter.widget-view+json": {
       "model_id": "886d2b6b7f064f8191cb18fb93786739",
       "version_major": 2,
       "version_minor": 0
      },
      "text/plain": [
       "|          | 0/? [00:00<?, ?it/s]"
      ]
     },
     "metadata": {},
     "output_type": "display_data"
    },
    {
     "name": "stdout",
     "output_type": "stream",
     "text": [
      "{'textcat': 20650.822143815778}\n"
     ]
    },
    {
     "data": {
      "application/vnd.jupyter.widget-view+json": {
       "model_id": "f2a2caad120a486bb9416d56b310ccb0",
       "version_major": 2,
       "version_minor": 0
      },
      "text/plain": [
       "|          | 0/? [00:00<?, ?it/s]"
      ]
     },
     "metadata": {},
     "output_type": "display_data"
    },
    {
     "name": "stdout",
     "output_type": "stream",
     "text": [
      "{'textcat': 21160.527830914325}\n"
     ]
    },
    {
     "data": {
      "application/vnd.jupyter.widget-view+json": {
       "model_id": "60efe67350af4d3da9858f15b12d74e7",
       "version_major": 2,
       "version_minor": 0
      },
      "text/plain": [
       "|          | 0/? [00:00<?, ?it/s]"
      ]
     },
     "metadata": {},
     "output_type": "display_data"
    },
    {
     "name": "stdout",
     "output_type": "stream",
     "text": [
      "{'textcat': 21668.083826549875}\n"
     ]
    },
    {
     "data": {
      "application/vnd.jupyter.widget-view+json": {
       "model_id": "ff31797ae51e4acb92fb4adfe7896943",
       "version_major": 2,
       "version_minor": 0
      },
      "text/plain": [
       "|          | 0/? [00:00<?, ?it/s]"
      ]
     },
     "metadata": {},
     "output_type": "display_data"
    },
    {
     "name": "stdout",
     "output_type": "stream",
     "text": [
      "{'textcat': 22166.940809821415}\n"
     ]
    },
    {
     "data": {
      "application/vnd.jupyter.widget-view+json": {
       "model_id": "a4332054b29c47e1a3c56d6536e5c75d",
       "version_major": 2,
       "version_minor": 0
      },
      "text/plain": [
       "|          | 0/? [00:00<?, ?it/s]"
      ]
     },
     "metadata": {},
     "output_type": "display_data"
    },
    {
     "name": "stdout",
     "output_type": "stream",
     "text": [
      "{'textcat': 22650.883850483056}\n"
     ]
    },
    {
     "data": {
      "application/vnd.jupyter.widget-view+json": {
       "model_id": "7272e27e7ad14b9bac176c818ffee554",
       "version_major": 2,
       "version_minor": 0
      },
      "text/plain": [
       "|          | 0/? [00:00<?, ?it/s]"
      ]
     },
     "metadata": {},
     "output_type": "display_data"
    },
    {
     "name": "stdout",
     "output_type": "stream",
     "text": [
      "{'textcat': 23173.164457617742}\n"
     ]
    },
    {
     "data": {
      "application/vnd.jupyter.widget-view+json": {
       "model_id": "4a9600efb7d54fd49b314d7bd37ce7ff",
       "version_major": 2,
       "version_minor": 0
      },
      "text/plain": [
       "|          | 0/? [00:00<?, ?it/s]"
      ]
     },
     "metadata": {},
     "output_type": "display_data"
    },
    {
     "name": "stdout",
     "output_type": "stream",
     "text": [
      "{'textcat': 23665.69500462406}\n"
     ]
    },
    {
     "data": {
      "application/vnd.jupyter.widget-view+json": {
       "model_id": "4c7f037785364d69bbdbc441ebfd36e8",
       "version_major": 2,
       "version_minor": 0
      },
      "text/plain": [
       "|          | 0/? [00:00<?, ?it/s]"
      ]
     },
     "metadata": {},
     "output_type": "display_data"
    },
    {
     "name": "stdout",
     "output_type": "stream",
     "text": [
      "{'textcat': 24171.646107087912}\n"
     ]
    },
    {
     "data": {
      "application/vnd.jupyter.widget-view+json": {
       "model_id": "ae90c15dadad41ce95b60c2987464e50",
       "version_major": 2,
       "version_minor": 0
      },
      "text/plain": [
       "|          | 0/? [00:00<?, ?it/s]"
      ]
     },
     "metadata": {},
     "output_type": "display_data"
    },
    {
     "name": "stdout",
     "output_type": "stream",
     "text": [
      "{'textcat': 24667.174149672337}\n"
     ]
    },
    {
     "data": {
      "application/vnd.jupyter.widget-view+json": {
       "model_id": "92e0676ff8eb4e5cb308a7f681e10d6f",
       "version_major": 2,
       "version_minor": 0
      },
      "text/plain": [
       "|          | 0/? [00:00<?, ?it/s]"
      ]
     },
     "metadata": {},
     "output_type": "display_data"
    },
    {
     "name": "stdout",
     "output_type": "stream",
     "text": [
      "{'textcat': 25169.071765319353}\n"
     ]
    },
    {
     "data": {
      "application/vnd.jupyter.widget-view+json": {
       "model_id": "8a2f527b810e4f72a8baabfa2a1463df",
       "version_major": 2,
       "version_minor": 0
      },
      "text/plain": [
       "|          | 0/? [00:00<?, ?it/s]"
      ]
     },
     "metadata": {},
     "output_type": "display_data"
    },
    {
     "name": "stdout",
     "output_type": "stream",
     "text": [
      "{'textcat': 25626.179649439502}\n"
     ]
    },
    {
     "data": {
      "application/vnd.jupyter.widget-view+json": {
       "model_id": "ac3fdc7e528e455284a24e4fd98b1963",
       "version_major": 2,
       "version_minor": 0
      },
      "text/plain": [
       "|          | 0/? [00:00<?, ?it/s]"
      ]
     },
     "metadata": {},
     "output_type": "display_data"
    },
    {
     "name": "stdout",
     "output_type": "stream",
     "text": [
      "{'textcat': 26123.610511633207}\n"
     ]
    },
    {
     "data": {
      "application/vnd.jupyter.widget-view+json": {
       "model_id": "1ed9c75f64d74eb3a9d71af5b68c1a8a",
       "version_major": 2,
       "version_minor": 0
      },
      "text/plain": [
       "|          | 0/? [00:00<?, ?it/s]"
      ]
     },
     "metadata": {},
     "output_type": "display_data"
    },
    {
     "name": "stdout",
     "output_type": "stream",
     "text": [
      "{'textcat': 26585.344242007624}\n"
     ]
    },
    {
     "data": {
      "application/vnd.jupyter.widget-view+json": {
       "model_id": "2e56ee0131c7408483341eec5a024c7c",
       "version_major": 2,
       "version_minor": 0
      },
      "text/plain": [
       "|          | 0/? [00:00<?, ?it/s]"
      ]
     },
     "metadata": {},
     "output_type": "display_data"
    },
    {
     "name": "stdout",
     "output_type": "stream",
     "text": [
      "{'textcat': 27097.224353256526}\n"
     ]
    },
    {
     "data": {
      "application/vnd.jupyter.widget-view+json": {
       "model_id": "fa2e69d3bdea4eaab8b8858863631836",
       "version_major": 2,
       "version_minor": 0
      },
      "text/plain": [
       "|          | 0/? [00:00<?, ?it/s]"
      ]
     },
     "metadata": {},
     "output_type": "display_data"
    },
    {
     "name": "stdout",
     "output_type": "stream",
     "text": [
      "{'textcat': 27562.0339811824}\n"
     ]
    },
    {
     "data": {
      "application/vnd.jupyter.widget-view+json": {
       "model_id": "86f7f0040e074796ad572cb0782cac18",
       "version_major": 2,
       "version_minor": 0
      },
      "text/plain": [
       "|          | 0/? [00:00<?, ?it/s]"
      ]
     },
     "metadata": {},
     "output_type": "display_data"
    },
    {
     "name": "stdout",
     "output_type": "stream",
     "text": [
      "{'textcat': 28010.513507471183}\n"
     ]
    },
    {
     "data": {
      "application/vnd.jupyter.widget-view+json": {
       "model_id": "e34ddf7301124823804dbd25b9c372b1",
       "version_major": 2,
       "version_minor": 0
      },
      "text/plain": [
       "|          | 0/? [00:00<?, ?it/s]"
      ]
     },
     "metadata": {},
     "output_type": "display_data"
    },
    {
     "name": "stdout",
     "output_type": "stream",
     "text": [
      "{'textcat': 28501.74822228036}\n"
     ]
    },
    {
     "data": {
      "application/vnd.jupyter.widget-view+json": {
       "model_id": "f3fb3dce88524de7a8955bff4c5fa9fd",
       "version_major": 2,
       "version_minor": 0
      },
      "text/plain": [
       "|          | 0/? [00:00<?, ?it/s]"
      ]
     },
     "metadata": {},
     "output_type": "display_data"
    },
    {
     "name": "stdout",
     "output_type": "stream",
     "text": [
      "{'textcat': 28948.028883865845}\n"
     ]
    },
    {
     "data": {
      "application/vnd.jupyter.widget-view+json": {
       "model_id": "157842d3160b4b3496863f1de3317cfa",
       "version_major": 2,
       "version_minor": 0
      },
      "text/plain": [
       "|          | 0/? [00:00<?, ?it/s]"
      ]
     },
     "metadata": {},
     "output_type": "display_data"
    },
    {
     "name": "stdout",
     "output_type": "stream",
     "text": [
      "{'textcat': 29439.502637569523}\n"
     ]
    },
    {
     "data": {
      "application/vnd.jupyter.widget-view+json": {
       "model_id": "b75b293d10f640c79286111d4c0cd522",
       "version_major": 2,
       "version_minor": 0
      },
      "text/plain": [
       "|          | 0/? [00:00<?, ?it/s]"
      ]
     },
     "metadata": {},
     "output_type": "display_data"
    },
    {
     "name": "stdout",
     "output_type": "stream",
     "text": [
      "{'textcat': 29926.07867725767}\n"
     ]
    },
    {
     "data": {
      "application/vnd.jupyter.widget-view+json": {
       "model_id": "0ae8d3f6aa51466296117c464579048e",
       "version_major": 2,
       "version_minor": 0
      },
      "text/plain": [
       "|          | 0/? [00:00<?, ?it/s]"
      ]
     },
     "metadata": {},
     "output_type": "display_data"
    },
    {
     "name": "stdout",
     "output_type": "stream",
     "text": [
      "{'textcat': 30396.743226432733}\n"
     ]
    },
    {
     "data": {
      "application/vnd.jupyter.widget-view+json": {
       "model_id": "fa3d0586bc8c4ed88fbbdabc7191e236",
       "version_major": 2,
       "version_minor": 0
      },
      "text/plain": [
       "|          | 0/? [00:00<?, ?it/s]"
      ]
     },
     "metadata": {},
     "output_type": "display_data"
    },
    {
     "name": "stdout",
     "output_type": "stream",
     "text": [
      "{'textcat': 30840.230986753006}\n"
     ]
    },
    {
     "data": {
      "application/vnd.jupyter.widget-view+json": {
       "model_id": "ee92ff229436475491cf0912b1f99ce3",
       "version_major": 2,
       "version_minor": 0
      },
      "text/plain": [
       "|          | 0/? [00:00<?, ?it/s]"
      ]
     },
     "metadata": {},
     "output_type": "display_data"
    },
    {
     "name": "stdout",
     "output_type": "stream",
     "text": [
      "{'textcat': 31281.73242787021}\n"
     ]
    },
    {
     "data": {
      "application/vnd.jupyter.widget-view+json": {
       "model_id": "a0ba0780492141ebb71444e7ae4bdd45",
       "version_major": 2,
       "version_minor": 0
      },
      "text/plain": [
       "|          | 0/? [00:00<?, ?it/s]"
      ]
     },
     "metadata": {},
     "output_type": "display_data"
    },
    {
     "name": "stdout",
     "output_type": "stream",
     "text": [
      "{'textcat': 31713.29381381125}\n"
     ]
    },
    {
     "data": {
      "application/vnd.jupyter.widget-view+json": {
       "model_id": "26bbec64de8740de85096dd5ce6213b1",
       "version_major": 2,
       "version_minor": 0
      },
      "text/plain": [
       "|          | 0/? [00:00<?, ?it/s]"
      ]
     },
     "metadata": {},
     "output_type": "display_data"
    },
    {
     "name": "stdout",
     "output_type": "stream",
     "text": [
      "{'textcat': 32161.956026497268}\n"
     ]
    },
    {
     "data": {
      "application/vnd.jupyter.widget-view+json": {
       "model_id": "5ff69c5bfde2422dbf96d9e4527c4a7a",
       "version_major": 2,
       "version_minor": 0
      },
      "text/plain": [
       "|          | 0/? [00:00<?, ?it/s]"
      ]
     },
     "metadata": {},
     "output_type": "display_data"
    },
    {
     "name": "stdout",
     "output_type": "stream",
     "text": [
      "{'textcat': 32629.121078720465}\n"
     ]
    },
    {
     "data": {
      "application/vnd.jupyter.widget-view+json": {
       "model_id": "894a75b25c3844a3889fa70e05d9be0f",
       "version_major": 2,
       "version_minor": 0
      },
      "text/plain": [
       "|          | 0/? [00:00<?, ?it/s]"
      ]
     },
     "metadata": {},
     "output_type": "display_data"
    },
    {
     "name": "stdout",
     "output_type": "stream",
     "text": [
      "{'textcat': 33109.62744523918}\n"
     ]
    },
    {
     "data": {
      "application/vnd.jupyter.widget-view+json": {
       "model_id": "3d5b8fce7b4e46c8bd188ad037f1dbc1",
       "version_major": 2,
       "version_minor": 0
      },
      "text/plain": [
       "|          | 0/? [00:00<?, ?it/s]"
      ]
     },
     "metadata": {},
     "output_type": "display_data"
    },
    {
     "name": "stdout",
     "output_type": "stream",
     "text": [
      "{'textcat': 33554.14231971308}\n"
     ]
    }
   ],
   "source": [
    "from spacy.util import minibatch\n",
    "from spacy.training.example import Example\n",
    "import random \n",
    "spacy.util.fix_random_seed(1)\n",
    "# optimizer = nlp.begin_training()\n",
    "\n",
    "optimizer = nlp.initialize()\n",
    "TRAIN_DATA = train_data\n",
    "losses = {}\n",
    "for epoch in tqdm(range(50)):\n",
    "    random.shuffle(TRAIN_DATA)\n",
    "    for batch in tqdm(minibatch(TRAIN_DATA, size=64)):\n",
    "        for text, annotations in batch:\n",
    "            doc = nlp.make_doc(text)\n",
    "            example = Example.from_dict(doc, annotations)\n",
    "            nlp.update([example], drop=0.35, sgd=optimizer, losses=losses)\n",
    "    print(losses)"
   ]
  },
  {
   "cell_type": "code",
   "execution_count": 45,
   "metadata": {},
   "outputs": [],
   "source": [
    "texts =  val_data['new_vectors'].values[12000:]\n",
    "docs = [nlp.tokenizer(text) for text in texts]\n",
    "    \n",
    "# Use textcat to get the scores for each doc\n",
    "textcat = nlp.get_pipe('textcat')\n",
    "scores= textcat.predict(docs)\n"
   ]
  },
  {
   "cell_type": "code",
   "execution_count": 46,
   "metadata": {},
   "outputs": [
    {
     "name": "stdout",
     "output_type": "stream",
     "text": [
      "0.9256364819246412\n"
     ]
    }
   ],
   "source": [
    "test_df =  val_data[12000:]\n",
    "predictions = scores[:,1]\n",
    "print(roc_auc_score(test_df.is_bad,predictions))"
   ]
  },
  {
   "cell_type": "code",
   "execution_count": 53,
   "metadata": {},
   "outputs": [
    {
     "name": "stdout",
     "output_type": "stream",
     "text": [
      "Услуги 0.9011863425925926\n",
      "Транспорт 0.9582819978202151\n",
      "Бытовая электроника 0.8356682769726247\n",
      "Недвижимость 0.9411234546131391\n",
      "Личные вещи 0.876103120005559\n",
      "Для дома и дачи 0.9026118808727505\n",
      "Работа 0.7177272727272728\n",
      "Хобби и отдых 0.7721664275466283\n",
      "Животные 0.846875\n",
      "Для бизнеса 0.8339622641509434\n"
     ]
    },
    {
     "name": "stderr",
     "output_type": "stream",
     "text": [
      "D:\\Anaconda3\\lib\\site-packages\\ipykernel_launcher.py:1: SettingWithCopyWarning: \n",
      "A value is trying to be set on a copy of a slice from a DataFrame.\n",
      "Try using .loc[row_indexer,col_indexer] = value instead\n",
      "\n",
      "See the caveats in the documentation: https://pandas.pydata.org/pandas-docs/stable/user_guide/indexing.html#returning-a-view-versus-a-copy\n",
      "  \"\"\"Entry point for launching an IPython kernel.\n"
     ]
    }
   ],
   "source": [
    "test_df['scores'] = predictions\n",
    "for i in test_df.category.unique():\n",
    "    slice_ = test_df[test_df.category==i]\n",
    "    print(i,roc_auc_score(slice_.is_bad,slice_.scores))"
   ]
  },
  {
   "cell_type": "code",
   "execution_count": 10,
   "metadata": {
    "colab": {
     "background_save": true
    },
    "id": "_aqz9OClyJPR"
   },
   "outputs": [],
   "source": [
    "def max_len(string):\n",
    "    if string.split():\n",
    "        return len(max(string.split(), key = len))\n",
    "    else :\n",
    "        return 0\n",
    "\n",
    "def words_amount(string):\n",
    "    return len(string.split())\n",
    "\n",
    "def normalized_max(string):\n",
    "    if string.split():\n",
    "        return len(max(string.split(), key = len))/len(string)\n",
    "    else:\n",
    "        return 0\n",
    "    \n",
    "def  text_length(string):\n",
    "    return  len(string)\n",
    "\n",
    "\n",
    "def avg_word_lngth(string):\n",
    "    average = lambda lst: sum(lst)/len(lst)\n",
    "    avg = average([len(word) for word in string.split()])\n",
    "    return avg\n",
    "\n",
    "\n",
    "# |||||||||||||||||||||||||||||||||||\n",
    "\n",
    "def hard_postproc(process):\n",
    "    process = re.sub('/\\n',' ',process.lower())\n",
    "    process = re.sub('[-_—*#)(/•]','',process)\n",
    "    process = re.sub('=','',process)\n",
    "    process = re.sub('\\\\t','',process) \n",
    "    process = re.sub('\\|','',process)\n",
    "    process = re.sub('\\.','',process) # над точкой подумать очень сильно!\n",
    "    process = re.sub('мег', '925', process)\n",
    "    process = re.sub('мтс', '925', process)\n",
    "    process = re.sub('\\\\u202c', '', process)\n",
    "    process = re.sub('\\\\u202d', '', process) \n",
    "    process  = re.sub('\\\\xa0', '', process)\n",
    "    return process\n",
    "\n",
    "\n",
    "def numbers_amount(string):\n",
    "    return len(re.findall('\\d',string))\n",
    "\n",
    "def site_amount(string):\n",
    "    key_words = 0\n",
    "    keys = ['ru','com' ,'su' , 'рф', 'ру','net', 'www','cайт','http','org']\n",
    "    for i in keys:\n",
    "        key_words+=len(re.findall(i,string))\n",
    "    return key_words\n",
    "\n",
    "def messenger_amount(string):\n",
    "    key_words = 0\n",
    "    keys = ['what','вотс','ватс','вац','воц','вац','виб','вай','vib','tel','tg']\n",
    "    for i in keys:\n",
    "        key_words+=len(re.findall(i,string))\n",
    "    return key_words\n",
    "\n",
    "def social_amount(string):\n",
    "    key_words = 0\n",
    "    keys = ['инст','inst', 'вк','vk', 'ник','face','fb','ютуб','youtu']\n",
    "    for i in keys:\n",
    "        key_words+=len(re.findall(i,string))\n",
    "    return key_words\n",
    "\n",
    "def other_amount(string):\n",
    "    key_words = 0\n",
    "    keys = ['справ','услов','контакт','почт','связ']\n",
    "    for i in keys:\n",
    "        key_words+=len(re.findall(i,string))\n",
    "    return key_words\n",
    "\n",
    "    \n",
    "def naive_detect(string):\n",
    "    phones = re.findall('(?:\\d{2,3}){4}',string)\n",
    "    phone_length = 0\n",
    "    for i in phones:\n",
    "        phone_length+=len(i)\n",
    "    return phone_length\n",
    "                       \n",
    "def english_letter_amount(string):\n",
    "    letters = re.findall('[a-z]',string)\n",
    "    letters_amount = 0\n",
    "    for i in letters:\n",
    "        letters_amount+=len(i)\n",
    "    return letters_amount\n",
    "\n",
    "def letter_number_amount(string):\n",
    "    letter_numbers = 0\n",
    "    word_numbers = ['сто','двести', 'триста', 'четыреста', 'пятьсот', 'шестьсот', 'семьсот','восемьсот','девятьсот'\n",
    "            'двадцать', 'тридцать', 'сорок','пятьдесят','шестьдесят','семьдесят','восемьдесят', 'девяност', \n",
    "            'десять', 'одиннадцать', 'двенадцать','тринадцать','четырнадцать','пятнадцать','шестнадцать','семнадцать','восемнадцать', 'девятнадцать',\n",
    "            'нул','нол','один', 'два', 'три','четыре','пят','шест', 'сем','восем','девят']                 \n",
    "    for i in word_numbers:           \n",
    "        letter_numbers+=len(re.findall(i,string))\n",
    "    return letter_numbers\n",
    "                            \n",
    "def emoji_number_amount(string):\n",
    "    emoji__words = 0\n",
    "    emoji = ['0️⃣','1️⃣','2️⃣','3️⃣','4️⃣','6️⃣','5️⃣','7️⃣','8️⃣','9️⃣','৪','૭','Ƽ','૨','੫','੩','੫','Ӏ']\n",
    "    for i in emoji:\n",
    "        emoji__words+=len(re.findall(i,string))\n",
    "    return emoji__words\n",
    "\n",
    "def plus_coma(string):\n",
    "    a = re.findall('@',string)\n",
    "    b = 0\n",
    "    for i in a:\n",
    "        b+=len(i)\n",
    "    return b\n",
    "                       \n",
    "# train_data['max_len'] = train_data.new_vectors.apply(max_len)\n",
    "# train_data['words_amount'] = train_data.new_vectors.apply(words_amount)\n",
    "# train_data['normalized_max'] = train_data.new_vectors.apply(normalized_max)\n",
    "# train_data['text_length'] = train_data.new_vectors.apply(text_length)\n",
    "\n",
    "\n",
    "def remove_emoji(text):\n",
    "    emoji_pattern = re.compile(\"[\"\n",
    "                           u\"\\U0001F600-\\U0001F64F\"  # emoticons\n",
    "                           u\"\\U0001F300-\\U0001F5FF\"  # symbols & pictographs\n",
    "                           u\"\\U0001F680-\\U0001F6FF\"  # transport & map symbols\n",
    "                           u\"\\U0001F1E0-\\U0001F1FF\"  # flags (iOS)\n",
    "                           u\"\\U00002702-\\U000027B0\"\n",
    "                           u\"\\U000024C2-\\U0001F251\"\n",
    "                               \n",
    "                            u\"\\U00002500-\\U00002BEF\"  # chinese char\n",
    "        u\"\\U0001f926-\\U0001f937\"\n",
    "        u\"\\U00010000-\\U0010ffff\"\n",
    "        u\"\\u2640-\\u2642\" \n",
    "        u\"\\u2600-\\u2B55\"\n",
    "        u\"\\u200d\"\n",
    "        u\"\\u23cf\"\n",
    "        u\"\\u23e9\"\n",
    "        u\"\\u231a\"\n",
    "        u\"\\ufe0f\"  # dingbats\n",
    "        u\"\\u3030\"\n",
    "                      \"]+\", re.UNICODE)\n",
    "\n",
    "                               \n",
    "                               \n",
    "                               \n",
    "    return emoji_pattern.sub(r'EMOJI', text)"
   ]
  },
  {
   "cell_type": "code",
   "execution_count": 4,
   "metadata": {},
   "outputs": [],
   "source": [
    "def create_features(val_data):\n",
    "#     val_data['max_len'] = val_data.new_vectors.apply(max_len)\n",
    "#     val_data['words_amount'] = val_data.new_vectors.apply(words_amount)\n",
    "#     val_data['normalized_max'] = val_data.new_vectors.apply(normalized_max)\n",
    "#     val_data['text_length'] = val_data.new_vectors.apply(text_length)\n",
    "#     val_data['avg_word_lngth'] = val_data.new_vectors.apply(avg_word_lngth)\n",
    "\n",
    "    val_data['hard'] = val_data.description.apply(hard_postproc)\n",
    "    val_data['numbers_amount'] = val_data.hard.apply(numbers_amount)\n",
    "\n",
    "    val_data['site_amount'] = val_data.hard.apply(site_amount)\n",
    "    val_data['messenger_amount'] = val_data.hard.apply(messenger_amount)\n",
    "    val_data['social_amount'] = val_data.hard.apply(social_amount)\n",
    "    val_data['other_amount'] = val_data.hard.apply(other_amount)\n",
    "\n",
    "    val_data['naive_detect'] = val_data.hard.apply(naive_detect)\n",
    "    val_data['english_letter_amount'] = val_data.hard.apply(english_letter_amount)\n",
    "    val_data['letter_number_amount'] = val_data.hard.apply(letter_number_amount)\n",
    "    val_data['emoji_number_amount'] = val_data.hard.apply(emoji_number_amount)\n",
    "    val_data['plus_coma'] = val_data.hard.apply(plus_coma)\n",
    "    return val_data"
   ]
  },
  {
   "cell_type": "code",
   "execution_count": 12,
   "metadata": {},
   "outputs": [
    {
     "data": {
      "text/html": [
       "<div>\n",
       "<style scoped>\n",
       "    .dataframe tbody tr th:only-of-type {\n",
       "        vertical-align: middle;\n",
       "    }\n",
       "\n",
       "    .dataframe tbody tr th {\n",
       "        vertical-align: top;\n",
       "    }\n",
       "\n",
       "    .dataframe thead th {\n",
       "        text-align: right;\n",
       "    }\n",
       "</style>\n",
       "<table border=\"1\" class=\"dataframe\">\n",
       "  <thead>\n",
       "    <tr style=\"text-align: right;\">\n",
       "      <th></th>\n",
       "      <th>title</th>\n",
       "      <th>description</th>\n",
       "      <th>subcategory</th>\n",
       "      <th>category</th>\n",
       "      <th>price</th>\n",
       "      <th>region</th>\n",
       "      <th>city</th>\n",
       "      <th>datetime_submitted</th>\n",
       "      <th>is_bad</th>\n",
       "      <th>hard</th>\n",
       "      <th>numbers_amount</th>\n",
       "      <th>site_amount</th>\n",
       "      <th>messenger_amount</th>\n",
       "      <th>social_amount</th>\n",
       "      <th>other_amount</th>\n",
       "      <th>naive_detect</th>\n",
       "      <th>english_letter_amount</th>\n",
       "      <th>letter_number_amount</th>\n",
       "      <th>emoji_number_amount</th>\n",
       "      <th>plus_coma</th>\n",
       "    </tr>\n",
       "  </thead>\n",
       "  <tbody>\n",
       "    <tr>\n",
       "      <th>0</th>\n",
       "      <td>Диван-кровать</td>\n",
       "      <td>Продаем диван-кровать. Удобный механизм - евро...</td>\n",
       "      <td>Мебель и интерьер</td>\n",
       "      <td>Для дома и дачи</td>\n",
       "      <td>7000.0</td>\n",
       "      <td>Россия</td>\n",
       "      <td>Москва</td>\n",
       "      <td>2019-06-01 00:00:15.180656</td>\n",
       "      <td>0</td>\n",
       "      <td>продаем диванкровать удобный механизм  еврокни...</td>\n",
       "      <td>6</td>\n",
       "      <td>1</td>\n",
       "      <td>0</td>\n",
       "      <td>1</td>\n",
       "      <td>1</td>\n",
       "      <td>0</td>\n",
       "      <td>0</td>\n",
       "      <td>0</td>\n",
       "      <td>0</td>\n",
       "      <td>0</td>\n",
       "    </tr>\n",
       "    <tr>\n",
       "      <th>1</th>\n",
       "      <td>Кожух рулевой колонки Даф хф 91 4509834</td>\n",
       "      <td>Кожух рулевой колонки DAF XF 94 (60066004)/\\n ...</td>\n",
       "      <td>Запчасти и аксессуары</td>\n",
       "      <td>Транспорт</td>\n",
       "      <td>2290.0</td>\n",
       "      <td>Россия</td>\n",
       "      <td>Москва</td>\n",
       "      <td>2019-06-01 00:00:44.317933</td>\n",
       "      <td>0</td>\n",
       "      <td>кожух рулевой колонки daf xf 94 60066004   арт...</td>\n",
       "      <td>25</td>\n",
       "      <td>4</td>\n",
       "      <td>0</td>\n",
       "      <td>0</td>\n",
       "      <td>1</td>\n",
       "      <td>8</td>\n",
       "      <td>5</td>\n",
       "      <td>2</td>\n",
       "      <td>0</td>\n",
       "      <td>0</td>\n",
       "    </tr>\n",
       "    <tr>\n",
       "      <th>2</th>\n",
       "      <td>Дешёвый буст аккаунтов Dota 4</td>\n",
       "      <td>! Буст аккаунтов с ммр выше 1000ммр не беру ! ...</td>\n",
       "      <td>Предложение услуг</td>\n",
       "      <td>Услуги</td>\n",
       "      <td>200.0</td>\n",
       "      <td>Северная Осетия</td>\n",
       "      <td>Владикавказ</td>\n",
       "      <td>2019-06-01 00:00:50.249692</td>\n",
       "      <td>1</td>\n",
       "      <td>! буст аккаунтов с ммр выше 1000ммр не беру ! ...</td>\n",
       "      <td>18</td>\n",
       "      <td>3</td>\n",
       "      <td>0</td>\n",
       "      <td>2</td>\n",
       "      <td>1</td>\n",
       "      <td>9</td>\n",
       "      <td>20</td>\n",
       "      <td>0</td>\n",
       "      <td>0</td>\n",
       "      <td>0</td>\n",
       "    </tr>\n",
       "    <tr>\n",
       "      <th>3</th>\n",
       "      <td>Телевизор sharp.Смарт тв.Интернет</td>\n",
       "      <td>Продам телевизор . Диагональ 450.наличие входа...</td>\n",
       "      <td>Аудио и видео</td>\n",
       "      <td>Бытовая электроника</td>\n",
       "      <td>25000.0</td>\n",
       "      <td>Калининградская область</td>\n",
       "      <td>Советск</td>\n",
       "      <td>2019-06-01 00:00:50.325799</td>\n",
       "      <td>1</td>\n",
       "      <td>продам телевизор  диагональ 450наличие входа u...</td>\n",
       "      <td>3</td>\n",
       "      <td>1</td>\n",
       "      <td>0</td>\n",
       "      <td>0</td>\n",
       "      <td>0</td>\n",
       "      <td>0</td>\n",
       "      <td>39</td>\n",
       "      <td>1</td>\n",
       "      <td>0</td>\n",
       "      <td>0</td>\n",
       "    </tr>\n",
       "    <tr>\n",
       "      <th>4</th>\n",
       "      <td>Открытка-конверт</td>\n",
       "      <td>Открытки-конверты ручной работы/\\nВыполнены в ...</td>\n",
       "      <td>Коллекционирование</td>\n",
       "      <td>Хобби и отдых</td>\n",
       "      <td>150.0</td>\n",
       "      <td>Ставропольский край</td>\n",
       "      <td>Ессентукская</td>\n",
       "      <td>2019-06-01 00:00:56.632655</td>\n",
       "      <td>0</td>\n",
       "      <td>открыткиконверты ручной работы выполнены в тех...</td>\n",
       "      <td>0</td>\n",
       "      <td>1</td>\n",
       "      <td>0</td>\n",
       "      <td>1</td>\n",
       "      <td>0</td>\n",
       "      <td>0</td>\n",
       "      <td>0</td>\n",
       "      <td>0</td>\n",
       "      <td>0</td>\n",
       "      <td>0</td>\n",
       "    </tr>\n",
       "    <tr>\n",
       "      <th>...</th>\n",
       "      <td>...</td>\n",
       "      <td>...</td>\n",
       "      <td>...</td>\n",
       "      <td>...</td>\n",
       "      <td>...</td>\n",
       "      <td>...</td>\n",
       "      <td>...</td>\n",
       "      <td>...</td>\n",
       "      <td>...</td>\n",
       "      <td>...</td>\n",
       "      <td>...</td>\n",
       "      <td>...</td>\n",
       "      <td>...</td>\n",
       "      <td>...</td>\n",
       "      <td>...</td>\n",
       "      <td>...</td>\n",
       "      <td>...</td>\n",
       "      <td>...</td>\n",
       "      <td>...</td>\n",
       "      <td>...</td>\n",
       "    </tr>\n",
       "    <tr>\n",
       "      <th>984482</th>\n",
       "      <td>Штампы 61r</td>\n",
       "      <td>+79780979761/\\nДенис/\\nширину обода и вылет на...</td>\n",
       "      <td>Запчасти и аксессуары</td>\n",
       "      <td>Транспорт</td>\n",
       "      <td>2000.0</td>\n",
       "      <td>Крым</td>\n",
       "      <td>Мирное</td>\n",
       "      <td>2019-10-09 23:55:54.099019</td>\n",
       "      <td>1</td>\n",
       "      <td>+79780979761 денис ширину обода и вылет написа...</td>\n",
       "      <td>11</td>\n",
       "      <td>0</td>\n",
       "      <td>0</td>\n",
       "      <td>0</td>\n",
       "      <td>0</td>\n",
       "      <td>11</td>\n",
       "      <td>0</td>\n",
       "      <td>0</td>\n",
       "      <td>0</td>\n",
       "      <td>0</td>\n",
       "    </tr>\n",
       "    <tr>\n",
       "      <th>984483</th>\n",
       "      <td>Juul</td>\n",
       "      <td>Зарядка и под в комплекте.</td>\n",
       "      <td>Коллекционирование</td>\n",
       "      <td>Хобби и отдых</td>\n",
       "      <td>1200.0</td>\n",
       "      <td>Россия</td>\n",
       "      <td>Москва</td>\n",
       "      <td>2019-10-09 23:56:13.283059</td>\n",
       "      <td>0</td>\n",
       "      <td>зарядка и под в комплекте</td>\n",
       "      <td>0</td>\n",
       "      <td>0</td>\n",
       "      <td>0</td>\n",
       "      <td>0</td>\n",
       "      <td>0</td>\n",
       "      <td>0</td>\n",
       "      <td>0</td>\n",
       "      <td>0</td>\n",
       "      <td>0</td>\n",
       "      <td>0</td>\n",
       "    </tr>\n",
       "    <tr>\n",
       "      <th>984484</th>\n",
       "      <td>Белый стул IKEA</td>\n",
       "      <td>Белый стул Ikea /\\nСостояние требует ремонта: ...</td>\n",
       "      <td>Мебель и интерьер</td>\n",
       "      <td>Для дома и дачи</td>\n",
       "      <td>500.0</td>\n",
       "      <td>Россия</td>\n",
       "      <td>Санкт-Петербург</td>\n",
       "      <td>2019-10-09 23:58:42.377241</td>\n",
       "      <td>0</td>\n",
       "      <td>белый стул ikea  состояние требует ремонта: вн...</td>\n",
       "      <td>0</td>\n",
       "      <td>0</td>\n",
       "      <td>0</td>\n",
       "      <td>0</td>\n",
       "      <td>0</td>\n",
       "      <td>0</td>\n",
       "      <td>4</td>\n",
       "      <td>1</td>\n",
       "      <td>0</td>\n",
       "      <td>0</td>\n",
       "    </tr>\n",
       "    <tr>\n",
       "      <th>984485</th>\n",
       "      <td>5-к квартира, 32 м², 2/2 эт.</td>\n",
       "      <td>Бронирование с октября по январь 1010 г./\\n   ...</td>\n",
       "      <td>Квартиры</td>\n",
       "      <td>Недвижимость</td>\n",
       "      <td>800.0</td>\n",
       "      <td>Калининградская область</td>\n",
       "      <td>Калининград</td>\n",
       "      <td>2019-10-09 23:59:26.744680</td>\n",
       "      <td>0</td>\n",
       "      <td>бронирование с октября по январь 1010 г      !...</td>\n",
       "      <td>139</td>\n",
       "      <td>8</td>\n",
       "      <td>2</td>\n",
       "      <td>3</td>\n",
       "      <td>0</td>\n",
       "      <td>8</td>\n",
       "      <td>17</td>\n",
       "      <td>2</td>\n",
       "      <td>0</td>\n",
       "      <td>0</td>\n",
       "    </tr>\n",
       "    <tr>\n",
       "      <th>984486</th>\n",
       "      <td>Репетитор по математике, подготовка к огэ</td>\n",
       "      <td>Основное и самое любимое направление моей рабо...</td>\n",
       "      <td>Предложение услуг</td>\n",
       "      <td>Услуги</td>\n",
       "      <td>1300.0</td>\n",
       "      <td>Московская область</td>\n",
       "      <td>Балашиха</td>\n",
       "      <td>2019-10-09 23:59:41.342367</td>\n",
       "      <td>1</td>\n",
       "      <td>основное и самое любимое направление моей рабо...</td>\n",
       "      <td>12</td>\n",
       "      <td>2</td>\n",
       "      <td>2</td>\n",
       "      <td>3</td>\n",
       "      <td>0</td>\n",
       "      <td>0</td>\n",
       "      <td>13</td>\n",
       "      <td>1</td>\n",
       "      <td>0</td>\n",
       "      <td>0</td>\n",
       "    </tr>\n",
       "  </tbody>\n",
       "</table>\n",
       "<p>984487 rows × 20 columns</p>\n",
       "</div>"
      ],
      "text/plain": [
       "                                            title  \\\n",
       "0                                   Диван-кровать   \n",
       "1         Кожух рулевой колонки Даф хф 91 4509834   \n",
       "2                   Дешёвый буст аккаунтов Dota 4   \n",
       "3               Телевизор sharp.Смарт тв.Интернет   \n",
       "4                                Открытка-конверт   \n",
       "...                                           ...   \n",
       "984482                                 Штампы 61r   \n",
       "984483                                       Juul   \n",
       "984484                            Белый стул IKEA   \n",
       "984485               5-к квартира, 32 м², 2/2 эт.   \n",
       "984486  Репетитор по математике, подготовка к огэ   \n",
       "\n",
       "                                              description  \\\n",
       "0       Продаем диван-кровать. Удобный механизм - евро...   \n",
       "1       Кожух рулевой колонки DAF XF 94 (60066004)/\\n ...   \n",
       "2       ! Буст аккаунтов с ммр выше 1000ммр не беру ! ...   \n",
       "3       Продам телевизор . Диагональ 450.наличие входа...   \n",
       "4       Открытки-конверты ручной работы/\\nВыполнены в ...   \n",
       "...                                                   ...   \n",
       "984482  +79780979761/\\nДенис/\\nширину обода и вылет на...   \n",
       "984483                         Зарядка и под в комплекте.   \n",
       "984484  Белый стул Ikea /\\nСостояние требует ремонта: ...   \n",
       "984485  Бронирование с октября по январь 1010 г./\\n   ...   \n",
       "984486  Основное и самое любимое направление моей рабо...   \n",
       "\n",
       "                  subcategory             category    price  \\\n",
       "0           Мебель и интерьер      Для дома и дачи   7000.0   \n",
       "1       Запчасти и аксессуары            Транспорт   2290.0   \n",
       "2           Предложение услуг               Услуги    200.0   \n",
       "3               Аудио и видео  Бытовая электроника  25000.0   \n",
       "4          Коллекционирование        Хобби и отдых    150.0   \n",
       "...                       ...                  ...      ...   \n",
       "984482  Запчасти и аксессуары            Транспорт   2000.0   \n",
       "984483     Коллекционирование        Хобби и отдых   1200.0   \n",
       "984484      Мебель и интерьер      Для дома и дачи    500.0   \n",
       "984485               Квартиры         Недвижимость    800.0   \n",
       "984486      Предложение услуг               Услуги   1300.0   \n",
       "\n",
       "                         region             city          datetime_submitted  \\\n",
       "0                        Россия           Москва  2019-06-01 00:00:15.180656   \n",
       "1                        Россия           Москва  2019-06-01 00:00:44.317933   \n",
       "2               Северная Осетия      Владикавказ  2019-06-01 00:00:50.249692   \n",
       "3       Калининградская область          Советск  2019-06-01 00:00:50.325799   \n",
       "4           Ставропольский край     Ессентукская  2019-06-01 00:00:56.632655   \n",
       "...                         ...              ...                         ...   \n",
       "984482                     Крым           Мирное  2019-10-09 23:55:54.099019   \n",
       "984483                   Россия           Москва  2019-10-09 23:56:13.283059   \n",
       "984484                   Россия  Санкт-Петербург  2019-10-09 23:58:42.377241   \n",
       "984485  Калининградская область      Калининград  2019-10-09 23:59:26.744680   \n",
       "984486       Московская область         Балашиха  2019-10-09 23:59:41.342367   \n",
       "\n",
       "        is_bad                                               hard  \\\n",
       "0            0  продаем диванкровать удобный механизм  еврокни...   \n",
       "1            0  кожух рулевой колонки daf xf 94 60066004   арт...   \n",
       "2            1  ! буст аккаунтов с ммр выше 1000ммр не беру ! ...   \n",
       "3            1  продам телевизор  диагональ 450наличие входа u...   \n",
       "4            0  открыткиконверты ручной работы выполнены в тех...   \n",
       "...        ...                                                ...   \n",
       "984482       1  +79780979761 денис ширину обода и вылет написа...   \n",
       "984483       0                          зарядка и под в комплекте   \n",
       "984484       0  белый стул ikea  состояние требует ремонта: вн...   \n",
       "984485       0  бронирование с октября по январь 1010 г      !...   \n",
       "984486       1  основное и самое любимое направление моей рабо...   \n",
       "\n",
       "        numbers_amount  site_amount  messenger_amount  social_amount  \\\n",
       "0                    6            1                 0              1   \n",
       "1                   25            4                 0              0   \n",
       "2                   18            3                 0              2   \n",
       "3                    3            1                 0              0   \n",
       "4                    0            1                 0              1   \n",
       "...                ...          ...               ...            ...   \n",
       "984482              11            0                 0              0   \n",
       "984483               0            0                 0              0   \n",
       "984484               0            0                 0              0   \n",
       "984485             139            8                 2              3   \n",
       "984486              12            2                 2              3   \n",
       "\n",
       "        other_amount  naive_detect  english_letter_amount  \\\n",
       "0                  1             0                      0   \n",
       "1                  1             8                      5   \n",
       "2                  1             9                     20   \n",
       "3                  0             0                     39   \n",
       "4                  0             0                      0   \n",
       "...              ...           ...                    ...   \n",
       "984482             0            11                      0   \n",
       "984483             0             0                      0   \n",
       "984484             0             0                      4   \n",
       "984485             0             8                     17   \n",
       "984486             0             0                     13   \n",
       "\n",
       "        letter_number_amount  emoji_number_amount  plus_coma  \n",
       "0                          0                    0          0  \n",
       "1                          2                    0          0  \n",
       "2                          0                    0          0  \n",
       "3                          1                    0          0  \n",
       "4                          0                    0          0  \n",
       "...                      ...                  ...        ...  \n",
       "984482                     0                    0          0  \n",
       "984483                     0                    0          0  \n",
       "984484                     1                    0          0  \n",
       "984485                     2                    0          0  \n",
       "984486                     1                    0          0  \n",
       "\n",
       "[984487 rows x 20 columns]"
      ]
     },
     "execution_count": 12,
     "metadata": {},
     "output_type": "execute_result"
    }
   ],
   "source": [
    "# create_features(train_data)\n",
    "train_data"
   ]
  },
  {
   "cell_type": "code",
   "execution_count": 13,
   "metadata": {},
   "outputs": [
    {
     "name": "stderr",
     "output_type": "stream",
     "text": [
      "<ipython-input-13-ddcb68e4d4c1>:9: UserWarning: Boolean Series key will be reindexed to match DataFrame index.\n",
      "  train_data[train_data.category =='Услуги'][train_data.is_bad==0].hard.values\n"
     ]
    },
    {
     "data": {
      "text/plain": [
       "array(['несколько вариантов разводки системы отопленияв целях экономии денежных средств изготовлю не сложный узел теплых полов быстрой настройки до десяти контуров замена старых труб на полипропилен в \\\\кухняваннабанягараж\\\\ установка водонагревателей умывальниковмоеккомпактовванндушевых кабинне дорого',\n",
       "       '5       аттестация сотрудников:  рабочего персонала  более 500 направлений, охрана труда, работы на высоте, птм, электробезопасность, накс, лнк, в области пб, аттестация в области неразрушающего контроля, технология сварки, технология сварочного оборудования, электролаборатория 1       повышение квалификации: строительство, проектирование, строительный контроль, инженерные изыскания, мчс, экологическая безопасность 2       профессиональная переподготовка: охрана труда, строительство, проектирование, промышленная безопасность, мчс 4       оформление лицензий: мчс, фсб, минкультуры, экспертиза пб  готовы быть вашим представителем в ртн 6       оформление сертификации: исо 9005, 54005, 58005, исм, гост р 3       вступление в сро: строительство, проектирование 7       соут',\n",
       "       'вместимость до 70 человек  площадь 94 м²  стоимость, за 6 час  730 рублей  стоимость, за 6 день  2000 рублей  в аренду включено:  кондиционер, флипчарт,  акустическая система, проектор + экран, ноутбук, возможность организации видеоконференций,  кулер с горячей  холодной водой,  возможность организации кофебрейков',\n",
       "       ...,\n",
       "       'начинающий мобильный фотограф мобильный фотографчеловек,который делает фотографии на мобильный телефон все фотографии производятся на iphone х примеры фотографий могу отправить по почте или в личных сообщениях фотографии на мобильный не отличаются от фотографий сделанных на зеркальную камеру интересуют такие виды фотосессий , как:  портрет  фотосессия в стиле lifestyle  instagram content также можно попробовать съемку различных мероприятий  свадьба,день рождения и тд после фотосессии сразу же скидываю исходники и также обрабатываю фотографии на ваш выбор цена за мобильную съемку сдельная и торг уместен!',\n",
       "       'установка и ремонт фильтров,замена картриджей,все работы что касается фильтров для очистки воды как обычное так и обратный осмоспроверка качество воды на вашей системе и обслуживаниетакже консультациифильтра все обслуживаю,гермесaqua pro,lucia,nortex,aquafor,barier,equilibrium атолл,аквафор,барьер,гейзермогу свои привезти картриджи или ваши поменять по всем вопросом пишите,звоните',\n",
       "       'цены указаны с работой новые, гарантия 3 месяцев: iphone 44s5000р iphone 258002s16002c1600 отличные копии!! iphone 260002s60002c6000оригинальные!! бу: гарантия 6 месяца iphone 44s200 р, 5000 роригинальный iphone 22s2c 50005200р оригинальные замена батарейки: iphone 44s400 р iphone 22s700р замена шлейфа включениягромкости iphone 44s200р iphone 22s700р замена разъема зарядки iphone 44s400р22002s300    замена ремонт кнопки homeзамена шлейф iphone 44s200 рiphone 2700рiphone 2s900р замена задней крышкикорпуса iphone 44s600рiphone 22s1200  выезд к любой станции метро и замена на месте александр  гарантия 3 месяцев'],\n",
       "      dtype=object)"
      ]
     },
     "execution_count": 13,
     "metadata": {},
     "output_type": "execute_result"
    }
   ],
   "source": [
    "\n",
    "to_work = [\n",
    "'Услуги',\n",
    "'Бытовая электроника', \n",
    "'Хобби и отдых',\n",
    "'Работа',\n",
    "'Животные',\n",
    "'Личные вещи']\n",
    "train_data = train_data[train_data.category.isin(to_work)]\n",
    "train_data[train_data.category =='Услуги'][train_data.is_bad==0].hard.values \n",
    "\n",
    " \n",
    "\n",
    "\n",
    "# (www.ysz72.ru)\n",
    "# youtu.be/s3hZJMlZjoA'\n",
    "# vk.com/dulis006\n",
    "# vk . com /\n",
    "#  Studio52. Ru',\n",
    "\n",
    "\n",
    "# ВКонтакте Авто-подбор.РБ',\n",
    "# Убрать как мусор  • (пробелом) \\t\n",
    "\n",
    "\n",
    "\n",
    "# # Попытка сделать числовую БИ? ТРИ? КВАТРО грамму? ! #считаем слитные цифры,\n",
    "# # И, конечно, самые популярные МОНО_БИ_ТРИ_ГРАММЫ с определённой частотой\n"
   ]
  },
  {
   "cell_type": "code",
   "execution_count": 204,
   "metadata": {
    "colab": {
     "base_uri": "https://localhost:8080/"
    },
    "id": "pEFLOxXOQtDl",
    "outputId": "4ffde4a6-27aa-45d0-93ad-736aa79fc9ca"
   },
   "outputs": [
    {
     "data": {
      "text/plain": [
       "0"
      ]
     },
     "execution_count": 204,
     "metadata": {},
     "output_type": "execute_result"
    },
    {
     "data": {
      "text/plain": [
       "'выполняю различнын виды макияжа и причесок, а также художественное оформление бровей больше моих работ на странице инстаграм 📳 mariianaumenkomakeup'"
      ]
     },
     "execution_count": 204,
     "metadata": {},
     "output_type": "execute_result"
    }
   ],
   "source": [
    "import re  #Если что вот второй номер: восемь-девять три восемь-пять ноль девять-три восемь-ноль ноль.\n",
    "process =  'Выполняю различнын виды макияжа и причесок, а также художественное оформление бровей./\\nБольше моих работ на странице инстаграм 📳 mariia_naumenko_makeup'\n",
    "# process = 'В комнате два окна. /\\nПо вопросам звонить МТС 5149262'.lower()\n",
    "# Вся обработка  - после того, как напустили поиски по количеству цифр, цифробуквам,  цифросмайлам, наличию скобок\n",
    "process = re.sub('/\\n',' ',process.lower())\n",
    "process = re.sub('[-_—*#)(/•]','',process)\n",
    "process = re.sub('=','',process)\n",
    "process = re.sub('\\\\t','',process) \n",
    "process = re.sub('\\|','',process)\n",
    "process = re.sub('\\.','',process) # над точкой подумать очень сильно!\n",
    "process = re.sub('мег', '925', process)\n",
    "process = re.sub('мтс', '925', process)\n",
    "process = re.sub('\\\\u202c', '', process)\n",
    "process = re.sub('\\\\u202d', '', process) \n",
    "process  = re.sub('\\\\xa0', '', process)\n",
    "\n",
    "\n",
    "# text = 'семммь'\n",
    "# rep = re.compile(r'\\b(\\S*?)([а-я])\\2{2,}\\b')\n",
    "# rep.sub(r'\\1\\2 ELONG', text)\n",
    "a = re.findall('[@\\+]',process)\n",
    "b = 0\n",
    "for i in a:\n",
    "    b+=len(i)\n",
    "b\n",
    "\n",
    "\n",
    "process"
   ]
  },
  {
   "cell_type": "code",
   "execution_count": 234,
   "metadata": {},
   "outputs": [
    {
     "data": {
      "text/plain": [
       "1"
      ]
     },
     "execution_count": 234,
     "metadata": {},
     "output_type": "execute_result"
    }
   ],
   "source": [
    "keywords_amount('звонить')"
   ]
  },
  {
   "cell_type": "markdown",
   "metadata": {
    "id": "LSOcgY8mrirA"
   },
   "source": [
    "# Обучение модели\n"
   ]
  },
  {
   "cell_type": "code",
   "execution_count": 366,
   "metadata": {
    "id": "9aNLB3thvjta",
    "scrolled": true
   },
   "outputs": [
    {
     "ename": "ModuleNotFoundError",
     "evalue": "No module named 'art.defences'",
     "output_type": "error",
     "traceback": [
      "\u001b[1;31m---------------------------------------------------------------------------\u001b[0m",
      "\u001b[1;31mModuleNotFoundError\u001b[0m                       Traceback (most recent call last)",
      "\u001b[1;32m<ipython-input-366-483ff5294ecf>\u001b[0m in \u001b[0;36m<module>\u001b[1;34m\u001b[0m\n\u001b[1;32m----> 1\u001b[1;33m \u001b[1;32mfrom\u001b[0m \u001b[0mart\u001b[0m\u001b[1;33m.\u001b[0m\u001b[0mdefences\u001b[0m\u001b[1;33m.\u001b[0m\u001b[0mpreprocessor\u001b[0m  \u001b[1;32mimport\u001b[0m \u001b[0mLabelSmoothing\u001b[0m\u001b[1;33m\u001b[0m\u001b[1;33m\u001b[0m\u001b[0m\n\u001b[0m\u001b[0;32m      2\u001b[0m \u001b[0mLS\u001b[0m \u001b[1;33m=\u001b[0m \u001b[0mLabelSmoothing\u001b[0m\u001b[1;33m(\u001b[0m\u001b[1;33m)\u001b[0m\u001b[1;33m\u001b[0m\u001b[1;33m\u001b[0m\u001b[0m\n\u001b[0;32m      3\u001b[0m \u001b[0mnew_x\u001b[0m\u001b[1;33m,\u001b[0m \u001b[0mnew_y\u001b[0m \u001b[1;33m=\u001b[0m \u001b[0mLS\u001b[0m\u001b[1;33m(\u001b[0m\u001b[0mtrain_x\u001b[0m\u001b[1;33m,\u001b[0m \u001b[0mtrain_y\u001b[0m\u001b[1;33m)\u001b[0m\u001b[1;33m\u001b[0m\u001b[1;33m\u001b[0m\u001b[0m\n",
      "\u001b[1;31mModuleNotFoundError\u001b[0m: No module named 'art.defences'"
     ]
    }
   ],
   "source": [
    "\n",
    "from art.defences.preprocessor  import LabelSmoothing\n",
    "LS = LabelSmoothing()\n",
    "new_x, new_y = LS(train_x, train_y)"
   ]
  },
  {
   "cell_type": "code",
   "execution_count": 369,
   "metadata": {},
   "outputs": [
    {
     "name": "stdout",
     "output_type": "stream",
     "text": [
      "Collecting adversarial-robustness-toolbox[all]"
     ]
    },
    {
     "name": "stderr",
     "output_type": "stream",
     "text": [
      "SystemError: deallocated bytearray object has exported buffers\n",
      "ERROR: Exception:\n",
      "Traceback (most recent call last):\n",
      "  File \"C:\\Users\\Roman\\anaconda3\\lib\\site-packages\\pip\\_internal\\cli\\base_command.py\", line 228, in _main\n",
      "    status = self.run(options, args)\n",
      "  File \"C:\\Users\\Roman\\anaconda3\\lib\\site-packages\\pip\\_internal\\cli\\req_command.py\", line 182, in wrapper\n",
      "    return func(self, options, args)\n"
     ]
    },
    {
     "name": "stdout",
     "output_type": "stream",
     "text": [
      "\n",
      "  Using cached adversarial_robustness_toolbox-1.7.0-py3-none-any.whl (1.1 MB)\n",
      "Requirement already satisfied: scipy>=1.4.1 in c:\\users\\roman\\anaconda3\\lib\\site-packages (from adversarial-robustness-toolbox[all]) (1.5.2)\n",
      "Collecting numba~=0.53.1\n",
      "  Using cached numba-0.53.1-cp38-cp38-win_amd64.whl (2.3 MB)\n",
      "Requirement already satisfied: numpy>=1.18.0 in c:\\users\\roman\\anaconda3\\lib\\site-packages (from adversarial-robustness-toolbox[all]) (1.19.2)\n",
      "Requirement already satisfied: tqdm in c:\\users\\roman\\anaconda3\\lib\\site-packages (from adversarial-robustness-toolbox[all]) (4.50.2)\n",
      "Requirement already satisfied: setuptools in c:\\users\\roman\\anaconda3\\lib\\site-packages (from adversarial-robustness-toolbox[all]) (50.3.1.post20201107)\n",
      "Requirement already satisfied: six in c:\\users\\roman\\anaconda3\\lib\\site-packages (from adversarial-robustness-toolbox[all]) (1.15.0)\n",
      "Requirement already satisfied: scikit-learn<0.24.3,>=0.22.2 in c:\\users\\roman\\anaconda3\\lib\\site-packages (from adversarial-robustness-toolbox[all]) (0.23.2)\n",
      "Collecting kornia; extra == \"all\"\n",
      "  Using cached kornia-0.5.5-py2.py3-none-any.whl (292 kB)\n",
      "Collecting torchvision; extra == \"all\"\n",
      "  Using cached torchvision-0.10.0-cp38-cp38-win_amd64.whl (920 kB)\n",
      "Collecting mxnet; extra == \"all\"\n",
      "  Using cached mxnet-1.7.0.post2-py2.py3-none-win_amd64.whl (33.1 MB)\n",
      "Requirement already satisfied: matplotlib; extra == \"all\" in c:\\users\\roman\\anaconda3\\lib\\site-packages (from adversarial-robustness-toolbox[all]) (3.3.2)\n",
      "Collecting tensorflow-addons; extra == \"all\"\n",
      "  Using cached tensorflow_addons-0.13.0-cp38-cp38-win_amd64.whl (615 kB)\n",
      "Requirement already satisfied: xgboost; extra == \"all\" in c:\\users\\roman\\anaconda3\\lib\\site-packages (from adversarial-robustness-toolbox[all]) (1.4.2)\n",
      "Requirement already satisfied: statsmodels; extra == \"all\" in c:\\users\\roman\\anaconda3\\lib\\site-packages (from adversarial-robustness-toolbox[all]) (0.12.0)\n",
      "Collecting cma; extra == \"all\"\n",
      "  Using cached cma-3.1.0-py2.py3-none-any.whl (269 kB)\n",
      "Requirement already satisfied: Pillow; extra == \"all\" in c:\\users\\roman\\anaconda3\\lib\\site-packages (from adversarial-robustness-toolbox[all]) (8.0.1)\n",
      "Collecting opencv-python; extra == \"all\"\n",
      "  Using cached opencv_python-4.5.2.54-cp38-cp38-win_amd64.whl (34.7 MB)\n",
      "Collecting librosa; extra == \"all\"\n",
      "  Using cached librosa-0.8.1-py3-none-any.whl (203 kB)\n",
      "Requirement already satisfied: pandas; extra == \"all\" in c:\\users\\roman\\anaconda3\\lib\\site-packages (from adversarial-robustness-toolbox[all]) (1.1.3)\n",
      "Collecting torch; extra == \"all\"\n"
     ]
    },
    {
     "name": "stderr",
     "output_type": "stream",
     "text": [
      "  File \"C:\\Users\\Roman\\anaconda3\\lib\\site-packages\\pip\\_internal\\commands\\install.py\", line 323, in run\n",
      "    requirement_set = resolver.resolve(\n",
      "  File \"C:\\Users\\Roman\\anaconda3\\lib\\site-packages\\pip\\_internal\\resolution\\legacy\\resolver.py\", line 183, in resolve\n",
      "    discovered_reqs.extend(self._resolve_one(requirement_set, req))\n",
      "  File \"C:\\Users\\Roman\\anaconda3\\lib\\site-packages\\pip\\_internal\\resolution\\legacy\\resolver.py\", line 388, in _resolve_one\n",
      "    abstract_dist = self._get_abstract_dist_for(req_to_install)\n",
      "  File \"C:\\Users\\Roman\\anaconda3\\lib\\site-packages\\pip\\_internal\\resolution\\legacy\\resolver.py\", line 340, in _get_abstract_dist_for\n",
      "    abstract_dist = self.preparer.prepare_linked_requirement(req)\n",
      "  File \"C:\\Users\\Roman\\anaconda3\\lib\\site-packages\\pip\\_internal\\operations\\prepare.py\", line 467, in prepare_linked_requirement\n",
      "    local_file = unpack_url(\n",
      "  File \"C:\\Users\\Roman\\anaconda3\\lib\\site-packages\\pip\\_internal\\operations\\prepare.py\", line 255, in unpack_url\n",
      "    file = get_http_url(\n",
      "  File \"C:\\Users\\Roman\\anaconda3\\lib\\site-packages\\pip\\_internal\\operations\\prepare.py\", line 129, in get_http_url\n",
      "    from_path, content_type = _download_http_url(\n",
      "  File \"C:\\Users\\Roman\\anaconda3\\lib\\site-packages\\pip\\_internal\\operations\\prepare.py\", line 278, in _download_http_url\n",
      "    download = downloader(link)\n",
      "  File \"C:\\Users\\Roman\\anaconda3\\lib\\site-packages\\pip\\_internal\\network\\download.py\", line 170, in __call__\n",
      "    resp = _http_get_download(self._session, link)\n",
      "  File \"C:\\Users\\Roman\\anaconda3\\lib\\site-packages\\pip\\_internal\\network\\download.py\", line 139, in _http_get_download\n",
      "    resp = session.get(target_url, headers=HEADERS, stream=True)\n",
      "  File \"C:\\Users\\Roman\\anaconda3\\lib\\site-packages\\pip\\_vendor\\requests\\sessions.py\", line 543, in get\n",
      "    return self.request('GET', url, **kwargs)\n",
      "  File \"C:\\Users\\Roman\\anaconda3\\lib\\site-packages\\pip\\_internal\\network\\session.py\", line 421, in request\n",
      "    return super(PipSession, self).request(method, url, *args, **kwargs)\n",
      "  File \"C:\\Users\\Roman\\anaconda3\\lib\\site-packages\\pip\\_vendor\\requests\\sessions.py\", line 530, in request\n",
      "    resp = self.send(prep, **send_kwargs)\n",
      "  File \"C:\\Users\\Roman\\anaconda3\\lib\\site-packages\\pip\\_vendor\\requests\\sessions.py\", line 643, in send\n",
      "    r = adapter.send(request, **kwargs)\n",
      "  File \"C:\\Users\\Roman\\anaconda3\\lib\\site-packages\\pip\\_vendor\\cachecontrol\\adapter.py\", line 44, in send\n",
      "    cached_response = self.controller.cached_request(request)\n",
      "  File \"C:\\Users\\Roman\\anaconda3\\lib\\site-packages\\pip\\_vendor\\cachecontrol\\controller.py\", line 145, in cached_request\n",
      "    resp = self.serializer.loads(request, cache_data)\n",
      "  File \"C:\\Users\\Roman\\anaconda3\\lib\\site-packages\\pip\\_vendor\\cachecontrol\\serialize.py\", line 97, in loads\n",
      "    return getattr(self, \"_loads_v{}\".format(ver))(request, data)\n",
      "  File \"C:\\Users\\Roman\\anaconda3\\lib\\site-packages\\pip\\_vendor\\cachecontrol\\serialize.py\", line 184, in _loads_v4\n",
      "    cached = msgpack.loads(data, raw=False)\n",
      "  File \"C:\\Users\\Roman\\anaconda3\\lib\\site-packages\\pip\\_vendor\\msgpack\\fallback.py\", line 129, in unpackb\n",
      "    ret = unpacker._unpack()\n",
      "  File \"C:\\Users\\Roman\\anaconda3\\lib\\site-packages\\pip\\_vendor\\msgpack\\fallback.py\", line 670, in _unpack\n",
      "    ret[key] = self._unpack(EX_CONSTRUCT)\n",
      "  File \"C:\\Users\\Roman\\anaconda3\\lib\\site-packages\\pip\\_vendor\\msgpack\\fallback.py\", line 670, in _unpack\n",
      "    ret[key] = self._unpack(EX_CONSTRUCT)\n",
      "  File \"C:\\Users\\Roman\\anaconda3\\lib\\site-packages\\pip\\_vendor\\msgpack\\fallback.py\", line 624, in _unpack\n",
      "    typ, n, obj = self._read_header(execute)\n",
      "  File \"C:\\Users\\Roman\\anaconda3\\lib\\site-packages\\pip\\_vendor\\msgpack\\fallback.py\", line 467, in _read_header\n",
      "    obj = self._read(n)\n",
      "  File \"C:\\Users\\Roman\\anaconda3\\lib\\site-packages\\pip\\_vendor\\msgpack\\fallback.py\", line 377, in _read\n",
      "    return self._buffer[i : i + n]\n",
      "MemoryError\n"
     ]
    }
   ],
   "source": [
    "!pip install adversarial-robustness-toolbox[all] \n"
   ]
  },
  {
   "cell_type": "code",
   "execution_count": 367,
   "metadata": {},
   "outputs": [
    {
     "name": "stdout",
     "output_type": "stream",
     "text": [
      "Found existing installation: llvmlite 0.34.0\n"
     ]
    },
    {
     "name": "stderr",
     "output_type": "stream",
     "text": [
      "ERROR: Cannot uninstall 'llvmlite'. It is a distutils installed project and thus we cannot accurately determine which files belong to it which would lead to only a partial uninstall.\n"
     ]
    }
   ],
   "source": []
  },
  {
   "cell_type": "code",
   "execution_count": 24,
   "metadata": {
    "colab": {
     "background_save": true
    },
    "id": "SPTJ-oBlr0ym"
   },
   "outputs": [],
   "source": [
    "val_data['label'] = list(map(lambda x: 1 if (x==1) else -1, val_data.is_bad)) # !!!!!!!!!!!!!!!!!!!!!\n",
    "#col['length'] = list(map(lambda x: len(x), val_data.new_vectors))\n",
    "from sklearn.preprocessing import StandardScaler, MinMaxScaler\n",
    "scaler = MinMaxScaler()\n"
   ]
  },
  {
   "cell_type": "code",
   "execution_count": 30,
   "metadata": {
    "id": "_RdoDrOwzsZE"
   },
   "outputs": [
    {
     "data": {
      "text/plain": [
       "array(['Транспорт', 'Для бизнеса', 'Для дома и дачи', 'Личные вещи',\n",
       "       'Услуги', 'Бытовая электроника', 'Недвижимость', 'Хобби и отдых',\n",
       "       'Работа', 'Животные'], dtype=object)"
      ]
     },
     "execution_count": 30,
     "metadata": {},
     "output_type": "execute_result"
    }
   ],
   "source": [
    "val_data.category.unique()"
   ]
  },
  {
   "cell_type": "code",
   "execution_count": 14,
   "metadata": {
    "id": "D9eSNsR08a56"
   },
   "outputs": [],
   "source": [
    "from sklearn.feature_extraction.text import TfidfVectorizer\n",
    "from sklearn.model_selection import train_test_split\n",
    "from sklearn.metrics import accuracy_score\n",
    "from sklearn import svm\n",
    "from sklearn.linear_model import SGDClassifier\n",
    "from sklearn.metrics import roc_auc_score\n",
    "from sklearn.tree import DecisionTreeClassifier\n",
    "from sklearn.ensemble import AdaBoostClassifier\n",
    "from sklearn.ensemble import ExtraTreesClassifier,GradientBoostingClassifier\n",
    "from sklearn.feature_extraction import DictVectorizer\n",
    "from scipy.sparse import hstack , csr_matrix\n",
    "from xgboost import XGBClassifier\n",
    "from sklearn.model_selection import KFold  \n",
    "from sklearn.model_selection import GridSearchCV \n",
    "from sklearn.pipeline import Pipeline\n",
    "from sklearn.naive_bayes import MultinomialNB\n",
    "from sklearn.compose import ColumnTransformer\n",
    "from sklearn.model_selection  import ShuffleSplit\n",
    "from sklearn.ensemble import RandomForestClassifier"
   ]
  },
  {
   "cell_type": "code",
   "execution_count": null,
   "metadata": {},
   "outputs": [],
   "source": []
  },
  {
   "cell_type": "code",
   "execution_count": 18,
   "metadata": {
    "scrolled": true
   },
   "outputs": [
    {
     "data": {
      "application/vnd.jupyter.widget-view+json": {
       "model_id": "52fb6152bc1c4011abe8397e605ccdb9",
       "version_major": 2,
       "version_minor": 0
      },
      "text/plain": [
       "HBox(children=(HTML(value=''), FloatProgress(value=0.0, max=6.0), HTML(value='')))"
      ]
     },
     "metadata": {},
     "output_type": "display_data"
    },
    {
     "name": "stdout",
     "output_type": "stream",
     "text": [
      "Fitting 5 folds for each of 6 candidates, totalling 30 fits\n"
     ]
    },
    {
     "name": "stderr",
     "output_type": "stream",
     "text": [
      "[Parallel(n_jobs=-1)]: Using backend LokyBackend with 4 concurrent workers.\n",
      "[Parallel(n_jobs=-1)]: Done  30 out of  30 | elapsed: 43.8min finished\n"
     ]
    },
    {
     "name": "stdout",
     "output_type": "stream",
     "text": [
      "Личные вещи   {'max_depth': 30}   0.926016156113457\n",
      "Fitting 5 folds for each of 6 candidates, totalling 30 fits\n"
     ]
    },
    {
     "name": "stderr",
     "output_type": "stream",
     "text": [
      "[Parallel(n_jobs=-1)]: Using backend LokyBackend with 4 concurrent workers.\n",
      "[Parallel(n_jobs=-1)]: Done  30 out of  30 | elapsed: 15.9min finished\n"
     ]
    },
    {
     "name": "stdout",
     "output_type": "stream",
     "text": [
      "Услуги   {'max_depth': 30}   0.9072930395930335\n",
      "Fitting 5 folds for each of 6 candidates, totalling 30 fits\n"
     ]
    },
    {
     "name": "stderr",
     "output_type": "stream",
     "text": [
      "[Parallel(n_jobs=-1)]: Using backend LokyBackend with 4 concurrent workers.\n",
      "[Parallel(n_jobs=-1)]: Done  30 out of  30 | elapsed: 53.1min finished\n"
     ]
    },
    {
     "name": "stdout",
     "output_type": "stream",
     "text": [
      "Бытовая электроника   {'max_depth': 30}   0.8403575067314117\n",
      "Fitting 5 folds for each of 6 candidates, totalling 30 fits\n"
     ]
    },
    {
     "name": "stderr",
     "output_type": "stream",
     "text": [
      "[Parallel(n_jobs=-1)]: Using backend LokyBackend with 4 concurrent workers.\n",
      "[Parallel(n_jobs=-1)]: Done  30 out of  30 | elapsed: 12.4min finished\n"
     ]
    },
    {
     "name": "stdout",
     "output_type": "stream",
     "text": [
      "Хобби и отдых   {'max_depth': 30}   0.9097724049669674\n",
      "Fitting 5 folds for each of 6 candidates, totalling 30 fits\n"
     ]
    },
    {
     "name": "stderr",
     "output_type": "stream",
     "text": [
      "[Parallel(n_jobs=-1)]: Using backend LokyBackend with 4 concurrent workers.\n",
      "[Parallel(n_jobs=-1)]: Done  30 out of  30 | elapsed:  6.1min finished\n"
     ]
    },
    {
     "name": "stdout",
     "output_type": "stream",
     "text": [
      "Работа   {'max_depth': 30}   0.8702404635817599\n",
      "Fitting 5 folds for each of 6 candidates, totalling 30 fits\n"
     ]
    },
    {
     "name": "stderr",
     "output_type": "stream",
     "text": [
      "[Parallel(n_jobs=-1)]: Using backend LokyBackend with 4 concurrent workers.\n",
      "[Parallel(n_jobs=-1)]: Done  30 out of  30 | elapsed:  4.6min finished\n"
     ]
    },
    {
     "name": "stdout",
     "output_type": "stream",
     "text": [
      "Животные   {'max_depth': 30}   0.9463330404776414\n",
      "\n"
     ]
    }
   ],
   "source": [
    "vectorizer = TfidfVectorizer(ngram_range=(1, 2), max_df = 0.4, min_df=0.001 )\n",
    "vectorizer.fit(train_data.hard)\n",
    "\n",
    "# clf = XGBClassifier(error = 'auc', objective = 'binary:logistic',  n_jobs=-1, n_estimators = 500, reg_alpha =0.2, reg_lambda =0.2 )\n",
    "clf = RandomForestClassifier(n_jobs=-1, n_estimators = 500)\n",
    "parameters = {'max_depth' : [5,10,15,20,25,30]}\n",
    "grad_class  = GridSearchCV(clf, parameters, n_jobs=-1, verbose=1, scoring = 'roc_auc', cv  =5)\n",
    "enc = DictVectorizer() \n",
    "\n",
    "for  i in tqdm( [ 'Личные вещи','Услуги', 'Бытовая электроника', 'Хобби и отдых',\n",
    "       'Работа', 'Животные']):\n",
    "    \n",
    "    df_test = train_data[train_data.category == i] # 'max_len','words_amount','normalized_max','text_length', \n",
    "\n",
    "    categ_train = enc.fit_transform(df_test[['english_letter_amount','site_amount','messenger_amount','naive_detect','letter_number_amount','emoji_number_amount','plus_coma']].to_dict('records'))\n",
    "    dense_vectors_train = vectorizer.transform(df_test.hard)\n",
    "    X_train =hstack([dense_vectors_train,categ_train])#  \n",
    "    y_train = df_test.is_bad.values\n",
    "    grad_class.fit(X_train,y_train)\n",
    "    print(i,' ',grad_class.best_params_, ' ', grad_class.best_score_)"
   ]
  },
  {
   "cell_type": "markdown",
   "metadata": {},
   "source": [
    "Слова-инликаторы - телефон почта, пишите звоните\n",
    "Label-smoothing \n",
    "Количество цифр \n",
    "Средняя длина числа  \n",
    "Сколько чисел длины заданного типа 8_2_4_5_4_5_2_5_4_5 \n",
    "Сколько \n",
    "**Регулярки переделать к хуям!**\n",
    "\n"
   ]
  },
  {
   "cell_type": "code",
   "execution_count": 23,
   "metadata": {},
   "outputs": [
    {
     "data": {
      "text/html": [
       "<div>\n",
       "<style scoped>\n",
       "    .dataframe tbody tr th:only-of-type {\n",
       "        vertical-align: middle;\n",
       "    }\n",
       "\n",
       "    .dataframe tbody tr th {\n",
       "        vertical-align: top;\n",
       "    }\n",
       "\n",
       "    .dataframe thead th {\n",
       "        text-align: right;\n",
       "    }\n",
       "</style>\n",
       "<table border=\"1\" class=\"dataframe\">\n",
       "  <thead>\n",
       "    <tr style=\"text-align: right;\">\n",
       "      <th></th>\n",
       "      <th>title</th>\n",
       "      <th>description</th>\n",
       "      <th>subcategory</th>\n",
       "      <th>category</th>\n",
       "      <th>price</th>\n",
       "      <th>region</th>\n",
       "      <th>city</th>\n",
       "      <th>datetime_submitted</th>\n",
       "      <th>is_bad</th>\n",
       "      <th>hard</th>\n",
       "      <th>numbers_amount</th>\n",
       "      <th>site_amount</th>\n",
       "      <th>messenger_amount</th>\n",
       "      <th>social_amount</th>\n",
       "      <th>other_amount</th>\n",
       "      <th>naive_detect</th>\n",
       "      <th>english_letter_amount</th>\n",
       "      <th>letter_number_amount</th>\n",
       "      <th>emoji_number_amount</th>\n",
       "      <th>plus_coma</th>\n",
       "    </tr>\n",
       "  </thead>\n",
       "  <tbody>\n",
       "    <tr>\n",
       "      <th>5</th>\n",
       "      <td>Селектив и Ниша Ценопад</td>\n",
       "      <td>Вычитаем 40 процентов 👍 Семейная коллекция пар...</td>\n",
       "      <td>Красота и здоровье</td>\n",
       "      <td>Личные вещи</td>\n",
       "      <td>500.0</td>\n",
       "      <td>Россия</td>\n",
       "      <td>Москва</td>\n",
       "      <td>2019-10-10 00:06:46.441433</td>\n",
       "      <td>0</td>\n",
       "      <td>вычитаем 40 процентов 👍 семейная коллекция пар...</td>\n",
       "      <td>78</td>\n",
       "      <td>5</td>\n",
       "      <td>1</td>\n",
       "      <td>1</td>\n",
       "      <td>0</td>\n",
       "      <td>0</td>\n",
       "      <td>1013</td>\n",
       "      <td>1</td>\n",
       "      <td>0</td>\n",
       "      <td>0</td>\n",
       "    </tr>\n",
       "    <tr>\n",
       "      <th>7</th>\n",
       "      <td>Лампа кольцевая</td>\n",
       "      <td>Кольцевая лампа идеально подойдет, если вы: /\\...</td>\n",
       "      <td>Красота и здоровье</td>\n",
       "      <td>Личные вещи</td>\n",
       "      <td>3200.0</td>\n",
       "      <td>Краснодарский край</td>\n",
       "      <td>Краснодар</td>\n",
       "      <td>2019-10-10 00:07:22.131219</td>\n",
       "      <td>0</td>\n",
       "      <td>кольцевая лампа идеально подойдет, если вы:   ...</td>\n",
       "      <td>26</td>\n",
       "      <td>0</td>\n",
       "      <td>0</td>\n",
       "      <td>3</td>\n",
       "      <td>0</td>\n",
       "      <td>0</td>\n",
       "      <td>10</td>\n",
       "      <td>2</td>\n",
       "      <td>0</td>\n",
       "      <td>0</td>\n",
       "    </tr>\n",
       "    <tr>\n",
       "      <th>8</th>\n",
       "      <td>Ремонт квартир</td>\n",
       "      <td>Бригада  выполнит ремонт в вашей квартире любо...</td>\n",
       "      <td>Предложение услуг</td>\n",
       "      <td>Услуги</td>\n",
       "      <td>500.0</td>\n",
       "      <td>Московская область</td>\n",
       "      <td>Подольск</td>\n",
       "      <td>2019-10-10 00:08:30.768484</td>\n",
       "      <td>0</td>\n",
       "      <td>бригада  выполнит ремонт в вашей квартире любо...</td>\n",
       "      <td>0</td>\n",
       "      <td>1</td>\n",
       "      <td>0</td>\n",
       "      <td>1</td>\n",
       "      <td>0</td>\n",
       "      <td>0</td>\n",
       "      <td>0</td>\n",
       "      <td>0</td>\n",
       "      <td>0</td>\n",
       "      <td>0</td>\n",
       "    </tr>\n",
       "    <tr>\n",
       "      <th>12</th>\n",
       "      <td>Coffee Lake i7-9700K \\ GTX 2550Ti \\ HDD 3000 GB</td>\n",
       "      <td>👍 ГАРАНТИЯ, ТОВАРНЫЙ ЧЕК/\\n 👨‍💻 ПРОВЕРИМ НА МЕ...</td>\n",
       "      <td>Настольные компьютеры</td>\n",
       "      <td>Бытовая электроника</td>\n",
       "      <td>6000.0</td>\n",
       "      <td>Россия</td>\n",
       "      <td>Санкт-Петербург</td>\n",
       "      <td>2019-10-10 00:14:27.600481</td>\n",
       "      <td>0</td>\n",
       "      <td>👍 гарантия, товарный чек  👨‍💻 проверим на мест...</td>\n",
       "      <td>58</td>\n",
       "      <td>3</td>\n",
       "      <td>1</td>\n",
       "      <td>3</td>\n",
       "      <td>0</td>\n",
       "      <td>11</td>\n",
       "      <td>121</td>\n",
       "      <td>1</td>\n",
       "      <td>0</td>\n",
       "      <td>0</td>\n",
       "    </tr>\n",
       "    <tr>\n",
       "      <th>13</th>\n",
       "      <td>33\" SAMSUNG 5180x5020 (51:50)</td>\n",
       "      <td>Samsung SyncMaster 4431NW/\\nЖК-монитор, широко...</td>\n",
       "      <td>Товары для компьютера</td>\n",
       "      <td>Бытовая электроника</td>\n",
       "      <td>3000.0</td>\n",
       "      <td>Ростовская область</td>\n",
       "      <td>Азов</td>\n",
       "      <td>2019-10-10 00:15:17.380532</td>\n",
       "      <td>0</td>\n",
       "      <td>samsung syncmaster 4431nw жкмонитор, широкофор...</td>\n",
       "      <td>39</td>\n",
       "      <td>2</td>\n",
       "      <td>0</td>\n",
       "      <td>0</td>\n",
       "      <td>0</td>\n",
       "      <td>0</td>\n",
       "      <td>36</td>\n",
       "      <td>2</td>\n",
       "      <td>0</td>\n",
       "      <td>0</td>\n",
       "    </tr>\n",
       "    <tr>\n",
       "      <th>...</th>\n",
       "      <td>...</td>\n",
       "      <td>...</td>\n",
       "      <td>...</td>\n",
       "      <td>...</td>\n",
       "      <td>...</td>\n",
       "      <td>...</td>\n",
       "      <td>...</td>\n",
       "      <td>...</td>\n",
       "      <td>...</td>\n",
       "      <td>...</td>\n",
       "      <td>...</td>\n",
       "      <td>...</td>\n",
       "      <td>...</td>\n",
       "      <td>...</td>\n",
       "      <td>...</td>\n",
       "      <td>...</td>\n",
       "      <td>...</td>\n",
       "      <td>...</td>\n",
       "      <td>...</td>\n",
       "      <td>...</td>\n",
       "    </tr>\n",
       "    <tr>\n",
       "      <th>984478</th>\n",
       "      <td>2D очки VR-BOX 6.0</td>\n",
       "      <td>В коробке с геймпадом Bluetooth./\\nОчки универ...</td>\n",
       "      <td>Телефоны</td>\n",
       "      <td>Бытовая электроника</td>\n",
       "      <td>1000.0</td>\n",
       "      <td>Россия</td>\n",
       "      <td>Москва</td>\n",
       "      <td>2019-10-09 23:55:05.928422</td>\n",
       "      <td>0</td>\n",
       "      <td>в коробке с геймпадом bluetooth очки универсал...</td>\n",
       "      <td>7</td>\n",
       "      <td>0</td>\n",
       "      <td>0</td>\n",
       "      <td>0</td>\n",
       "      <td>0</td>\n",
       "      <td>0</td>\n",
       "      <td>10</td>\n",
       "      <td>0</td>\n",
       "      <td>0</td>\n",
       "      <td>0</td>\n",
       "    </tr>\n",
       "    <tr>\n",
       "      <th>984479</th>\n",
       "      <td>Одежда Barbie Monster High Ever After High</td>\n",
       "      <td>Вся информация про цены на фотографиях./\\nЧерн...</td>\n",
       "      <td>Товары для детей и игрушки</td>\n",
       "      <td>Личные вещи</td>\n",
       "      <td>200.0</td>\n",
       "      <td>Россия</td>\n",
       "      <td>Санкт-Петербург</td>\n",
       "      <td>2019-10-09 23:55:25.699804</td>\n",
       "      <td>0</td>\n",
       "      <td>вся информация про цены на фотографиях черным\\...</td>\n",
       "      <td>0</td>\n",
       "      <td>0</td>\n",
       "      <td>1</td>\n",
       "      <td>0</td>\n",
       "      <td>0</td>\n",
       "      <td>0</td>\n",
       "      <td>0</td>\n",
       "      <td>0</td>\n",
       "      <td>0</td>\n",
       "      <td>0</td>\n",
       "    </tr>\n",
       "    <tr>\n",
       "      <th>984481</th>\n",
       "      <td>Платье вечернее шёлк</td>\n",
       "      <td>Покупала значительно дороже ! Шёлк , ручная ра...</td>\n",
       "      <td>Одежда, обувь, аксессуары</td>\n",
       "      <td>Личные вещи</td>\n",
       "      <td>5000.0</td>\n",
       "      <td>Россия</td>\n",
       "      <td>Москва</td>\n",
       "      <td>2019-10-09 23:55:47.714272</td>\n",
       "      <td>0</td>\n",
       "      <td>покупала значительно дороже ! шёлк , ручная ра...</td>\n",
       "      <td>0</td>\n",
       "      <td>2</td>\n",
       "      <td>0</td>\n",
       "      <td>0</td>\n",
       "      <td>0</td>\n",
       "      <td>0</td>\n",
       "      <td>0</td>\n",
       "      <td>3</td>\n",
       "      <td>0</td>\n",
       "      <td>0</td>\n",
       "    </tr>\n",
       "    <tr>\n",
       "      <th>984483</th>\n",
       "      <td>Juul</td>\n",
       "      <td>Зарядка и под в комплекте.</td>\n",
       "      <td>Коллекционирование</td>\n",
       "      <td>Хобби и отдых</td>\n",
       "      <td>1200.0</td>\n",
       "      <td>Россия</td>\n",
       "      <td>Москва</td>\n",
       "      <td>2019-10-09 23:56:13.283059</td>\n",
       "      <td>0</td>\n",
       "      <td>зарядка и под в комплекте</td>\n",
       "      <td>0</td>\n",
       "      <td>0</td>\n",
       "      <td>0</td>\n",
       "      <td>0</td>\n",
       "      <td>0</td>\n",
       "      <td>0</td>\n",
       "      <td>0</td>\n",
       "      <td>0</td>\n",
       "      <td>0</td>\n",
       "      <td>0</td>\n",
       "    </tr>\n",
       "    <tr>\n",
       "      <th>984486</th>\n",
       "      <td>Репетитор по математике, подготовка к огэ</td>\n",
       "      <td>Основное и самое любимое направление моей рабо...</td>\n",
       "      <td>Предложение услуг</td>\n",
       "      <td>Услуги</td>\n",
       "      <td>1300.0</td>\n",
       "      <td>Московская область</td>\n",
       "      <td>Балашиха</td>\n",
       "      <td>2019-10-09 23:59:41.342367</td>\n",
       "      <td>1</td>\n",
       "      <td>основное и самое любимое направление моей рабо...</td>\n",
       "      <td>12</td>\n",
       "      <td>2</td>\n",
       "      <td>2</td>\n",
       "      <td>3</td>\n",
       "      <td>0</td>\n",
       "      <td>0</td>\n",
       "      <td>13</td>\n",
       "      <td>1</td>\n",
       "      <td>0</td>\n",
       "      <td>0</td>\n",
       "    </tr>\n",
       "  </tbody>\n",
       "</table>\n",
       "<p>537168 rows × 20 columns</p>\n",
       "</div>"
      ],
      "text/plain": [
       "                                                  title  \\\n",
       "5                               Селектив и Ниша Ценопад   \n",
       "7                                       Лампа кольцевая   \n",
       "8                                        Ремонт квартир   \n",
       "12      Coffee Lake i7-9700K \\ GTX 2550Ti \\ HDD 3000 GB   \n",
       "13                        33\" SAMSUNG 5180x5020 (51:50)   \n",
       "...                                                 ...   \n",
       "984478                               2D очки VR-BOX 6.0   \n",
       "984479       Одежда Barbie Monster High Ever After High   \n",
       "984481                             Платье вечернее шёлк   \n",
       "984483                                             Juul   \n",
       "984486        Репетитор по математике, подготовка к огэ   \n",
       "\n",
       "                                              description  \\\n",
       "5       Вычитаем 40 процентов 👍 Семейная коллекция пар...   \n",
       "7       Кольцевая лампа идеально подойдет, если вы: /\\...   \n",
       "8       Бригада  выполнит ремонт в вашей квартире любо...   \n",
       "12      👍 ГАРАНТИЯ, ТОВАРНЫЙ ЧЕК/\\n 👨‍💻 ПРОВЕРИМ НА МЕ...   \n",
       "13      Samsung SyncMaster 4431NW/\\nЖК-монитор, широко...   \n",
       "...                                                   ...   \n",
       "984478  В коробке с геймпадом Bluetooth./\\nОчки универ...   \n",
       "984479  Вся информация про цены на фотографиях./\\nЧерн...   \n",
       "984481  Покупала значительно дороже ! Шёлк , ручная ра...   \n",
       "984483                         Зарядка и под в комплекте.   \n",
       "984486  Основное и самое любимое направление моей рабо...   \n",
       "\n",
       "                       subcategory             category   price  \\\n",
       "5               Красота и здоровье          Личные вещи   500.0   \n",
       "7               Красота и здоровье          Личные вещи  3200.0   \n",
       "8                Предложение услуг               Услуги   500.0   \n",
       "12           Настольные компьютеры  Бытовая электроника  6000.0   \n",
       "13           Товары для компьютера  Бытовая электроника  3000.0   \n",
       "...                            ...                  ...     ...   \n",
       "984478                    Телефоны  Бытовая электроника  1000.0   \n",
       "984479  Товары для детей и игрушки          Личные вещи   200.0   \n",
       "984481   Одежда, обувь, аксессуары          Личные вещи  5000.0   \n",
       "984483          Коллекционирование        Хобби и отдых  1200.0   \n",
       "984486           Предложение услуг               Услуги  1300.0   \n",
       "\n",
       "                    region             city          datetime_submitted  \\\n",
       "5                   Россия           Москва  2019-10-10 00:06:46.441433   \n",
       "7       Краснодарский край        Краснодар  2019-10-10 00:07:22.131219   \n",
       "8       Московская область         Подольск  2019-10-10 00:08:30.768484   \n",
       "12                  Россия  Санкт-Петербург  2019-10-10 00:14:27.600481   \n",
       "13      Ростовская область             Азов  2019-10-10 00:15:17.380532   \n",
       "...                    ...              ...                         ...   \n",
       "984478              Россия           Москва  2019-10-09 23:55:05.928422   \n",
       "984479              Россия  Санкт-Петербург  2019-10-09 23:55:25.699804   \n",
       "984481              Россия           Москва  2019-10-09 23:55:47.714272   \n",
       "984483              Россия           Москва  2019-10-09 23:56:13.283059   \n",
       "984486  Московская область         Балашиха  2019-10-09 23:59:41.342367   \n",
       "\n",
       "        is_bad                                               hard  \\\n",
       "5            0  вычитаем 40 процентов 👍 семейная коллекция пар...   \n",
       "7            0  кольцевая лампа идеально подойдет, если вы:   ...   \n",
       "8            0  бригада  выполнит ремонт в вашей квартире любо...   \n",
       "12           0  👍 гарантия, товарный чек  👨‍💻 проверим на мест...   \n",
       "13           0  samsung syncmaster 4431nw жкмонитор, широкофор...   \n",
       "...        ...                                                ...   \n",
       "984478       0  в коробке с геймпадом bluetooth очки универсал...   \n",
       "984479       0  вся информация про цены на фотографиях черным\\...   \n",
       "984481       0  покупала значительно дороже ! шёлк , ручная ра...   \n",
       "984483       0                          зарядка и под в комплекте   \n",
       "984486       1  основное и самое любимое направление моей рабо...   \n",
       "\n",
       "        numbers_amount  site_amount  messenger_amount  social_amount  \\\n",
       "5                   78            5                 1              1   \n",
       "7                   26            0                 0              3   \n",
       "8                    0            1                 0              1   \n",
       "12                  58            3                 1              3   \n",
       "13                  39            2                 0              0   \n",
       "...                ...          ...               ...            ...   \n",
       "984478               7            0                 0              0   \n",
       "984479               0            0                 1              0   \n",
       "984481               0            2                 0              0   \n",
       "984483               0            0                 0              0   \n",
       "984486              12            2                 2              3   \n",
       "\n",
       "        other_amount  naive_detect  english_letter_amount  \\\n",
       "5                  0             0                   1013   \n",
       "7                  0             0                     10   \n",
       "8                  0             0                      0   \n",
       "12                 0            11                    121   \n",
       "13                 0             0                     36   \n",
       "...              ...           ...                    ...   \n",
       "984478             0             0                     10   \n",
       "984479             0             0                      0   \n",
       "984481             0             0                      0   \n",
       "984483             0             0                      0   \n",
       "984486             0             0                     13   \n",
       "\n",
       "        letter_number_amount  emoji_number_amount  plus_coma  \n",
       "5                          1                    0          0  \n",
       "7                          2                    0          0  \n",
       "8                          0                    0          0  \n",
       "12                         1                    0          0  \n",
       "13                         2                    0          0  \n",
       "...                      ...                  ...        ...  \n",
       "984478                     0                    0          0  \n",
       "984479                     0                    0          0  \n",
       "984481                     3                    0          0  \n",
       "984483                     0                    0          0  \n",
       "984486                     1                    0          0  \n",
       "\n",
       "[537168 rows x 20 columns]"
      ]
     },
     "execution_count": 23,
     "metadata": {},
     "output_type": "execute_result"
    }
   ],
   "source": [
    "val_data\n",
    "val_data = val_data[val_data.category.isin(to_work)]\n",
    "create_features(val_data)\n",
    "# val_data[val_data.category =='Услуги'][val_data.is_bad==0].hard.values \n",
    "val_data\n",
    "full_data = val_data.append(train_data)\n",
    "full_data"
   ]
  },
  {
   "cell_type": "code",
   "execution_count": 24,
   "metadata": {},
   "outputs": [
    {
     "ename": "TypeError",
     "evalue": "__init__() missing 1 required positional argument: 'param_grid'",
     "output_type": "error",
     "traceback": [
      "\u001b[1;31m---------------------------------------------------------------------------\u001b[0m",
      "\u001b[1;31mTypeError\u001b[0m                                 Traceback (most recent call last)",
      "\u001b[1;32m<ipython-input-24-17330ab126cf>\u001b[0m in \u001b[0;36m<module>\u001b[1;34m\u001b[0m\n\u001b[0;32m      5\u001b[0m \u001b[0mclf\u001b[0m \u001b[1;33m=\u001b[0m \u001b[0mRandomForestClassifier\u001b[0m\u001b[1;33m(\u001b[0m\u001b[0mn_jobs\u001b[0m\u001b[1;33m=\u001b[0m\u001b[1;33m-\u001b[0m\u001b[1;36m1\u001b[0m\u001b[1;33m,\u001b[0m \u001b[0mn_estimators\u001b[0m \u001b[1;33m=\u001b[0m \u001b[1;36m500\u001b[0m\u001b[1;33m,\u001b[0m \u001b[0mmax_depth\u001b[0m\u001b[1;33m=\u001b[0m\u001b[1;36m30\u001b[0m\u001b[1;33m)\u001b[0m\u001b[1;33m\u001b[0m\u001b[1;33m\u001b[0m\u001b[0m\n\u001b[0;32m      6\u001b[0m \u001b[0mparameters\u001b[0m \u001b[1;33m=\u001b[0m \u001b[1;33m{\u001b[0m\u001b[1;34m'max_depth'\u001b[0m \u001b[1;33m:\u001b[0m \u001b[1;33m[\u001b[0m\u001b[1;36m5\u001b[0m\u001b[1;33m,\u001b[0m\u001b[1;36m10\u001b[0m\u001b[1;33m,\u001b[0m\u001b[1;36m15\u001b[0m\u001b[1;33m,\u001b[0m\u001b[1;36m20\u001b[0m\u001b[1;33m,\u001b[0m\u001b[1;36m25\u001b[0m\u001b[1;33m,\u001b[0m\u001b[1;36m30\u001b[0m\u001b[1;33m]\u001b[0m\u001b[1;33m}\u001b[0m\u001b[1;33m\u001b[0m\u001b[1;33m\u001b[0m\u001b[0m\n\u001b[1;32m----> 7\u001b[1;33m \u001b[0mgrad_class\u001b[0m  \u001b[1;33m=\u001b[0m \u001b[0mGridSearchCV\u001b[0m\u001b[1;33m(\u001b[0m\u001b[0mclf\u001b[0m\u001b[1;33m,\u001b[0m \u001b[0mn_jobs\u001b[0m\u001b[1;33m=\u001b[0m\u001b[1;33m-\u001b[0m\u001b[1;36m1\u001b[0m\u001b[1;33m,\u001b[0m \u001b[0mverbose\u001b[0m\u001b[1;33m=\u001b[0m\u001b[1;36m1\u001b[0m\u001b[1;33m,\u001b[0m \u001b[0mscoring\u001b[0m \u001b[1;33m=\u001b[0m \u001b[1;34m'roc_auc'\u001b[0m\u001b[1;33m,\u001b[0m \u001b[0mcv\u001b[0m  \u001b[1;33m=\u001b[0m\u001b[1;36m5\u001b[0m\u001b[1;33m)\u001b[0m\u001b[1;33m\u001b[0m\u001b[1;33m\u001b[0m\u001b[0m\n\u001b[0m\u001b[0;32m      8\u001b[0m \u001b[0menc\u001b[0m \u001b[1;33m=\u001b[0m \u001b[0mDictVectorizer\u001b[0m\u001b[1;33m(\u001b[0m\u001b[1;33m)\u001b[0m\u001b[1;33m\u001b[0m\u001b[1;33m\u001b[0m\u001b[0m\n\u001b[0;32m      9\u001b[0m \u001b[1;33m\u001b[0m\u001b[0m\n",
      "\u001b[1;32m~\\anaconda3\\lib\\site-packages\\sklearn\\utils\\validation.py\u001b[0m in \u001b[0;36minner_f\u001b[1;34m(*args, **kwargs)\u001b[0m\n\u001b[0;32m     70\u001b[0m                           FutureWarning)\n\u001b[0;32m     71\u001b[0m         \u001b[0mkwargs\u001b[0m\u001b[1;33m.\u001b[0m\u001b[0mupdate\u001b[0m\u001b[1;33m(\u001b[0m\u001b[1;33m{\u001b[0m\u001b[0mk\u001b[0m\u001b[1;33m:\u001b[0m \u001b[0marg\u001b[0m \u001b[1;32mfor\u001b[0m \u001b[0mk\u001b[0m\u001b[1;33m,\u001b[0m \u001b[0marg\u001b[0m \u001b[1;32min\u001b[0m \u001b[0mzip\u001b[0m\u001b[1;33m(\u001b[0m\u001b[0msig\u001b[0m\u001b[1;33m.\u001b[0m\u001b[0mparameters\u001b[0m\u001b[1;33m,\u001b[0m \u001b[0margs\u001b[0m\u001b[1;33m)\u001b[0m\u001b[1;33m}\u001b[0m\u001b[1;33m)\u001b[0m\u001b[1;33m\u001b[0m\u001b[1;33m\u001b[0m\u001b[0m\n\u001b[1;32m---> 72\u001b[1;33m         \u001b[1;32mreturn\u001b[0m \u001b[0mf\u001b[0m\u001b[1;33m(\u001b[0m\u001b[1;33m**\u001b[0m\u001b[0mkwargs\u001b[0m\u001b[1;33m)\u001b[0m\u001b[1;33m\u001b[0m\u001b[1;33m\u001b[0m\u001b[0m\n\u001b[0m\u001b[0;32m     73\u001b[0m     \u001b[1;32mreturn\u001b[0m \u001b[0minner_f\u001b[0m\u001b[1;33m\u001b[0m\u001b[1;33m\u001b[0m\u001b[0m\n\u001b[0;32m     74\u001b[0m \u001b[1;33m\u001b[0m\u001b[0m\n",
      "\u001b[1;31mTypeError\u001b[0m: __init__() missing 1 required positional argument: 'param_grid'"
     ]
    }
   ],
   "source": [
    "vectorizer = TfidfVectorizer(ngram_range=(1, 2), max_df = 0.4, min_df=0.001 )\n",
    "vectorizer.fit(full_data.hard)\n",
    "\n",
    "# clf = XGBClassifier(error = 'auc', objective = 'binary:logistic',  n_jobs=-1, n_estimators = 500, reg_alpha =0.2, reg_lambda =0.2 )\n",
    "clf = RandomForestClassifier(n_jobs=-1, n_estimators = 500, max_depth=30)\n"
   ]
  },
  {
   "cell_type": "code",
   "execution_count": 27,
   "metadata": {},
   "outputs": [
    {
     "data": {
      "application/vnd.jupyter.widget-view+json": {
       "model_id": "662148721d614e6a83a8bec537c033ce",
       "version_major": 2,
       "version_minor": 0
      },
      "text/plain": [
       "HBox(children=(HTML(value=''), FloatProgress(value=0.0, max=6.0), HTML(value='')))"
      ]
     },
     "metadata": {},
     "output_type": "display_data"
    },
    {
     "name": "stdout",
     "output_type": "stream",
     "text": [
      "Fitting 5 folds for each of 1 candidates, totalling 5 fits\n"
     ]
    },
    {
     "name": "stderr",
     "output_type": "stream",
     "text": [
      "[Parallel(n_jobs=-1)]: Using backend LokyBackend with 4 concurrent workers.\n",
      "[Parallel(n_jobs=-1)]: Done   5 out of   5 | elapsed: 15.8min finished\n"
     ]
    },
    {
     "name": "stdout",
     "output_type": "stream",
     "text": [
      "Личные вещи   {'max_depth': 30}   0.9249115740689782\n",
      "Fitting 5 folds for each of 1 candidates, totalling 5 fits\n"
     ]
    },
    {
     "name": "stderr",
     "output_type": "stream",
     "text": [
      "[Parallel(n_jobs=-1)]: Using backend LokyBackend with 4 concurrent workers.\n",
      "[Parallel(n_jobs=-1)]: Done   5 out of   5 | elapsed:  5.4min finished\n"
     ]
    },
    {
     "name": "stdout",
     "output_type": "stream",
     "text": [
      "Услуги   {'max_depth': 30}   0.9050651343740347\n",
      "Fitting 5 folds for each of 1 candidates, totalling 5 fits\n"
     ]
    },
    {
     "name": "stderr",
     "output_type": "stream",
     "text": [
      "[Parallel(n_jobs=-1)]: Using backend LokyBackend with 4 concurrent workers.\n",
      "[Parallel(n_jobs=-1)]: Done   5 out of   5 | elapsed: 19.1min finished\n"
     ]
    },
    {
     "name": "stdout",
     "output_type": "stream",
     "text": [
      "Бытовая электроника   {'max_depth': 30}   0.8503226546117544\n",
      "Fitting 5 folds for each of 1 candidates, totalling 5 fits\n"
     ]
    },
    {
     "name": "stderr",
     "output_type": "stream",
     "text": [
      "[Parallel(n_jobs=-1)]: Using backend LokyBackend with 4 concurrent workers.\n",
      "[Parallel(n_jobs=-1)]: Done   5 out of   5 | elapsed:  4.3min finished\n"
     ]
    },
    {
     "name": "stdout",
     "output_type": "stream",
     "text": [
      "Хобби и отдых   {'max_depth': 30}   0.9089297408789765\n",
      "Fitting 5 folds for each of 1 candidates, totalling 5 fits\n"
     ]
    },
    {
     "name": "stderr",
     "output_type": "stream",
     "text": [
      "[Parallel(n_jobs=-1)]: Using backend LokyBackend with 4 concurrent workers.\n",
      "[Parallel(n_jobs=-1)]: Done   5 out of   5 | elapsed:  2.4min finished\n"
     ]
    },
    {
     "name": "stdout",
     "output_type": "stream",
     "text": [
      "Работа   {'max_depth': 30}   0.8709259675961546\n",
      "Fitting 5 folds for each of 1 candidates, totalling 5 fits\n"
     ]
    },
    {
     "name": "stderr",
     "output_type": "stream",
     "text": [
      "[Parallel(n_jobs=-1)]: Using backend LokyBackend with 4 concurrent workers.\n",
      "[Parallel(n_jobs=-1)]: Done   5 out of   5 | elapsed:  1.6min finished\n"
     ]
    },
    {
     "name": "stdout",
     "output_type": "stream",
     "text": [
      "Животные   {'max_depth': 30}   0.9459619257689932\n",
      "\n"
     ]
    }
   ],
   "source": [
    "parameters = {'max_depth' : [30]}\n",
    "grad_class  = GridSearchCV(clf,param_grid = parameters, n_jobs=-1, verbose=1, scoring = 'roc_auc', cv  =5)\n",
    "enc = DictVectorizer() \n",
    "\n",
    "for  i in tqdm( [ 'Личные вещи','Услуги', 'Бытовая электроника', 'Хобби и отдых',\n",
    "       'Работа', 'Животные']):\n",
    "    \n",
    "    df_test = full_data[full_data.category == i] # 'max_len','words_amount','normalized_max','text_length', \n",
    "\n",
    "    categ_train = enc.fit_transform(df_test[['english_letter_amount','site_amount','messenger_amount','naive_detect','letter_number_amount','emoji_number_amount','plus_coma']].to_dict('records'))\n",
    "    dense_vectors_train = vectorizer.transform(df_test.hard)\n",
    "    X_train =hstack([dense_vectors_train,categ_train])#  \n",
    "    y_train = df_test.is_bad.values\n",
    "    grad_class.fit(X_train,y_train)\n",
    "    print(i,' ',grad_class.best_params_, ' ', grad_class.best_score_)"
   ]
  },
  {
   "cell_type": "code",
   "execution_count": 242,
   "metadata": {
    "colab": {
     "base_uri": "https://localhost:8080/"
    },
    "id": "2yBF8VL27C0b",
    "outputId": "d8a06444-d3c5-4098-e490-1ac5080e822f",
    "scrolled": true
   },
   "outputs": [
    {
     "data": {
      "application/vnd.jupyter.widget-view+json": {
       "model_id": "81bb50a38560496ba1437bd465883ee0",
       "version_major": 2,
       "version_minor": 0
      },
      "text/plain": [
       "HBox(children=(HTML(value=''), FloatProgress(value=0.0, max=6.0), HTML(value='')))"
      ]
     },
     "metadata": {},
     "output_type": "display_data"
    },
    {
     "name": "stdout",
     "output_type": "stream",
     "text": [
      "\n"
     ]
    },
    {
     "ename": "AttributeError",
     "evalue": "'DataFrame' object has no attribute 'new_vectors'",
     "output_type": "error",
     "traceback": [
      "\u001b[1;31m---------------------------------------------------------------------------\u001b[0m",
      "\u001b[1;31mAttributeError\u001b[0m                            Traceback (most recent call last)",
      "\u001b[1;32m<ipython-input-242-8212158eaf79>\u001b[0m in \u001b[0;36m<module>\u001b[1;34m\u001b[0m\n\u001b[0;32m     40\u001b[0m     \u001b[0menc\u001b[0m \u001b[1;33m=\u001b[0m \u001b[0mDictVectorizer\u001b[0m\u001b[1;33m(\u001b[0m\u001b[1;33m)\u001b[0m\u001b[1;33m\u001b[0m\u001b[1;33m\u001b[0m\u001b[0m\n\u001b[0;32m     41\u001b[0m \u001b[1;33m\u001b[0m\u001b[0m\n\u001b[1;32m---> 42\u001b[1;33m     \u001b[0mdense_vectors_train\u001b[0m \u001b[1;33m=\u001b[0m \u001b[0mvectorizer\u001b[0m\u001b[1;33m.\u001b[0m\u001b[0mfit_transform\u001b[0m\u001b[1;33m(\u001b[0m\u001b[0mdf_train\u001b[0m\u001b[1;33m.\u001b[0m\u001b[0mnew_vectors\u001b[0m\u001b[1;33m)\u001b[0m\u001b[1;33m\u001b[0m\u001b[1;33m\u001b[0m\u001b[0m\n\u001b[0m\u001b[0;32m     43\u001b[0m     \u001b[0mdense_vectors_test\u001b[0m \u001b[1;33m=\u001b[0m \u001b[0mvectorizer\u001b[0m\u001b[1;33m.\u001b[0m\u001b[0mtransform\u001b[0m\u001b[1;33m(\u001b[0m\u001b[0mdf_test\u001b[0m\u001b[1;33m.\u001b[0m\u001b[0mnew_vectors\u001b[0m\u001b[1;33m)\u001b[0m\u001b[1;33m\u001b[0m\u001b[1;33m\u001b[0m\u001b[0m\n\u001b[0;32m     44\u001b[0m \u001b[1;31m#     df_train_categ = enc.fit_transform(df[['price']].to_dict('records'))\u001b[0m\u001b[1;33m\u001b[0m\u001b[1;33m\u001b[0m\u001b[1;33m\u001b[0m\u001b[0m\n",
      "\u001b[1;32m~\\anaconda3\\lib\\site-packages\\pandas\\core\\generic.py\u001b[0m in \u001b[0;36m__getattr__\u001b[1;34m(self, name)\u001b[0m\n\u001b[0;32m   5137\u001b[0m             \u001b[1;32mif\u001b[0m \u001b[0mself\u001b[0m\u001b[1;33m.\u001b[0m\u001b[0m_info_axis\u001b[0m\u001b[1;33m.\u001b[0m\u001b[0m_can_hold_identifiers_and_holds_name\u001b[0m\u001b[1;33m(\u001b[0m\u001b[0mname\u001b[0m\u001b[1;33m)\u001b[0m\u001b[1;33m:\u001b[0m\u001b[1;33m\u001b[0m\u001b[1;33m\u001b[0m\u001b[0m\n\u001b[0;32m   5138\u001b[0m                 \u001b[1;32mreturn\u001b[0m \u001b[0mself\u001b[0m\u001b[1;33m[\u001b[0m\u001b[0mname\u001b[0m\u001b[1;33m]\u001b[0m\u001b[1;33m\u001b[0m\u001b[1;33m\u001b[0m\u001b[0m\n\u001b[1;32m-> 5139\u001b[1;33m             \u001b[1;32mreturn\u001b[0m \u001b[0mobject\u001b[0m\u001b[1;33m.\u001b[0m\u001b[0m__getattribute__\u001b[0m\u001b[1;33m(\u001b[0m\u001b[0mself\u001b[0m\u001b[1;33m,\u001b[0m \u001b[0mname\u001b[0m\u001b[1;33m)\u001b[0m\u001b[1;33m\u001b[0m\u001b[1;33m\u001b[0m\u001b[0m\n\u001b[0m\u001b[0;32m   5140\u001b[0m \u001b[1;33m\u001b[0m\u001b[0m\n\u001b[0;32m   5141\u001b[0m     \u001b[1;32mdef\u001b[0m \u001b[0m__setattr__\u001b[0m\u001b[1;33m(\u001b[0m\u001b[0mself\u001b[0m\u001b[1;33m,\u001b[0m \u001b[0mname\u001b[0m\u001b[1;33m:\u001b[0m \u001b[0mstr\u001b[0m\u001b[1;33m,\u001b[0m \u001b[0mvalue\u001b[0m\u001b[1;33m)\u001b[0m \u001b[1;33m->\u001b[0m \u001b[1;32mNone\u001b[0m\u001b[1;33m:\u001b[0m\u001b[1;33m\u001b[0m\u001b[1;33m\u001b[0m\u001b[0m\n",
      "\u001b[1;31mAttributeError\u001b[0m: 'DataFrame' object has no attribute 'new_vectors'"
     ]
    }
   ],
   "source": [
    "\n",
    "#grid = { 'penalty' : ('elasticnet','l1'), 'l1_ratio' : [0.1,0.2,0.3,0.4,0.45,0.5,0.6,0.7]}\n",
    "cv = KFold(n_splits = 5, shuffle = True, random_state = 241) \n",
    "clf = XGBClassifier(error = 'auc', objective = 'binary:logistic',  n_jobs=-1 n_estimators = 500, max_depth=10)\n",
    "\n",
    "weights = {0:1.0, 1:1.0}\n",
    "\n",
    "Trans = ColumnTransformer(transformers=[\n",
    "('tfidf', TfidfVectorizer(), 'new_vectors')])\n",
    "pipeline = Pipeline([\n",
    "    ('tfidf', Trans),\n",
    "    ('clf', clf)\n",
    "])\n",
    "\n",
    "\n",
    "\n",
    "parameters = {\n",
    "    'tfidf__tfidf__max_df': (0.4,  0.75), \n",
    "    'tfidf__tfidf__min_df': (None, 0.0005),\n",
    "    'tfidf__tfidf__max_features': (None, 1000),\n",
    "    'tfidf__tfidf__ngram_range': ((1, 1), (1, 2)),  # unigrams or bigrams\n",
    "    'tfidf__tfidf__use_idf': (True, False),\n",
    "    'tfidf__tfidf__norm': ['l2'],\n",
    "   \n",
    "    \n",
    "    'clf__max_depth': (None,10,20),\n",
    "    'clf__scale_pos_weight' : [1,10,100],\n",
    "    'clf__n_estimators': [500],\n",
    "}\n",
    "\n",
    "cv = ShuffleSplit(test_size=0.20, n_splits=1, random_state=0)\n",
    "grad_class  = GridSearchCV(pipeline, parameters, n_jobs=-1, verbose=1, scoring = 'roc_auc', cv  = cv)\n",
    "\n",
    "for  i in tqdm( ['Услуги','Для дома и дачи', 'Бытовая электроника', 'Хобби и отдых',\n",
    "       'Работа', 'Животные']):\n",
    "    \n",
    "    df_test = val_data[val_data.category == i]\n",
    "    df_train = train_data[train_data.category == i]\n",
    "    \n",
    "    vectorizer = TfidfVectorizer(ngram_range=(1, 3), max_df = 0.8, min_df = 0.0005, max_features =1000)\n",
    "    enc = DictVectorizer() \n",
    "\n",
    "    dense_vectors_train = vectorizer.fit_transform(df_train.new_vectors)\n",
    "    dense_vectors_test = vectorizer.transform(df_test.new_vectors)\n",
    "#     df_train_categ = enc.fit_transform(df[['price']].to_dict('records')) \n",
    "    \n",
    "    categ_train = enc.fit_transform(df_train[['max_len','words_amount','normalized_max','text_length']].to_dict('records'))\n",
    "    categ_test = enc.transform(df_test[['max_len','words_amount','normalized_max','text_length','avg_word_lngth']].to_dict('records'))\n",
    "    \n",
    "    X_train = hstack([dense_vectors_train,categ_train])\n",
    "    X_test = hstack([dense_vectors_test,categ_test])\n",
    "\n",
    "    y_train = df_train.is_bad.values\n",
    "    y_test =  df_test.is_bad.values\n",
    "    \n",
    "    #   X_train, X_test, y_train, y_test= train_test_split(dense_vectors, df.label.values, test_size=0.2, random_state=0) # давай ещё вспомним про 1 и -1 вместо 0 и 1\n",
    "#     grad_class.fit(df[['subcategory', 'cat_freq', 'max_len','words_amount','normalized_max','text_length', 'region','new_vectors']], df.label.values)\n",
    "\n",
    "    #   grad_class_eval = grad_class.predict_proba(X_train[round(y_train.shape[0]*0.8):])[:,1]\n",
    "    #   grad_class_pred = grad_class.predict_proba(X_test)[:,1]\n",
    "    \n",
    "#     grad_class.fit(df_train[['max_len','words_amount','normalized_max','text_length','new_vectors']],df_train.is_bad)\n",
    "#     predictions =grad_class.predict_proba(df_test[['max_len','words_amount','normalized_max','text_length','new_vectors']])[:,1]\n",
    "#     print(grad_class.best_params_, ' ',roc_auc_score(df_test.is_bad,predictions))\n",
    "    clf.fit(X_train,y_train)\n",
    "    predictions =  clf.predict_proba(X_test)[:,1]\n",
    "    print(i, ' ',roc_auc_score(y_test,predictions))\n",
    "  \n",
    " # c.append(roc_auc_score(y_test,grad_class_pred))\n",
    "  # d.append(roc_auc_score(y_test,grad_boost_pred))\n",
    "  # e.append(roc_auc_score(y_test,log_reg_pred))\n"
   ]
  },
  {
   "cell_type": "markdown",
   "metadata": {},
   "source": []
  },
  {
   "cell_type": "markdown",
   "metadata": {},
   "source": [
    "# Лучшие параметры обучения моделей"
   ]
  },
  {
   "cell_type": "markdown",
   "metadata": {
    "id": "pCcmTGhWg1Nt"
   },
   "source": [
    "\n",
    "**Для бизнеса**\n",
    "*{'clf__max_depth': 10, 'clf__n_estimators': 500, 'clf__scale_pos_weight': 1, 'tfidf__tfidf__max_df': 0.75, 'tfidf__tfidf__max_features': None, 'tfidf__tfidf__min_df': 0.0005, 'tfidf__tfidf__ngram_range': (1, 2), 'tfidf__tfidf__norm': 'l2', 'tfidf__tfidf__use_idf': True}*    **0.9145274376745796 XGB**\n",
    "\n",
    "**Для дома и дачи**\n",
    "*{'clf__max_depth': 20, 'clf__n_estimators': 500, 'clf__scale_pos_weight': 1, 'tfidf__tfidf__max_df': 0.4, 'tfidf__tfidf__max_features': None, 'tfidf__tfidf__min_df': 0.0005, 'tfidf__tfidf__ngram_range': (1, 2), 'tfidf__tfidf__norm': 'l2', 'tfidf__tfidf__use_idf': False}*   **0.9047643413700036 XGB**\n",
    "\n",
    "\n",
    "**Транспорт**\n",
    "*{'clf__l1_ratio': 0.2, 'clf__penalty': 'elasticnet', 'tfidf__max_df': 0.4, 'tfidf__max_features': None, 'tfidf__ngram_range': (1, 1), 'tfidf__norm': 'l2', 'tfidf__use_idf': True}* **0.9598336933051392  SGD**\n",
    "\n",
    "**Недвижимость**\n",
    "*{'clf__l1_ratio': 0.2, 'clf__penalty': 'elasticnet', 'tfidf__max_df': 1.0, 'tfidf__max_features': None, 'tfidf__ngram_range': (1, 2), 'tfidf__norm': 'l2', 'tfidf__use_idf': True}*   **0.9052561525363874 SGD**\n",
    "\n",
    "**'Услуги',**\n",
    "{'clf__max_depth': 20, 'clf__n_estimators': 500, 'clf__scale_pos_weight': 1, 'tfidf__tfidf__max_df': 0.75, 'tfidf__tfidf__max_features': None, 'tfidf__tfidf__min_df': 0.0005, 'tfidf__tfidf__ngram_range': (1, 1), 'tfidf__tfidf__norm': 'l2', 'tfidf__tfidf__use_idf': True}  ***0.8873351087992447** XGB*\n",
    "\n",
    "**Бытовая электроника**\n",
    "{'clf__max_depth': 20, 'clf__n_estimators': 500, 'clf__scale_pos_weight': 1, 'tfidf__tfidf__max_df': 0.75, 'tfidf__tfidf__max_features': None, 'tfidf__tfidf__min_df': 0.0005, 'tfidf__tfidf__ngram_range': (1, 2), 'tfidf__tfidf__norm': 'l2', 'tfidf__tfidf__use_idf': False}   **0.9523663432267885** XGB\n",
    " \n",
    "\n",
    "**Хобби и отдых',**\n",
    "{'clf__max_depth': 10, 'clf__n_estimators': 500, 'clf__scale_pos_weight': 1, 'tfidf__tfidf__max_df': 0.4, 'tfidf__tfidf__max_features': None, 'tfidf__tfidf__min_df': 0.0005, 'tfidf__tfidf__ngram_range': (1, 2), 'tfidf__tfidf__norm': 'l2', 'tfidf__tfidf__use_idf': False}   **0.880266903084317** XGB\n",
    "\n",
    "\n",
    "**Работа**\n",
    "{'clf__max_depth': 20, 'clf__n_estimators': 500, 'clf__scale_pos_weight': 1, 'tfidf__tfidf__max_df': 0.75, 'tfidf__tfidf__max_features': None, 'tfidf__tfidf__min_df': 0.0005, 'tfidf__tfidf__ngram_range': (1, 2), 'tfidf__tfidf__norm': 'l2', 'tfidf__tfidf__use_idf': False}   **0.9002906190862395** XGB\n",
    "\n",
    "\n",
    "**Животные**\n",
    "Животные   {'max_depth': 5}\n",
    "(ngram_range=(1, 3), max_df = 0.4, min_df = 0.01)\n",
    "XGBClassifier(error = 'auc', objective = 'binary:logistic',  n_jobs=-1, n_estimators = 100,scale_pos_weight = 1000)\n",
    "['english_letter_amount','keywords_amount','naive_detect','letter_number_amount','emoji_number_amount','plus_coma']\n",
    "***0.9145578231292517   XGB***\n",
    "\n",
    "\n",
    "\n",
    "**'Личные вещи',**\n",
    "{'clf__class_weight': {-1: 100, 1: 1}, 'clf__kernel': 'poly', 'tfidf__max_df': 0.6, 'tfidf__max_features': 10000, 'tfidf__ngram_range': (1, 1), 'tfidf__norm': 'l2', 'tfidf__use_idf': True}   **0.9156026369950421** SVM SVC Проверить на метку класса при обучении\n",
    "\n",
    "\n"
   ]
  },
  {
   "cell_type": "code",
   "execution_count": null,
   "metadata": {
    "id": "ictcL-dzae5e"
   },
   "outputs": [],
   "source": [
    "from sklearn.model_selection import cross_val_score\n",
    "test_vector = TfidfVectorizer(max_df =0.6, max_features = 1000, ngram_range = (1, 2), norm =  'l2', use_idf= True)\n",
    "test_class = SGDClassifier(l1_ratio = 0.8, penalty = 'elasticnet')\n",
    "df = val_data[val_data.category == 'Для бизнеса']\n",
    "X_X = test_vector.fit_transform(df.new_vectors)\n",
    "print(cross_val_score(test_class, X_X , df.label.values, cv=5,scoring = 'roc_auc'))"
   ]
  },
  {
   "cell_type": "markdown",
   "metadata": {
    "id": "fuUqvkjPaiK0"
   },
   "source": [
    "# Обучение и сохранение финальных моделей"
   ]
  },
  {
   "cell_type": "code",
   "execution_count": 16,
   "metadata": {
    "id": "9AV60szm4sPZ"
   },
   "outputs": [
    {
     "data": {
      "text/plain": [
       "Pipeline(steps=[('tfidf',\n",
       "                 TfidfVectorizer(input={'tfidf__max_df': 0.4,\n",
       "                                        'tfidf__max_features': None,\n",
       "                                        'tfidf__ngram_range': (1, 1),\n",
       "                                        'tfidf__norm': 'l2',\n",
       "                                        'tfidf__use_idf': True})),\n",
       "                ('clf',\n",
       "                 SGDClassifier(l1_ratio=0.2, loss='log',\n",
       "                               penalty='elasticnet'))])"
      ]
     },
     "execution_count": 16,
     "metadata": {},
     "output_type": "execute_result"
    }
   ],
   "source": [
    "from joblib import dump, load\n",
    "from sklearn.pipeline import Pipeline\n",
    "\n",
    "val_data['label'] = list(map(lambda x: 1 if (x==1) else -1, val_data.is_bad)) # !!!!!!!!!!!!!!!!!!!!!\n",
    "SGD_train = val_data[val_data.category == 'Транспорт']\n",
    "SGD_label = SGD_train.label\n",
    "SGD_train = SGD_train.new_vectors\n",
    "\n",
    "\n",
    "clf = SGDClassifier(l1_ratio= 0.2,penalty='elasticnet', loss = 'log')\n",
    "params = {'tfidf__max_df': 0.4, 'tfidf__max_features': None,\n",
    " 'tfidf__ngram_range': (1, 1), 'tfidf__norm': 'l2', 'tfidf__use_idf': True}\n",
    "Trans = TfidfVectorizer(params)\n",
    "transport  = Pipeline([\n",
    "    ('tfidf', Trans),              # Вопрос - проактит ли то, что я обучил SGD на 0 и 1 \n",
    "    ('clf', clf)])\n",
    "transport.fit(SGD_train,SGD_label)"
   ]
  },
  {
   "cell_type": "code",
   "execution_count": 17,
   "metadata": {
    "id": "CM4-8wqUCJ5Y"
   },
   "outputs": [
    {
     "data": {
      "text/plain": [
       "['transport.joblib']"
      ]
     },
     "execution_count": 17,
     "metadata": {},
     "output_type": "execute_result"
    }
   ],
   "source": [
    "from joblib import dump, load\n",
    "dump(transport, 'transport.joblib') "
   ]
  },
  {
   "cell_type": "code",
   "execution_count": null,
   "metadata": {
    "id": "OGJrcnpuCU90"
   },
   "outputs": [],
   "source": [
    "{'clf__max_depth': 10, 'clf__n_estimators': 500, 'clf__scale_pos_weight': 1, \n",
    "0.927263811703171 XGB"
   ]
  },
  {
   "cell_type": "code",
   "execution_count": 96,
   "metadata": {
    "id": "tfo0MEn-TEgF"
   },
   "outputs": [
    {
     "data": {
      "text/plain": [
       "Pipeline(steps=[('tfidf',\n",
       "                 ColumnTransformer(transformers=[('tfidf',\n",
       "                                                  TfidfVectorizer(input={'tfidf__tfidf__max_df': 0.75,\n",
       "                                                                         'tfidf__tfidf__max_features': None,\n",
       "                                                                         'tfidf__tfidf__min_df': 0.0005,\n",
       "                                                                         'tfidf__tfidf__ngram_range': (1,\n",
       "                                                                                                       2),\n",
       "                                                                         'tfidf__tfidf__norm': 'l2',\n",
       "                                                                         'tfidf__tfidf__use_idf': True}),\n",
       "                                                  'new_vectors')])),\n",
       "                ('clf',\n",
       "                 XGBClassifier(error='auc', max_depth=10, n_estimators=500,\n",
       "                               n_jobs=-1))])"
      ]
     },
     "execution_count": 96,
     "metadata": {},
     "output_type": "execute_result"
    }
   ],
   "source": [
    "XGB_train = train_data[train_data.category == 'Для бизнеса'] \n",
    "XGB_label = XGB_train.is_bad\n",
    "XGB_train = XGB_train[['max_len','words_amount','normalized_max','text_length','new_vectors']]\n",
    "\n",
    "params = {'tfidf__tfidf__max_df': 0.75, 'tfidf__tfidf__max_features': None, 'tfidf__tfidf__min_df': 0.0005, \n",
    "             'tfidf__tfidf__ngram_range': (1, 2), 'tfidf__tfidf__norm': 'l2', 'tfidf__tfidf__use_idf': True}\n",
    "clf = XGBClassifier(error = 'auc', objective = 'binary:logistic',  n_jobs=-1, n_estimators = 500, max_depth=10, scale_pos_weight =1)\n",
    "Trans = ColumnTransformer(transformers=[\n",
    "('tfidf', TfidfVectorizer(params), 'new_vectors')])\n",
    "\n",
    "business = Pipeline([\n",
    "    ('tfidf', Trans),\n",
    "    ('clf', clf)])\n",
    "\n",
    "business.fit(XGB_train,XGB_label)"
   ]
  },
  {
   "cell_type": "code",
   "execution_count": 97,
   "metadata": {
    "id": "pD--lJ8WCYmx"
   },
   "outputs": [
    {
     "data": {
      "text/plain": [
       "['business.joblib']"
      ]
     },
     "execution_count": 97,
     "metadata": {},
     "output_type": "execute_result"
    }
   ],
   "source": [
    "dump(business, 'business.joblib')"
   ]
  },
  {
   "cell_type": "code",
   "execution_count": 98,
   "metadata": {
    "id": "eAEwBpNbTFiY"
   },
   "outputs": [
    {
     "name": "stderr",
     "output_type": "stream",
     "text": [
      "D:\\Anaconda3\\lib\\site-packages\\sklearn\\utils\\validation.py:70: FutureWarning: Pass input={'tfidf__tfidf__max_df': 0.4, 'tfidf__tfidf__max_features': None, 'tfidf__tfidf__min_df': 0.0005, 'tfidf__tfidf__ngram_range': (1, 2), 'tfidf__tfidf__norm': 'l2', 'tfidf__tfidf__use_idf': False} as keyword args. From version 0.25 passing these as positional arguments will result in an error\n",
      "  FutureWarning)\n"
     ]
    },
    {
     "data": {
      "text/plain": [
       "['Home_country.joblib']"
      ]
     },
     "execution_count": 98,
     "metadata": {},
     "output_type": "execute_result"
    }
   ],
   "source": [
    "# **Для дома и дачи**\n",
    " # **0.9318839611719654** XGB\n",
    "\n",
    "\n",
    "\n",
    "XGB_train = train_data[train_data.category == 'Для дома и дачи'] \n",
    "XGB_label = XGB_train.is_bad\n",
    "XGB_train = XGB_train[['max_len','words_amount','normalized_max','text_length','new_vectors']]\n",
    "\n",
    "params = {'tfidf__tfidf__max_df': 0.4, \n",
    " 'tfidf__tfidf__max_features': None, 'tfidf__tfidf__min_df': 0.0005, 'tfidf__tfidf__ngram_range': (1, 2), \n",
    " 'tfidf__tfidf__norm': 'l2', 'tfidf__tfidf__use_idf': False} \n",
    "\n",
    "clf = XGBClassifier(error = 'auc', objective = 'binary:logistic',  n_jobs=-1, n_estimators = 500, max_depth=20, scale_pos_weight =1)\n",
    "Trans = ColumnTransformer(transformers=[\n",
    "('tfidf', TfidfVectorizer(params), 'new_vectors')])\n",
    "\n",
    "Home_country = Pipeline([\n",
    "    ('tfidf', Trans),\n",
    "    ('clf', clf)])\n",
    "\n",
    "Home_country.fit(XGB_train,XGB_label)\n",
    "dump(Home_country, 'Home_country.joblib') "
   ]
  },
  {
   "cell_type": "code",
   "execution_count": 99,
   "metadata": {
    "id": "PqUn84sdQ1Bd"
   },
   "outputs": [
    {
     "name": "stderr",
     "output_type": "stream",
     "text": [
      "D:\\Anaconda3\\lib\\site-packages\\sklearn\\utils\\validation.py:70: FutureWarning: Pass input={'tfidf__tfidf__max_df': 0.6, 'tfidf__tfidf__max_features': None, 'tfidf__tfidf__min_df': 0.0005, 'tfidf__tfidf__ngram_range': (1, 2), 'tfidf__tfidf__norm': 'l2', 'tfidf__tfidf__use_idf': True} as keyword args. From version 0.25 passing these as positional arguments will result in an error\n",
      "  FutureWarning)\n"
     ]
    },
    {
     "data": {
      "text/plain": [
       "['Services.joblib']"
      ]
     },
     "execution_count": 99,
     "metadata": {},
     "output_type": "execute_result"
    }
   ],
   "source": [
    "# **'Услуги',**\n",
    "#   ***0.8873351087992447** XGB*\n",
    "\n",
    "XGB_train = train_data[train_data.category == 'Услуги'] \n",
    "XGB_label = XGB_train.is_bad\n",
    "XGB_train = XGB_train[['max_len','words_amount','normalized_max','text_length','new_vectors']]\n",
    "\n",
    "params = {'tfidf__tfidf__max_df': 0.6,\n",
    " 'tfidf__tfidf__max_features': None, 'tfidf__tfidf__min_df': 0.0005, 'tfidf__tfidf__ngram_range': (1, 2),\n",
    " 'tfidf__tfidf__norm': 'l2', 'tfidf__tfidf__use_idf': True}\n",
    "\n",
    "clf = XGBClassifier(error = 'auc', objective = 'binary:logistic',  n_jobs=-1, n_estimators = 500, max_depth=10, scale_pos_weight =1)\n",
    "Trans = ColumnTransformer(transformers=[\n",
    "('tfidf', TfidfVectorizer(params), 'new_vectors')])\n",
    "\n",
    "Services = Pipeline([\n",
    "    ('tfidf', Trans),\n",
    "    ('clf', clf)])\n",
    "\n",
    "Services.fit(XGB_train,XGB_label)\n",
    "dump(Services, 'Services.joblib') "
   ]
  },
  {
   "cell_type": "code",
   "execution_count": 104,
   "metadata": {
    "id": "3cHgJaetDIiv"
   },
   "outputs": [
    {
     "data": {
      "text/plain": [
       "['Electronics.joblib']"
      ]
     },
     "execution_count": 104,
     "metadata": {},
     "output_type": "execute_result"
    }
   ],
   "source": [
    "# **Бытовая электроника**\n",
    "\n",
    "\n",
    "XGB_train = train_data[train_data.category == 'Бытовая электроника']\n",
    "XGB_label = XGB_train.is_bad\n",
    "XGB_train = XGB_train[['max_len','words_amount','normalized_max','text_length','new_vectors']]\n",
    "\n",
    "params = {'tfidf__tfidf__max_df': 0.75,\n",
    " 'tfidf__tfidf__max_features': None, 'tfidf__tfidf__min_df': 0.0005, 'tfidf__tfidf__ngram_range': (1, 2),\n",
    " 'tfidf__tfidf__norm': 'l2', 'tfidf__tfidf__use_idf': False}  \n",
    "\n",
    "clf = XGBClassifier(error = 'auc', objective = 'binary:logistic',  n_jobs=-1, n_estimators = 500, max_depth=20, scale_pos_weight =1)\n",
    "Trans = ColumnTransformer(transformers=[\n",
    "('tfidf', TfidfVectorizer(params), 'new_vectors')])\n",
    "\n",
    "Electronics = Pipeline([\n",
    "    ('tfidf', Trans),\n",
    "    ('clf', clf)])\n",
    "\n",
    "Electronics.fit(XGB_train,XGB_label)\n",
    "dump(Services, 'Electronics.joblib') "
   ]
  },
  {
   "cell_type": "code",
   "execution_count": 105,
   "metadata": {
    "id": "qrtT3klDTGmh"
   },
   "outputs": [
    {
     "data": {
      "text/plain": [
       "['Hobby_chill.joblib']"
      ]
     },
     "execution_count": 105,
     "metadata": {},
     "output_type": "execute_result"
    }
   ],
   "source": [
    "# **Хобби и отдых',**\n",
    "\n",
    "#                         0.880266903084317 XGB\n",
    "                        \n",
    "XGB_train = train_data[train_data.category == 'Хобби и отдых']\n",
    "XGB_label = XGB_train.is_bad\n",
    "XGB_train = XGB_train[['max_len','words_amount','normalized_max','text_length','new_vectors']]\n",
    "\n",
    "params = {'tfidf__tfidf__max_df': 0.6, 'tfidf__tfidf__max_features': None, 'tfidf__tfidf__min_df': 0.0005,\n",
    "            'tfidf__tfidf__ngram_range': (1, 2), 'tfidf__tfidf__norm': 'l2', 'tfidf__tfidf__use_idf': True}\n",
    "\n",
    "clf = XGBClassifier(error = 'auc', objective = 'binary:logistic',  n_jobs=-1, n_estimators = 500, max_depth=10, scale_pos_weight =1)\n",
    "Trans = ColumnTransformer(transformers=[\n",
    "('tfidf', TfidfVectorizer(params), 'new_vectors')])\n",
    "\n",
    "Hobby_chill = Pipeline([\n",
    "    ('tfidf', Trans),\n",
    "    ('clf', clf)])\n",
    "\n",
    "Hobby_chill.fit(XGB_train,XGB_label)\n",
    "dump(Hobby_chill, 'Hobby_chill.joblib')                         "
   ]
  },
  {
   "cell_type": "code",
   "execution_count": 106,
   "metadata": {
    "id": "sopcNk0w6iqm"
   },
   "outputs": [
    {
     "data": {
      "text/plain": [
       "['Work.joblib']"
      ]
     },
     "execution_count": 106,
     "metadata": {},
     "output_type": "execute_result"
    }
   ],
   "source": [
    "# Работа \n",
    "#  0.9002906190862395 XGB\n",
    "\n",
    "XGB_train = train_data[train_data.category == 'Работа']\n",
    "XGB_label = XGB_train.is_bad\n",
    "XGB_train = XGB_train[['max_len','words_amount','normalized_max','text_length','new_vectors']]\n",
    "\n",
    "params = {'tfidf__tfidf__max_df': 0.6, 'tfidf__tfidf__max_features': None, 'tfidf__tfidf__min_df': 0.0005, \n",
    "        'tfidf__tfidf__ngram_range': (1, 2), 'tfidf__tfidf__norm': 'l2', 'tfidf__tfidf__use_idf': True}\n",
    "\n",
    "clf = XGBClassifier(error = 'auc', objective = 'binary:logistic',  n_jobs=-1, n_estimators = 500, max_depth=10, scale_pos_weight =1)\n",
    "Trans = ColumnTransformer(transformers=[\n",
    "('tfidf', TfidfVectorizer(params), 'new_vectors')])\n",
    "\n",
    "Work = Pipeline([\n",
    "    ('tfidf', Trans),\n",
    "    ('clf', clf)])\n",
    "\n",
    "Work.fit(XGB_train,XGB_label)\n",
    "dump(Work, 'Work.joblib')                         "
   ]
  },
  {
   "cell_type": "code",
   "execution_count": 18,
   "metadata": {},
   "outputs": [
    {
     "name": "stderr",
     "output_type": "stream",
     "text": [
      "D:\\Anaconda3\\lib\\site-packages\\sklearn\\utils\\validation.py:70: FutureWarning: Pass input={'tfidf__max_df': 0.6, 'tfidf__max_features': 10000, 'tfidf__ngram_range': (1, 1), 'tfidf__norm': 'l2', 'tfidf__use_idf': True} as keyword args. From version 0.25 passing these as positional arguments will result in an error\n",
      "  FutureWarning)\n"
     ]
    },
    {
     "data": {
      "text/plain": [
       "['personal_items.joblib']"
      ]
     },
     "execution_count": 18,
     "metadata": {},
     "output_type": "execute_result"
    }
   ],
   "source": [
    "SGD_train = val_data[val_data.category == 'Личные вещи']\n",
    "SGD_label = SGD_train.label\n",
    "SGD_train = SGD_train.new_vectors\n",
    "\n",
    "\n",
    "clf = svm.SVC(class_weight= {-1: 1, 1: 100}, kernel = 'poly', probability= True)\n",
    "params =  {'tfidf__max_df': 0.6, 'tfidf__max_features': 10000, 'tfidf__ngram_range': (1, 1),\n",
    "                'tfidf__norm': 'l2', 'tfidf__use_idf': True}\n",
    "Trans = TfidfVectorizer(params)\n",
    "personal_items  = Pipeline([\n",
    "    ('tfidf', Trans),             \n",
    "    ('clf', clf)])\n",
    "personal_items.fit(SGD_train,SGD_label)\n",
    "dump(personal_items, 'personal_items.joblib') "
   ]
  },
  {
   "cell_type": "code",
   "execution_count": 21,
   "metadata": {},
   "outputs": [
    {
     "name": "stderr",
     "output_type": "stream",
     "text": [
      "D:\\Anaconda3\\lib\\site-packages\\sklearn\\utils\\validation.py:70: FutureWarning: Pass input={'tfidf__max_df': 1.0, 'tfidf__max_features': None, 'tfidf__ngram_range': (1, 2), 'tfidf__norm': 'l2', 'tfidf__use_idf': True} as keyword args. From version 0.25 passing these as positional arguments will result in an error\n",
      "  FutureWarning)\n"
     ]
    },
    {
     "data": {
      "text/plain": [
       "['realty.joblib']"
      ]
     },
     "execution_count": 21,
     "metadata": {},
     "output_type": "execute_result"
    }
   ],
   "source": [
    "# Недвижимость \n",
    "#  0.9221722594763471 SGD\n",
    "\n",
    "\n",
    "SGD_train = val_data[val_data.category == 'Недвижимость']\n",
    "SGD_label = SGD_train.label\n",
    "SGD_train = SGD_train.new_vectors\n",
    "\n",
    "\n",
    "clf = SGDClassifier(l1_ratio= 0.2,penalty='elasticnet', loss = 'log')\n",
    "\n",
    "params = {'tfidf__max_df': 1.0, 'tfidf__max_features': None, 'tfidf__ngram_range': (1, 2), 'tfidf__norm': 'l2', \n",
    " 'tfidf__use_idf': True}\n",
    "Trans = TfidfVectorizer(params)\n",
    "realty  = Pipeline([\n",
    "    ('tfidf', Trans),              # Вопрос - проактит ли то, что я обучил SGD на 0 и 1 \n",
    "    ('clf', clf)])\n",
    "realty.fit(SGD_train,SGD_label)\n",
    "dump(realty, 'realty.joblib') "
   ]
  },
  {
   "cell_type": "code",
   "execution_count": 22,
   "metadata": {},
   "outputs": [
    {
     "data": {
      "text/plain": [
       "['pets.joblib']"
      ]
     },
     "execution_count": 22,
     "metadata": {},
     "output_type": "execute_result"
    }
   ],
   "source": [
    "# Животные  0.8956916099773243 SGD\n",
    "\n",
    "SGD_train = val_data[val_data.category == 'Животные']\n",
    "SGD_label = SGD_train.label\n",
    "SGD_train = SGD_train.new_vectors\n",
    "\n",
    "\n",
    "clf = SGDClassifier(l1_ratio= 0.4,penalty='elasticnet', loss = 'log')\n",
    "\n",
    "pets = {'tfidf__max_df': 0.75, 'tfidf__max_features': 50000, 'tfidf__ngram_range': (1, 2), 'tfidf__norm': 'l2', \n",
    "          'tfidf__use_idf': True}\n",
    "Trans = TfidfVectorizer(params)\n",
    "pets  = Pipeline([\n",
    "    ('tfidf', Trans),              # Вопрос - проактит ли то, что я обучил SGD на 0 и 1 \n",
    "    ('clf', clf)])\n",
    "pets.fit(SGD_train,SGD_label)\n",
    "dump(pets, 'pets.joblib') "
   ]
  },
  {
   "cell_type": "code",
   "execution_count": 26,
   "metadata": {},
   "outputs": [],
   "source": [
    "train_again = train_data[train_data.category == 'Для дома и дачи']"
   ]
  },
  {
   "cell_type": "code",
   "execution_count": 27,
   "metadata": {},
   "outputs": [],
   "source": [
    "model = load('Country_home.joblib')"
   ]
  },
  {
   "cell_type": "code",
   "execution_count": null,
   "metadata": {},
   "outputs": [],
   "source": [
    "\n",
    "print(roc_auc_score())"
   ]
  },
  {
   "cell_type": "code",
   "execution_count": 43,
   "metadata": {},
   "outputs": [],
   "source": [
    "# \n",
    "texts_only = [['Транспорт','transport.joblib'], ['Личные вещи','personal_items.joblib'],\n",
    "['Недвижимость','realty.joblib'], ['Животные','pets.joblib']]\n",
    "   \n",
    "\n",
    "\n",
    "\n",
    "# Texts + numerical features \n",
    "texts_and_numerical = [['Для бизнеса','business.joblib' ],['Для дома и дачи','Country_home.joblib'],\n",
    "                       ['Услуги','Services.joblib'],['Бытовая электроника','Electronics.joblib'],\n",
    "                       ['Хобби и отдых','Hobby_chill.joblib'],['Работа','Work.joblib']]\n",
    "    "
   ]
  },
  {
   "cell_type": "code",
   "execution_count": 63,
   "metadata": {},
   "outputs": [
    {
     "name": "stdout",
     "output_type": "stream",
     "text": [
      "[array([0.95076377, 0.51839762, 0.30257122, ..., 0.70637687, 0.84072415,\n",
      "       0.52449915]), array([0.04491916, 0.04485966, 0.97824228, ..., 0.04486807, 0.04479324,\n",
      "       0.04488939]), array([0.7933067 , 0.01437309, 0.09831534, ..., 0.08926367, 0.00724316,\n",
      "       0.02380986]), array([0.04385214, 0.92781776, 0.04081477, 0.95278805, 0.0274696 ,\n",
      "       0.00794812, 0.93395797, 0.97123944, 0.0510493 , 0.00887528,\n",
      "       0.0254976 , 0.06873381, 0.03328161, 0.05059038, 0.04689495,\n",
      "       0.96300365, 0.93970814, 0.97211929, 0.94344968, 0.98959911,\n",
      "       0.94218201, 0.01815059, 0.06173639, 0.97764895, 0.94269587,\n",
      "       0.00578812, 0.94236874, 0.92281793, 0.9574739 , 0.96236304,\n",
      "       0.9581291 , 0.99438125, 0.95313284, 0.95986514, 0.99790341,\n",
      "       0.97236064, 0.04976973, 0.93255977, 0.10567994, 0.01668169,\n",
      "       0.02960698, 0.01312015, 0.03397923, 0.07074584, 0.04209642,\n",
      "       0.01867541, 0.98321565, 0.92763625, 0.01831381, 0.02089661,\n",
      "       0.93208562, 0.03195666, 0.03773867, 0.03866898, 0.94588203,\n",
      "       0.02208456, 0.06978837, 0.01986064, 0.95236047, 0.97027028,\n",
      "       0.94644482, 0.95869615, 0.98560245, 0.04594918, 0.03054061,\n",
      "       0.96018162, 0.89524383, 0.94935701, 0.96327349, 0.96061134,\n",
      "       0.96626076, 0.95933018, 0.00204915, 0.96941153, 0.98355726,\n",
      "       0.94807045, 0.9641851 , 0.95398608, 0.01336391, 0.95437673,\n",
      "       0.0060117 , 0.04352694, 0.02007746, 0.02526922, 0.00843452,\n",
      "       0.03702599, 0.05008368, 0.04059477, 0.04506412, 0.05200511,\n",
      "       0.96269147, 0.01540145, 0.05597566, 0.00498391, 0.03364345,\n",
      "       0.96442098, 0.91372594, 0.03403581, 0.06540473, 0.92418366,\n",
      "       0.04484205, 0.00901117, 0.03161257, 0.05566956, 0.93589821,\n",
      "       0.01650038, 0.97884416, 0.0665291 , 0.03728511, 0.00842518,\n",
      "       0.96647296, 0.9625571 , 0.9614513 , 0.93433452, 0.03257434,\n",
      "       0.98491142, 0.04613429, 0.04278375, 0.94972146, 0.98277454,\n",
      "       0.01286898, 0.96481562, 0.0509967 , 0.94644816, 0.02364285,\n",
      "       0.98011021, 0.98229762, 0.98011021, 0.95719981, 0.97617684,\n",
      "       0.0527115 , 0.97238153, 0.96749181, 0.07549449, 0.91379916,\n",
      "       0.03314125, 0.02735285, 0.96767698, 0.96491624, 0.97134812,\n",
      "       0.95055889, 0.95045877, 0.01378445, 0.07089229, 0.0101021 ,\n",
      "       0.98139768, 0.95905659, 0.03555381, 0.01075252, 0.07398894,\n",
      "       0.05520125, 0.953721  , 0.04057144, 0.92483379, 0.93714936,\n",
      "       0.04926861, 0.04994995, 0.0440085 , 0.04729796, 0.96087879,\n",
      "       0.05384789, 0.03339568, 0.96636903, 0.9600389 , 0.04527413,\n",
      "       0.95084632, 0.03581861, 0.97512646, 0.93501399, 0.03372131,\n",
      "       0.03088028, 0.05926517, 0.06118473, 0.92535879, 0.04361585,\n",
      "       0.04236668, 0.06961468, 0.06311236, 0.04927056, 0.97307435,\n",
      "       0.97528694, 0.03182528, 0.94205395, 0.9574861 , 0.02067707,\n",
      "       0.95823473, 0.97617165, 0.96906756, 0.96295915, 0.95447181,\n",
      "       0.95704464, 0.9532203 , 0.02020404, 0.06926234, 0.92964077,\n",
      "       0.03186733, 0.95312237, 0.07207946, 0.04560973, 0.99154924,\n",
      "       0.97917143, 0.99154924, 0.03856557, 0.89873845, 0.03606979,\n",
      "       0.96468323, 0.96922703, 0.02357988, 0.98637895, 0.06253956])]\n"
     ]
    }
   ],
   "source": [
    "a = []\n",
    "for i in texts_only:\n",
    "#     print(i[0], ' ',i[1])\n",
    "    predict_data = val_data[val_data.category == i[0]]\n",
    "    clf = load(i[1])\n",
    "    a.append(clf.predict_proba(predict_data.new_vectors)[:,1])\n",
    "print(a)\n"
   ]
  },
  {
   "cell_type": "code",
   "execution_count": 60,
   "metadata": {},
   "outputs": [
    {
     "data": {
      "text/html": [
       "<div>\n",
       "<style scoped>\n",
       "    .dataframe tbody tr th:only-of-type {\n",
       "        vertical-align: middle;\n",
       "    }\n",
       "\n",
       "    .dataframe tbody tr th {\n",
       "        vertical-align: top;\n",
       "    }\n",
       "\n",
       "    .dataframe thead th {\n",
       "        text-align: right;\n",
       "    }\n",
       "</style>\n",
       "<table border=\"1\" class=\"dataframe\">\n",
       "  <thead>\n",
       "    <tr style=\"text-align: right;\">\n",
       "      <th></th>\n",
       "      <th>max_len</th>\n",
       "      <th>words_amount</th>\n",
       "      <th>normalized_max</th>\n",
       "      <th>text_length</th>\n",
       "    </tr>\n",
       "  </thead>\n",
       "  <tbody>\n",
       "    <tr>\n",
       "      <th>0</th>\n",
       "      <td>11</td>\n",
       "      <td>2</td>\n",
       "      <td>0.578947</td>\n",
       "      <td>19</td>\n",
       "    </tr>\n",
       "    <tr>\n",
       "      <th>1</th>\n",
       "      <td>13</td>\n",
       "      <td>40</td>\n",
       "      <td>0.045296</td>\n",
       "      <td>287</td>\n",
       "    </tr>\n",
       "    <tr>\n",
       "      <th>2</th>\n",
       "      <td>13</td>\n",
       "      <td>60</td>\n",
       "      <td>0.045775</td>\n",
       "      <td>284</td>\n",
       "    </tr>\n",
       "    <tr>\n",
       "      <th>3</th>\n",
       "      <td>14</td>\n",
       "      <td>96</td>\n",
       "      <td>0.019663</td>\n",
       "      <td>712</td>\n",
       "    </tr>\n",
       "    <tr>\n",
       "      <th>4</th>\n",
       "      <td>11</td>\n",
       "      <td>31</td>\n",
       "      <td>0.057292</td>\n",
       "      <td>192</td>\n",
       "    </tr>\n",
       "    <tr>\n",
       "      <th>...</th>\n",
       "      <td>...</td>\n",
       "      <td>...</td>\n",
       "      <td>...</td>\n",
       "      <td>...</td>\n",
       "    </tr>\n",
       "    <tr>\n",
       "      <th>16232</th>\n",
       "      <td>14</td>\n",
       "      <td>51</td>\n",
       "      <td>0.042683</td>\n",
       "      <td>328</td>\n",
       "    </tr>\n",
       "    <tr>\n",
       "      <th>16233</th>\n",
       "      <td>15</td>\n",
       "      <td>53</td>\n",
       "      <td>0.037313</td>\n",
       "      <td>402</td>\n",
       "    </tr>\n",
       "    <tr>\n",
       "      <th>16234</th>\n",
       "      <td>15</td>\n",
       "      <td>158</td>\n",
       "      <td>0.006903</td>\n",
       "      <td>2173</td>\n",
       "    </tr>\n",
       "    <tr>\n",
       "      <th>16235</th>\n",
       "      <td>15</td>\n",
       "      <td>170</td>\n",
       "      <td>0.007626</td>\n",
       "      <td>1967</td>\n",
       "    </tr>\n",
       "    <tr>\n",
       "      <th>16236</th>\n",
       "      <td>12</td>\n",
       "      <td>69</td>\n",
       "      <td>0.025370</td>\n",
       "      <td>473</td>\n",
       "    </tr>\n",
       "  </tbody>\n",
       "</table>\n",
       "<p>16237 rows × 4 columns</p>\n",
       "</div>"
      ],
      "text/plain": [
       "       max_len  words_amount  normalized_max  text_length\n",
       "0           11             2        0.578947           19\n",
       "1           13            40        0.045296          287\n",
       "2           13            60        0.045775          284\n",
       "3           14            96        0.019663          712\n",
       "4           11            31        0.057292          192\n",
       "...        ...           ...             ...          ...\n",
       "16232       14            51        0.042683          328\n",
       "16233       15            53        0.037313          402\n",
       "16234       15           158        0.006903         2173\n",
       "16235       15           170        0.007626         1967\n",
       "16236       12            69        0.025370          473\n",
       "\n",
       "[16237 rows x 4 columns]"
      ]
     },
     "execution_count": 60,
     "metadata": {},
     "output_type": "execute_result"
    }
   ],
   "source": [
    "for i in texts_and_numerical:\n",
    "#     print(i[0], ' ',i[1])\n",
    "    predict_data = val_data[val_data.category == i[0]]\n",
    "    clf = load(i[1])\n",
    "    a.append(clf.predict_proba(predict_data[['max_len','words_amount','normalized_max','text_length','new_vectors']])[:,1])\n",
    "print(a)\n"
   ]
  },
  {
   "cell_type": "code",
   "execution_count": 1,
   "metadata": {},
   "outputs": [
    {
     "name": "stdout",
     "output_type": "stream",
     "text": [
      "Collecting jupyterthemes\n",
      "  Downloading jupyterthemes-0.20.0-py2.py3-none-any.whl (7.0 MB)\n",
      "Collecting lesscpy>=0.11.2\n",
      "  Downloading lesscpy-0.15.0-py2.py3-none-any.whl (46 kB)\n",
      "Requirement already satisfied: matplotlib>=1.4.3 in c:\\users\\roman\\anaconda3\\lib\\site-packages (from jupyterthemes) (3.3.2)\n",
      "Requirement already satisfied: jupyter-core in c:\\users\\roman\\anaconda3\\lib\\site-packages (from jupyterthemes) (4.6.3)\n",
      "Requirement already satisfied: notebook>=5.6.0 in c:\\users\\roman\\anaconda3\\lib\\site-packages (from jupyterthemes) (6.1.4)\n",
      "Requirement already satisfied: ipython>=5.4.1 in c:\\users\\roman\\anaconda3\\lib\\site-packages (from jupyterthemes) (7.19.0)\n",
      "Requirement already satisfied: six in c:\\users\\roman\\anaconda3\\lib\\site-packages (from lesscpy>=0.11.2->jupyterthemes) (1.15.0)\n",
      "Requirement already satisfied: ply in c:\\users\\roman\\anaconda3\\lib\\site-packages (from lesscpy>=0.11.2->jupyterthemes) (3.11)\n",
      "Requirement already satisfied: numpy>=1.15 in c:\\users\\roman\\anaconda3\\lib\\site-packages (from matplotlib>=1.4.3->jupyterthemes) (1.19.2)\n",
      "Requirement already satisfied: cycler>=0.10 in c:\\users\\roman\\anaconda3\\lib\\site-packages (from matplotlib>=1.4.3->jupyterthemes) (0.10.0)\n",
      "Requirement already satisfied: pyparsing!=2.0.4,!=2.1.2,!=2.1.6,>=2.0.3 in c:\\users\\roman\\anaconda3\\lib\\site-packages (from matplotlib>=1.4.3->jupyterthemes) (2.4.7)\n",
      "Requirement already satisfied: kiwisolver>=1.0.1 in c:\\users\\roman\\anaconda3\\lib\\site-packages (from matplotlib>=1.4.3->jupyterthemes) (1.3.0)\n",
      "Requirement already satisfied: pillow>=6.2.0 in c:\\users\\roman\\anaconda3\\lib\\site-packages (from matplotlib>=1.4.3->jupyterthemes) (8.0.1)\n",
      "Requirement already satisfied: certifi>=2020.06.20 in c:\\users\\roman\\anaconda3\\lib\\site-packages (from matplotlib>=1.4.3->jupyterthemes) (2020.6.20)\n",
      "Requirement already satisfied: python-dateutil>=2.1 in c:\\users\\roman\\anaconda3\\lib\\site-packages (from matplotlib>=1.4.3->jupyterthemes) (2.8.1)\n",
      "Requirement already satisfied: traitlets in c:\\users\\roman\\anaconda3\\lib\\site-packages (from jupyter-core->jupyterthemes) (5.0.5)\n",
      "Requirement already satisfied: pywin32>=1.0; sys_platform == \"win32\" in c:\\users\\roman\\anaconda3\\lib\\site-packages (from jupyter-core->jupyterthemes) (227)\n",
      "Requirement already satisfied: Send2Trash in c:\\users\\roman\\anaconda3\\lib\\site-packages (from notebook>=5.6.0->jupyterthemes) (1.5.0)\n",
      "Requirement already satisfied: jupyter-client>=5.3.4 in c:\\users\\roman\\anaconda3\\lib\\site-packages (from notebook>=5.6.0->jupyterthemes) (6.1.7)\n",
      "Requirement already satisfied: jinja2 in c:\\users\\roman\\anaconda3\\lib\\site-packages (from notebook>=5.6.0->jupyterthemes) (2.11.2)\n",
      "Requirement already satisfied: nbformat in c:\\users\\roman\\anaconda3\\lib\\site-packages (from notebook>=5.6.0->jupyterthemes) (5.0.8)\n",
      "Requirement already satisfied: tornado>=5.0 in c:\\users\\roman\\anaconda3\\lib\\site-packages (from notebook>=5.6.0->jupyterthemes) (6.0.4)\n",
      "Requirement already satisfied: pyzmq>=17 in c:\\users\\roman\\anaconda3\\lib\\site-packages (from notebook>=5.6.0->jupyterthemes) (19.0.2)\n",
      "Requirement already satisfied: nbconvert in c:\\users\\roman\\anaconda3\\lib\\site-packages (from notebook>=5.6.0->jupyterthemes) (6.0.7)\n",
      "Requirement already satisfied: prometheus-client in c:\\users\\roman\\anaconda3\\lib\\site-packages (from notebook>=5.6.0->jupyterthemes) (0.8.0)\n",
      "Requirement already satisfied: ipykernel in c:\\users\\roman\\anaconda3\\lib\\site-packages (from notebook>=5.6.0->jupyterthemes) (5.3.4)\n",
      "Requirement already satisfied: argon2-cffi in c:\\users\\roman\\anaconda3\\lib\\site-packages (from notebook>=5.6.0->jupyterthemes) (20.1.0)\n",
      "Requirement already satisfied: terminado>=0.8.3 in c:\\users\\roman\\anaconda3\\lib\\site-packages (from notebook>=5.6.0->jupyterthemes) (0.9.1)\n",
      "Requirement already satisfied: ipython-genutils in c:\\users\\roman\\anaconda3\\lib\\site-packages (from notebook>=5.6.0->jupyterthemes) (0.2.0)\n",
      "Requirement already satisfied: decorator in c:\\users\\roman\\anaconda3\\lib\\site-packages (from ipython>=5.4.1->jupyterthemes) (4.4.2)\n",
      "Requirement already satisfied: prompt-toolkit!=3.0.0,!=3.0.1,<3.1.0,>=2.0.0 in c:\\users\\roman\\anaconda3\\lib\\site-packages (from ipython>=5.4.1->jupyterthemes) (3.0.8)\n",
      "Requirement already satisfied: pygments in c:\\users\\roman\\anaconda3\\lib\\site-packages (from ipython>=5.4.1->jupyterthemes) (2.7.2)\n",
      "Requirement already satisfied: backcall in c:\\users\\roman\\anaconda3\\lib\\site-packages (from ipython>=5.4.1->jupyterthemes) (0.2.0)\n",
      "Requirement already satisfied: jedi>=0.10 in c:\\users\\roman\\anaconda3\\lib\\site-packages (from ipython>=5.4.1->jupyterthemes) (0.17.1)\n",
      "Requirement already satisfied: colorama; sys_platform == \"win32\" in c:\\users\\roman\\anaconda3\\lib\\site-packages (from ipython>=5.4.1->jupyterthemes) (0.4.4)\n",
      "Requirement already satisfied: setuptools>=18.5 in c:\\users\\roman\\anaconda3\\lib\\site-packages (from ipython>=5.4.1->jupyterthemes) (50.3.1.post20201107)\n",
      "Requirement already satisfied: pickleshare in c:\\users\\roman\\anaconda3\\lib\\site-packages (from ipython>=5.4.1->jupyterthemes) (0.7.5)\n",
      "Requirement already satisfied: MarkupSafe>=0.23 in c:\\users\\roman\\anaconda3\\lib\\site-packages (from jinja2->notebook>=5.6.0->jupyterthemes) (1.1.1)\n",
      "Requirement already satisfied: jsonschema!=2.5.0,>=2.4 in c:\\users\\roman\\anaconda3\\lib\\site-packages (from nbformat->notebook>=5.6.0->jupyterthemes) (3.2.0)\n",
      "Requirement already satisfied: mistune<2,>=0.8.1 in c:\\users\\roman\\anaconda3\\lib\\site-packages (from nbconvert->notebook>=5.6.0->jupyterthemes) (0.8.4)\n",
      "Requirement already satisfied: testpath in c:\\users\\roman\\anaconda3\\lib\\site-packages (from nbconvert->notebook>=5.6.0->jupyterthemes) (0.4.4)\n",
      "Requirement already satisfied: entrypoints>=0.2.2 in c:\\users\\roman\\anaconda3\\lib\\site-packages (from nbconvert->notebook>=5.6.0->jupyterthemes) (0.3)\n",
      "Requirement already satisfied: jupyterlab-pygments in c:\\users\\roman\\anaconda3\\lib\\site-packages (from nbconvert->notebook>=5.6.0->jupyterthemes) (0.1.2)\n",
      "Requirement already satisfied: defusedxml in c:\\users\\roman\\anaconda3\\lib\\site-packages (from nbconvert->notebook>=5.6.0->jupyterthemes) (0.6.0)\n",
      "Requirement already satisfied: bleach in c:\\users\\roman\\anaconda3\\lib\\site-packages (from nbconvert->notebook>=5.6.0->jupyterthemes) (3.2.1)\n",
      "Requirement already satisfied: nbclient<0.6.0,>=0.5.0 in c:\\users\\roman\\anaconda3\\lib\\site-packages (from nbconvert->notebook>=5.6.0->jupyterthemes) (0.5.1)\n",
      "Requirement already satisfied: pandocfilters>=1.4.1 in c:\\users\\roman\\anaconda3\\lib\\site-packages (from nbconvert->notebook>=5.6.0->jupyterthemes) (1.4.3)\n",
      "Requirement already satisfied: cffi>=1.0.0 in c:\\users\\roman\\anaconda3\\lib\\site-packages (from argon2-cffi->notebook>=5.6.0->jupyterthemes) (1.14.3)\n",
      "Requirement already satisfied: pywinpty>=0.5 in c:\\users\\roman\\anaconda3\\lib\\site-packages (from terminado>=0.8.3->notebook>=5.6.0->jupyterthemes) (0.5.7)\n",
      "Requirement already satisfied: wcwidth in c:\\users\\roman\\anaconda3\\lib\\site-packages (from prompt-toolkit!=3.0.0,!=3.0.1,<3.1.0,>=2.0.0->ipython>=5.4.1->jupyterthemes) (0.2.5)\n",
      "Requirement already satisfied: parso<0.8.0,>=0.7.0 in c:\\users\\roman\\anaconda3\\lib\\site-packages (from jedi>=0.10->ipython>=5.4.1->jupyterthemes) (0.7.0)\n",
      "Requirement already satisfied: pyrsistent>=0.14.0 in c:\\users\\roman\\anaconda3\\lib\\site-packages (from jsonschema!=2.5.0,>=2.4->nbformat->notebook>=5.6.0->jupyterthemes) (0.17.3)\n",
      "Requirement already satisfied: attrs>=17.4.0 in c:\\users\\roman\\anaconda3\\lib\\site-packages (from jsonschema!=2.5.0,>=2.4->nbformat->notebook>=5.6.0->jupyterthemes) (20.3.0)\n",
      "Requirement already satisfied: webencodings in c:\\users\\roman\\anaconda3\\lib\\site-packages (from bleach->nbconvert->notebook>=5.6.0->jupyterthemes) (0.5.1)\n",
      "Requirement already satisfied: packaging in c:\\users\\roman\\anaconda3\\lib\\site-packages (from bleach->nbconvert->notebook>=5.6.0->jupyterthemes) (20.4)\n",
      "Requirement already satisfied: async-generator in c:\\users\\roman\\anaconda3\\lib\\site-packages (from nbclient<0.6.0,>=0.5.0->nbconvert->notebook>=5.6.0->jupyterthemes) (1.10)\n",
      "Requirement already satisfied: nest-asyncio in c:\\users\\roman\\anaconda3\\lib\\site-packages (from nbclient<0.6.0,>=0.5.0->nbconvert->notebook>=5.6.0->jupyterthemes) (1.4.2)\n",
      "Requirement already satisfied: pycparser in c:\\users\\roman\\anaconda3\\lib\\site-packages (from cffi>=1.0.0->argon2-cffi->notebook>=5.6.0->jupyterthemes) (2.20)\n",
      "Installing collected packages: lesscpy, jupyterthemes\n",
      "Successfully installed jupyterthemes-0.20.0 lesscpy-0.15.0\n"
     ]
    }
   ],
   "source": [
    "!pip install jupyterthemes\n"
   ]
  },
  {
   "cell_type": "code",
   "execution_count": 2,
   "metadata": {},
   "outputs": [
    {
     "name": "stdout",
     "output_type": "stream",
     "text": [
      "Available Themes: \n",
      "   chesterish\n",
      "   grade3\n",
      "   gruvboxd\n",
      "   gruvboxl\n",
      "   monokai\n",
      "   oceans16\n",
      "   onedork\n",
      "   solarizedd\n",
      "   solarizedl\n"
     ]
    }
   ],
   "source": [
    "!jt "
   ]
  }
 ],
 "metadata": {
  "colab": {
   "collapsed_sections": [],
   "name": "Avito_contact_prediction.ipynb",
   "provenance": []
  },
  "kernelspec": {
   "display_name": "Python 3",
   "language": "python",
   "name": "python3"
  },
  "language_info": {
   "codemirror_mode": {
    "name": "ipython",
    "version": 3
   },
   "file_extension": ".py",
   "mimetype": "text/x-python",
   "name": "python",
   "nbconvert_exporter": "python",
   "pygments_lexer": "ipython3",
   "version": "3.8.5"
  }
 },
 "nbformat": 4,
 "nbformat_minor": 1
}
